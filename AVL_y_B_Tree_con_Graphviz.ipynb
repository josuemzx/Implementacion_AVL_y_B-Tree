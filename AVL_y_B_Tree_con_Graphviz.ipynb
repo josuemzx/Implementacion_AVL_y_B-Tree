{
  "nbformat": 4,
  "nbformat_minor": 0,
  "metadata": {
    "colab": {
      "name": "Practica 02: BST, AVL y B-Tree con Graphviz ",
      "provenance": [],
      "collapsed_sections": []
    },
    "kernelspec": {
      "name": "python3",
      "display_name": "Python 3"
    },
    "language_info": {
      "name": "python"
    },
    "widgets": {
      "application/vnd.jupyter.widget-state+json": {
        "f6e1abe71e654f2fa0190d8ede10b422": {
          "model_module": "@jupyter-widgets/controls",
          "model_name": "TabModel",
          "model_module_version": "1.5.0",
          "state": {
            "_dom_classes": [],
            "_model_module": "@jupyter-widgets/controls",
            "_model_module_version": "1.5.0",
            "_model_name": "TabModel",
            "_titles": {
              "0": "AVL Tree",
              "1": "B-Tree"
            },
            "_view_count": null,
            "_view_module": "@jupyter-widgets/controls",
            "_view_module_version": "1.5.0",
            "_view_name": "TabView",
            "box_style": "",
            "children": [
              "IPY_MODEL_c90d6c8ab61541b4b3004b9af7f0de9f",
              "IPY_MODEL_cffc967d9bca4969be466b3f8a534d1d"
            ],
            "layout": "IPY_MODEL_83b0c2014d34444494316462fe64ff24",
            "selected_index": 0
          }
        },
        "c90d6c8ab61541b4b3004b9af7f0de9f": {
          "model_module": "@jupyter-widgets/output",
          "model_name": "OutputModel",
          "model_module_version": "1.0.0",
          "state": {
            "_dom_classes": [],
            "_model_module": "@jupyter-widgets/output",
            "_model_module_version": "1.0.0",
            "_model_name": "OutputModel",
            "_view_count": null,
            "_view_module": "@jupyter-widgets/output",
            "_view_module_version": "1.0.0",
            "_view_name": "OutputView",
            "layout": "IPY_MODEL_e416ee91e02f45d0ba8d343b7a1b7625",
            "msg_id": "",
            "outputs": [
              {
                "output_type": "display_data",
                "data": {
                  "text/plain": "VBox(children=(HBox(children=(Output(),), layout=Layout(border='1px dotted blue', height='350px', overflow='au…",
                  "application/vnd.jupyter.widget-view+json": {
                    "version_major": 2,
                    "version_minor": 0,
                    "model_id": "89937f8fa4954aa18f5b7dda8ea65c22"
                  }
                },
                "metadata": {}
              }
            ]
          }
        },
        "cffc967d9bca4969be466b3f8a534d1d": {
          "model_module": "@jupyter-widgets/output",
          "model_name": "OutputModel",
          "model_module_version": "1.0.0",
          "state": {
            "_dom_classes": [],
            "_model_module": "@jupyter-widgets/output",
            "_model_module_version": "1.0.0",
            "_model_name": "OutputModel",
            "_view_count": null,
            "_view_module": "@jupyter-widgets/output",
            "_view_module_version": "1.0.0",
            "_view_name": "OutputView",
            "layout": "IPY_MODEL_704ec098ac1444c18aa2f7d3658a8674",
            "msg_id": "",
            "outputs": [
              {
                "output_type": "display_data",
                "data": {
                  "text/plain": "HTML(value='<h1>TODO</h1><p>Insert your code here</p>')",
                  "application/vnd.jupyter.widget-view+json": {
                    "version_major": 2,
                    "version_minor": 0,
                    "model_id": "6b936d4d96b3428f8cc7c847bf6e163b"
                  }
                },
                "metadata": {}
              }
            ]
          }
        },
        "83b0c2014d34444494316462fe64ff24": {
          "model_module": "@jupyter-widgets/base",
          "model_name": "LayoutModel",
          "model_module_version": "1.2.0",
          "state": {
            "_model_module": "@jupyter-widgets/base",
            "_model_module_version": "1.2.0",
            "_model_name": "LayoutModel",
            "_view_count": null,
            "_view_module": "@jupyter-widgets/base",
            "_view_module_version": "1.2.0",
            "_view_name": "LayoutView",
            "align_content": null,
            "align_items": null,
            "align_self": null,
            "border": null,
            "bottom": null,
            "display": null,
            "flex": null,
            "flex_flow": null,
            "grid_area": null,
            "grid_auto_columns": null,
            "grid_auto_flow": null,
            "grid_auto_rows": null,
            "grid_column": null,
            "grid_gap": null,
            "grid_row": null,
            "grid_template_areas": null,
            "grid_template_columns": null,
            "grid_template_rows": null,
            "height": "auto",
            "justify_content": null,
            "justify_items": null,
            "left": null,
            "margin": null,
            "max_height": null,
            "max_width": null,
            "min_height": null,
            "min_width": null,
            "object_fit": null,
            "object_position": null,
            "order": null,
            "overflow": null,
            "overflow_x": null,
            "overflow_y": null,
            "padding": null,
            "right": null,
            "top": null,
            "visibility": null,
            "width": "100%"
          }
        },
        "89937f8fa4954aa18f5b7dda8ea65c22": {
          "model_module": "@jupyter-widgets/controls",
          "model_name": "VBoxModel",
          "model_module_version": "1.5.0",
          "state": {
            "_dom_classes": [],
            "_model_module": "@jupyter-widgets/controls",
            "_model_module_version": "1.5.0",
            "_model_name": "VBoxModel",
            "_view_count": null,
            "_view_module": "@jupyter-widgets/controls",
            "_view_module_version": "1.5.0",
            "_view_name": "VBoxView",
            "box_style": "",
            "children": [
              "IPY_MODEL_5a2da00e58f544dab791ee6347312f4e",
              "IPY_MODEL_3487c821fda340abac215aaa16fbdf78",
              "IPY_MODEL_dd9a871de1ee46debec8b6a316ae3a02"
            ],
            "layout": "IPY_MODEL_e5fd55395cbe48188b4019c97a9c98a4"
          }
        },
        "6b936d4d96b3428f8cc7c847bf6e163b": {
          "model_module": "@jupyter-widgets/controls",
          "model_name": "HTMLModel",
          "model_module_version": "1.5.0",
          "state": {
            "_dom_classes": [],
            "_model_module": "@jupyter-widgets/controls",
            "_model_module_version": "1.5.0",
            "_model_name": "HTMLModel",
            "_view_count": null,
            "_view_module": "@jupyter-widgets/controls",
            "_view_module_version": "1.5.0",
            "_view_name": "HTMLView",
            "description": "",
            "description_tooltip": null,
            "layout": "IPY_MODEL_954930d4094e42acbe3e5ea63e30f85e",
            "placeholder": "​",
            "style": "IPY_MODEL_7fe97cfbfe6e4929a377c5b545d93399",
            "value": "<h1>TODO</h1><p>Insert your code here</p>"
          }
        },
        "e416ee91e02f45d0ba8d343b7a1b7625": {
          "model_module": "@jupyter-widgets/base",
          "model_name": "LayoutModel",
          "model_module_version": "1.2.0",
          "state": {
            "_model_module": "@jupyter-widgets/base",
            "_model_module_version": "1.2.0",
            "_model_name": "LayoutModel",
            "_view_count": null,
            "_view_module": "@jupyter-widgets/base",
            "_view_module_version": "1.2.0",
            "_view_name": "LayoutView",
            "align_content": null,
            "align_items": null,
            "align_self": null,
            "border": null,
            "bottom": null,
            "display": null,
            "flex": null,
            "flex_flow": null,
            "grid_area": null,
            "grid_auto_columns": null,
            "grid_auto_flow": null,
            "grid_auto_rows": null,
            "grid_column": null,
            "grid_gap": null,
            "grid_row": null,
            "grid_template_areas": null,
            "grid_template_columns": null,
            "grid_template_rows": null,
            "height": null,
            "justify_content": null,
            "justify_items": null,
            "left": null,
            "margin": null,
            "max_height": null,
            "max_width": null,
            "min_height": null,
            "min_width": null,
            "object_fit": null,
            "object_position": null,
            "order": null,
            "overflow": null,
            "overflow_x": null,
            "overflow_y": null,
            "padding": null,
            "right": null,
            "top": null,
            "visibility": null,
            "width": null
          }
        },
        "704ec098ac1444c18aa2f7d3658a8674": {
          "model_module": "@jupyter-widgets/base",
          "model_name": "LayoutModel",
          "model_module_version": "1.2.0",
          "state": {
            "_model_module": "@jupyter-widgets/base",
            "_model_module_version": "1.2.0",
            "_model_name": "LayoutModel",
            "_view_count": null,
            "_view_module": "@jupyter-widgets/base",
            "_view_module_version": "1.2.0",
            "_view_name": "LayoutView",
            "align_content": null,
            "align_items": null,
            "align_self": null,
            "border": null,
            "bottom": null,
            "display": null,
            "flex": null,
            "flex_flow": null,
            "grid_area": null,
            "grid_auto_columns": null,
            "grid_auto_flow": null,
            "grid_auto_rows": null,
            "grid_column": null,
            "grid_gap": null,
            "grid_row": null,
            "grid_template_areas": null,
            "grid_template_columns": null,
            "grid_template_rows": null,
            "height": null,
            "justify_content": null,
            "justify_items": null,
            "left": null,
            "margin": null,
            "max_height": null,
            "max_width": null,
            "min_height": null,
            "min_width": null,
            "object_fit": null,
            "object_position": null,
            "order": null,
            "overflow": null,
            "overflow_x": null,
            "overflow_y": null,
            "padding": null,
            "right": null,
            "top": null,
            "visibility": null,
            "width": null
          }
        },
        "5a2da00e58f544dab791ee6347312f4e": {
          "model_module": "@jupyter-widgets/controls",
          "model_name": "HBoxModel",
          "model_module_version": "1.5.0",
          "state": {
            "_dom_classes": [],
            "_model_module": "@jupyter-widgets/controls",
            "_model_module_version": "1.5.0",
            "_model_name": "HBoxModel",
            "_view_count": null,
            "_view_module": "@jupyter-widgets/controls",
            "_view_module_version": "1.5.0",
            "_view_name": "HBoxView",
            "box_style": "",
            "children": [
              "IPY_MODEL_1c46ae303c62450d87148515922c9705"
            ],
            "layout": "IPY_MODEL_2b54a401507e4637b59fa8527eca5269"
          }
        },
        "3487c821fda340abac215aaa16fbdf78": {
          "model_module": "@jupyter-widgets/controls",
          "model_name": "HTMLModel",
          "model_module_version": "1.5.0",
          "state": {
            "_dom_classes": [],
            "_model_module": "@jupyter-widgets/controls",
            "_model_module_version": "1.5.0",
            "_model_name": "HTMLModel",
            "_view_count": null,
            "_view_module": "@jupyter-widgets/controls",
            "_view_module_version": "1.5.0",
            "_view_name": "HTMLView",
            "description": "",
            "description_tooltip": null,
            "layout": "IPY_MODEL_720f4eeadf1f441fb6a3cbdde11cbef2",
            "placeholder": "​",
            "style": "IPY_MODEL_94c69d7cef294e3faf904dfb0f67e6da",
            "value": "<p></p>"
          }
        },
        "dd9a871de1ee46debec8b6a316ae3a02": {
          "model_module": "@jupyter-widgets/controls",
          "model_name": "HBoxModel",
          "model_module_version": "1.5.0",
          "state": {
            "_dom_classes": [],
            "_model_module": "@jupyter-widgets/controls",
            "_model_module_version": "1.5.0",
            "_model_name": "HBoxModel",
            "_view_count": null,
            "_view_module": "@jupyter-widgets/controls",
            "_view_module_version": "1.5.0",
            "_view_name": "HBoxView",
            "box_style": "",
            "children": [
              "IPY_MODEL_ced3017f85ec4d47be6e9e75617b9a0d",
              "IPY_MODEL_23831ec5f1c84fecac7f7ef47d850735",
              "IPY_MODEL_dce1e389771549adb816a72c922d8835",
              "IPY_MODEL_2876618bc9774736abcaf0c7f6e33b5f"
            ],
            "layout": "IPY_MODEL_7f8186674f984137b94193a493e9ec8f"
          }
        },
        "e5fd55395cbe48188b4019c97a9c98a4": {
          "model_module": "@jupyter-widgets/base",
          "model_name": "LayoutModel",
          "model_module_version": "1.2.0",
          "state": {
            "_model_module": "@jupyter-widgets/base",
            "_model_module_version": "1.2.0",
            "_model_name": "LayoutModel",
            "_view_count": null,
            "_view_module": "@jupyter-widgets/base",
            "_view_module_version": "1.2.0",
            "_view_name": "LayoutView",
            "align_content": null,
            "align_items": null,
            "align_self": null,
            "border": null,
            "bottom": null,
            "display": null,
            "flex": null,
            "flex_flow": null,
            "grid_area": null,
            "grid_auto_columns": null,
            "grid_auto_flow": null,
            "grid_auto_rows": null,
            "grid_column": null,
            "grid_gap": null,
            "grid_row": null,
            "grid_template_areas": null,
            "grid_template_columns": null,
            "grid_template_rows": null,
            "height": null,
            "justify_content": null,
            "justify_items": null,
            "left": null,
            "margin": null,
            "max_height": null,
            "max_width": null,
            "min_height": null,
            "min_width": null,
            "object_fit": null,
            "object_position": null,
            "order": null,
            "overflow": null,
            "overflow_x": null,
            "overflow_y": null,
            "padding": null,
            "right": null,
            "top": null,
            "visibility": null,
            "width": null
          }
        },
        "954930d4094e42acbe3e5ea63e30f85e": {
          "model_module": "@jupyter-widgets/base",
          "model_name": "LayoutModel",
          "model_module_version": "1.2.0",
          "state": {
            "_model_module": "@jupyter-widgets/base",
            "_model_module_version": "1.2.0",
            "_model_name": "LayoutModel",
            "_view_count": null,
            "_view_module": "@jupyter-widgets/base",
            "_view_module_version": "1.2.0",
            "_view_name": "LayoutView",
            "align_content": null,
            "align_items": null,
            "align_self": null,
            "border": null,
            "bottom": null,
            "display": null,
            "flex": null,
            "flex_flow": null,
            "grid_area": null,
            "grid_auto_columns": null,
            "grid_auto_flow": null,
            "grid_auto_rows": null,
            "grid_column": null,
            "grid_gap": null,
            "grid_row": null,
            "grid_template_areas": null,
            "grid_template_columns": null,
            "grid_template_rows": null,
            "height": null,
            "justify_content": null,
            "justify_items": null,
            "left": null,
            "margin": null,
            "max_height": null,
            "max_width": null,
            "min_height": null,
            "min_width": null,
            "object_fit": null,
            "object_position": null,
            "order": null,
            "overflow": null,
            "overflow_x": null,
            "overflow_y": null,
            "padding": null,
            "right": null,
            "top": null,
            "visibility": null,
            "width": null
          }
        },
        "7fe97cfbfe6e4929a377c5b545d93399": {
          "model_module": "@jupyter-widgets/controls",
          "model_name": "DescriptionStyleModel",
          "model_module_version": "1.5.0",
          "state": {
            "_model_module": "@jupyter-widgets/controls",
            "_model_module_version": "1.5.0",
            "_model_name": "DescriptionStyleModel",
            "_view_count": null,
            "_view_module": "@jupyter-widgets/base",
            "_view_module_version": "1.2.0",
            "_view_name": "StyleView",
            "description_width": ""
          }
        },
        "1c46ae303c62450d87148515922c9705": {
          "model_module": "@jupyter-widgets/output",
          "model_name": "OutputModel",
          "model_module_version": "1.0.0",
          "state": {
            "_dom_classes": [],
            "_model_module": "@jupyter-widgets/output",
            "_model_module_version": "1.0.0",
            "_model_name": "OutputModel",
            "_view_count": null,
            "_view_module": "@jupyter-widgets/output",
            "_view_module_version": "1.0.0",
            "_view_name": "OutputView",
            "layout": "IPY_MODEL_6ae484fa9fce4b3ebbc3b350dcd7b00e",
            "msg_id": "",
            "outputs": [
              {
                "output_type": "display_data",
                "data": {
                  "text/plain": "<graphviz.dot.Digraph at 0x7f0bb54e4650>",
                  "image/svg+xml": "<?xml version=\"1.0\" encoding=\"UTF-8\" standalone=\"no\"?>\n<!DOCTYPE svg PUBLIC \"-//W3C//DTD SVG 1.1//EN\"\n \"http://www.w3.org/Graphics/SVG/1.1/DTD/svg11.dtd\">\n<!-- Generated by graphviz version 2.40.1 (20161225.0304)\n -->\n<!-- Title: %3 Pages: 1 -->\n<svg width=\"199pt\" height=\"123pt\"\n viewBox=\"0.00 0.00 199.00 123.40\" xmlns=\"http://www.w3.org/2000/svg\" xmlns:xlink=\"http://www.w3.org/1999/xlink\">\n<g id=\"graph0\" class=\"graph\" transform=\"scale(1 1) rotate(0) translate(4 119.4)\">\n<title>%3</title>\n<polygon fill=\"#ffffff\" stroke=\"transparent\" points=\"-4,4 -4,-119.4 195,-119.4 195,4 -4,4\"/>\n<!-- __main__.TreeNode object at 0x7f0bb5654c50 -->\n<g id=\"node1\" class=\"node\">\n<title>__main__.TreeNode object at 0x7f0bb5654c50</title>\n<ellipse fill=\"none\" stroke=\"#000000\" cx=\"68.5\" cy=\"-100.9\" rx=\"14.5\" ry=\"14.5\"/>\n<text text-anchor=\"middle\" x=\"68.5\" y=\"-97.2\" font-family=\"Times,serif\" font-size=\"14.00\" fill=\"#000000\">3</text>\n</g>\n<!-- __main__.TreeNode object at 0x7f0bb54cec10 -->\n<g id=\"node2\" class=\"node\">\n<title>__main__.TreeNode object at 0x7f0bb54cec10</title>\n<ellipse fill=\"none\" stroke=\"#000000\" cx=\"14.5\" cy=\"-57.7\" rx=\"14.5\" ry=\"14.5\"/>\n<text text-anchor=\"middle\" x=\"14.5\" y=\"-54\" font-family=\"Times,serif\" font-size=\"14.00\" fill=\"#000000\">1</text>\n</g>\n<!-- __main__.TreeNode object at 0x7f0bb5654c50&#45;&gt;__main__.TreeNode object at 0x7f0bb54cec10 -->\n<g id=\"edge1\" class=\"edge\">\n<title>__main__.TreeNode object at 0x7f0bb5654c50&#45;&gt;__main__.TreeNode object at 0x7f0bb54cec10</title>\n<path fill=\"none\" stroke=\"#000000\" d=\"M57.048,-91.7384C50.3182,-86.3546 41.6335,-79.4068 33.8668,-73.1935\"/>\n<polygon fill=\"#000000\" stroke=\"#000000\" points=\"35.9307,-70.3623 25.9355,-66.8484 31.5578,-75.8284 35.9307,-70.3623\"/>\n</g>\n<!-- __main__.TreeNode object at 0x7f0bb5366fd0 -->\n<g id=\"node3\" class=\"node\">\n<title>__main__.TreeNode object at 0x7f0bb5366fd0</title>\n<ellipse fill=\"none\" stroke=\"#000000\" cx=\"122.5\" cy=\"-57.7\" rx=\"14.5\" ry=\"14.5\"/>\n<text text-anchor=\"middle\" x=\"122.5\" y=\"-54\" font-family=\"Times,serif\" font-size=\"14.00\" fill=\"#000000\">4</text>\n</g>\n<!-- __main__.TreeNode object at 0x7f0bb5654c50&#45;&gt;__main__.TreeNode object at 0x7f0bb5366fd0 -->\n<g id=\"edge2\" class=\"edge\">\n<title>__main__.TreeNode object at 0x7f0bb5654c50&#45;&gt;__main__.TreeNode object at 0x7f0bb5366fd0</title>\n<path fill=\"none\" stroke=\"#000000\" d=\"M79.952,-91.7384C86.6818,-86.3546 95.3665,-79.4068 103.1332,-73.1935\"/>\n<polygon fill=\"#000000\" stroke=\"#000000\" points=\"105.4422,-75.8284 111.0645,-66.8484 101.0693,-70.3623 105.4422,-75.8284\"/>\n</g>\n<!-- __main__.TreeNode object at 0x7f0bb54e4710 -->\n<g id=\"node4\" class=\"node\">\n<title>__main__.TreeNode object at 0x7f0bb54e4710</title>\n<ellipse fill=\"none\" stroke=\"#000000\" cx=\"176.5\" cy=\"-14.5\" rx=\"14.5\" ry=\"14.5\"/>\n<text text-anchor=\"middle\" x=\"176.5\" y=\"-10.8\" font-family=\"Times,serif\" font-size=\"14.00\" fill=\"#000000\">6</text>\n</g>\n<!-- __main__.TreeNode object at 0x7f0bb5366fd0&#45;&gt;__main__.TreeNode object at 0x7f0bb54e4710 -->\n<g id=\"edge3\" class=\"edge\">\n<title>__main__.TreeNode object at 0x7f0bb5366fd0&#45;&gt;__main__.TreeNode object at 0x7f0bb54e4710</title>\n<path fill=\"none\" stroke=\"#000000\" d=\"M133.952,-48.5384C140.6818,-43.1546 149.3665,-36.2068 157.1332,-29.9935\"/>\n<polygon fill=\"#000000\" stroke=\"#000000\" points=\"159.4422,-32.6284 165.0645,-23.6484 155.0693,-27.1623 159.4422,-32.6284\"/>\n</g>\n</g>\n</svg>\n"
                },
                "metadata": {}
              }
            ]
          }
        },
        "2b54a401507e4637b59fa8527eca5269": {
          "model_module": "@jupyter-widgets/base",
          "model_name": "LayoutModel",
          "model_module_version": "1.2.0",
          "state": {
            "_model_module": "@jupyter-widgets/base",
            "_model_module_version": "1.2.0",
            "_model_name": "LayoutModel",
            "_view_count": null,
            "_view_module": "@jupyter-widgets/base",
            "_view_module_version": "1.2.0",
            "_view_name": "LayoutView",
            "align_content": null,
            "align_items": null,
            "align_self": null,
            "border": "1px dotted blue",
            "bottom": null,
            "display": null,
            "flex": null,
            "flex_flow": null,
            "grid_area": null,
            "grid_auto_columns": null,
            "grid_auto_flow": null,
            "grid_auto_rows": null,
            "grid_column": null,
            "grid_gap": null,
            "grid_row": null,
            "grid_template_areas": null,
            "grid_template_columns": null,
            "grid_template_rows": null,
            "height": "350px",
            "justify_content": null,
            "justify_items": null,
            "left": null,
            "margin": null,
            "max_height": null,
            "max_width": null,
            "min_height": null,
            "min_width": null,
            "object_fit": null,
            "object_position": null,
            "order": null,
            "overflow": "auto",
            "overflow_x": null,
            "overflow_y": null,
            "padding": null,
            "right": null,
            "top": null,
            "visibility": null,
            "width": null
          }
        },
        "720f4eeadf1f441fb6a3cbdde11cbef2": {
          "model_module": "@jupyter-widgets/base",
          "model_name": "LayoutModel",
          "model_module_version": "1.2.0",
          "state": {
            "_model_module": "@jupyter-widgets/base",
            "_model_module_version": "1.2.0",
            "_model_name": "LayoutModel",
            "_view_count": null,
            "_view_module": "@jupyter-widgets/base",
            "_view_module_version": "1.2.0",
            "_view_name": "LayoutView",
            "align_content": null,
            "align_items": null,
            "align_self": null,
            "border": null,
            "bottom": null,
            "display": null,
            "flex": null,
            "flex_flow": null,
            "grid_area": null,
            "grid_auto_columns": null,
            "grid_auto_flow": null,
            "grid_auto_rows": null,
            "grid_column": null,
            "grid_gap": null,
            "grid_row": null,
            "grid_template_areas": null,
            "grid_template_columns": null,
            "grid_template_rows": null,
            "height": null,
            "justify_content": null,
            "justify_items": null,
            "left": null,
            "margin": null,
            "max_height": null,
            "max_width": null,
            "min_height": null,
            "min_width": null,
            "object_fit": null,
            "object_position": null,
            "order": null,
            "overflow": null,
            "overflow_x": null,
            "overflow_y": null,
            "padding": null,
            "right": null,
            "top": null,
            "visibility": null,
            "width": null
          }
        },
        "94c69d7cef294e3faf904dfb0f67e6da": {
          "model_module": "@jupyter-widgets/controls",
          "model_name": "DescriptionStyleModel",
          "model_module_version": "1.5.0",
          "state": {
            "_model_module": "@jupyter-widgets/controls",
            "_model_module_version": "1.5.0",
            "_model_name": "DescriptionStyleModel",
            "_view_count": null,
            "_view_module": "@jupyter-widgets/base",
            "_view_module_version": "1.2.0",
            "_view_name": "StyleView",
            "description_width": ""
          }
        },
        "ced3017f85ec4d47be6e9e75617b9a0d": {
          "model_module": "@jupyter-widgets/controls",
          "model_name": "BoundedIntTextModel",
          "model_module_version": "1.5.0",
          "state": {
            "_dom_classes": [],
            "_model_module": "@jupyter-widgets/controls",
            "_model_module_version": "1.5.0",
            "_model_name": "BoundedIntTextModel",
            "_view_count": null,
            "_view_module": "@jupyter-widgets/controls",
            "_view_module_version": "1.5.0",
            "_view_name": "IntTextView",
            "continuous_update": false,
            "description": "Enter Key:",
            "description_tooltip": null,
            "disabled": false,
            "layout": "IPY_MODEL_4972736a5d8d4141951c7fc526848cbe",
            "max": 100,
            "min": 0,
            "step": 2,
            "style": "IPY_MODEL_2752cb944f1b492aac4fd0179c13fa54",
            "value": 6
          }
        },
        "23831ec5f1c84fecac7f7ef47d850735": {
          "model_module": "@jupyter-widgets/controls",
          "model_name": "ButtonModel",
          "model_module_version": "1.5.0",
          "state": {
            "_dom_classes": [],
            "_model_module": "@jupyter-widgets/controls",
            "_model_module_version": "1.5.0",
            "_model_name": "ButtonModel",
            "_view_count": null,
            "_view_module": "@jupyter-widgets/controls",
            "_view_module_version": "1.5.0",
            "_view_name": "ButtonView",
            "button_style": "success",
            "description": "Insert",
            "disabled": false,
            "icon": "",
            "layout": "IPY_MODEL_31a69ecebbd9403a8eeb8442fce9e721",
            "style": "IPY_MODEL_e4402f53bc044cdc8d8a84bbc618b121",
            "tooltip": ""
          }
        },
        "dce1e389771549adb816a72c922d8835": {
          "model_module": "@jupyter-widgets/controls",
          "model_name": "ButtonModel",
          "model_module_version": "1.5.0",
          "state": {
            "_dom_classes": [],
            "_model_module": "@jupyter-widgets/controls",
            "_model_module_version": "1.5.0",
            "_model_name": "ButtonModel",
            "_view_count": null,
            "_view_module": "@jupyter-widgets/controls",
            "_view_module_version": "1.5.0",
            "_view_name": "ButtonView",
            "button_style": "primary",
            "description": "Delete",
            "disabled": false,
            "icon": "",
            "layout": "IPY_MODEL_abe394df90d5483aa06f9954fe95f1f4",
            "style": "IPY_MODEL_0ae63cdd52824519ba93b44350890c82",
            "tooltip": ""
          }
        },
        "2876618bc9774736abcaf0c7f6e33b5f": {
          "model_module": "@jupyter-widgets/controls",
          "model_name": "ButtonModel",
          "model_module_version": "1.5.0",
          "state": {
            "_dom_classes": [],
            "_model_module": "@jupyter-widgets/controls",
            "_model_module_version": "1.5.0",
            "_model_name": "ButtonModel",
            "_view_count": null,
            "_view_module": "@jupyter-widgets/controls",
            "_view_module_version": "1.5.0",
            "_view_name": "ButtonView",
            "button_style": "danger",
            "description": "Clear",
            "disabled": false,
            "icon": "",
            "layout": "IPY_MODEL_a0e94ede905648e88c7492008aa5bf06",
            "style": "IPY_MODEL_566b462049de48eb8053f25203ab3f5d",
            "tooltip": ""
          }
        },
        "7f8186674f984137b94193a493e9ec8f": {
          "model_module": "@jupyter-widgets/base",
          "model_name": "LayoutModel",
          "model_module_version": "1.2.0",
          "state": {
            "_model_module": "@jupyter-widgets/base",
            "_model_module_version": "1.2.0",
            "_model_name": "LayoutModel",
            "_view_count": null,
            "_view_module": "@jupyter-widgets/base",
            "_view_module_version": "1.2.0",
            "_view_name": "LayoutView",
            "align_content": null,
            "align_items": null,
            "align_self": null,
            "border": null,
            "bottom": null,
            "display": null,
            "flex": null,
            "flex_flow": null,
            "grid_area": null,
            "grid_auto_columns": null,
            "grid_auto_flow": null,
            "grid_auto_rows": null,
            "grid_column": null,
            "grid_gap": null,
            "grid_row": null,
            "grid_template_areas": null,
            "grid_template_columns": null,
            "grid_template_rows": null,
            "height": "50px",
            "justify_content": null,
            "justify_items": null,
            "left": null,
            "margin": null,
            "max_height": null,
            "max_width": null,
            "min_height": null,
            "min_width": null,
            "object_fit": null,
            "object_position": null,
            "order": null,
            "overflow": null,
            "overflow_x": null,
            "overflow_y": null,
            "padding": null,
            "right": null,
            "top": null,
            "visibility": null,
            "width": null
          }
        },
        "4972736a5d8d4141951c7fc526848cbe": {
          "model_module": "@jupyter-widgets/base",
          "model_name": "LayoutModel",
          "model_module_version": "1.2.0",
          "state": {
            "_model_module": "@jupyter-widgets/base",
            "_model_module_version": "1.2.0",
            "_model_name": "LayoutModel",
            "_view_count": null,
            "_view_module": "@jupyter-widgets/base",
            "_view_module_version": "1.2.0",
            "_view_name": "LayoutView",
            "align_content": null,
            "align_items": null,
            "align_self": null,
            "border": null,
            "bottom": null,
            "display": null,
            "flex": null,
            "flex_flow": null,
            "grid_area": null,
            "grid_auto_columns": null,
            "grid_auto_flow": null,
            "grid_auto_rows": null,
            "grid_column": null,
            "grid_gap": null,
            "grid_row": null,
            "grid_template_areas": null,
            "grid_template_columns": null,
            "grid_template_rows": null,
            "height": null,
            "justify_content": null,
            "justify_items": null,
            "left": null,
            "margin": null,
            "max_height": null,
            "max_width": null,
            "min_height": null,
            "min_width": null,
            "object_fit": null,
            "object_position": null,
            "order": null,
            "overflow": null,
            "overflow_x": null,
            "overflow_y": null,
            "padding": null,
            "right": null,
            "top": null,
            "visibility": null,
            "width": null
          }
        },
        "2752cb944f1b492aac4fd0179c13fa54": {
          "model_module": "@jupyter-widgets/controls",
          "model_name": "DescriptionStyleModel",
          "model_module_version": "1.5.0",
          "state": {
            "_model_module": "@jupyter-widgets/controls",
            "_model_module_version": "1.5.0",
            "_model_name": "DescriptionStyleModel",
            "_view_count": null,
            "_view_module": "@jupyter-widgets/base",
            "_view_module_version": "1.2.0",
            "_view_name": "StyleView",
            "description_width": ""
          }
        },
        "31a69ecebbd9403a8eeb8442fce9e721": {
          "model_module": "@jupyter-widgets/base",
          "model_name": "LayoutModel",
          "model_module_version": "1.2.0",
          "state": {
            "_model_module": "@jupyter-widgets/base",
            "_model_module_version": "1.2.0",
            "_model_name": "LayoutModel",
            "_view_count": null,
            "_view_module": "@jupyter-widgets/base",
            "_view_module_version": "1.2.0",
            "_view_name": "LayoutView",
            "align_content": null,
            "align_items": null,
            "align_self": null,
            "border": null,
            "bottom": null,
            "display": null,
            "flex": null,
            "flex_flow": null,
            "grid_area": null,
            "grid_auto_columns": null,
            "grid_auto_flow": null,
            "grid_auto_rows": null,
            "grid_column": null,
            "grid_gap": null,
            "grid_row": null,
            "grid_template_areas": null,
            "grid_template_columns": null,
            "grid_template_rows": null,
            "height": null,
            "justify_content": null,
            "justify_items": null,
            "left": null,
            "margin": null,
            "max_height": null,
            "max_width": null,
            "min_height": null,
            "min_width": null,
            "object_fit": null,
            "object_position": null,
            "order": null,
            "overflow": null,
            "overflow_x": null,
            "overflow_y": null,
            "padding": null,
            "right": null,
            "top": null,
            "visibility": null,
            "width": null
          }
        },
        "e4402f53bc044cdc8d8a84bbc618b121": {
          "model_module": "@jupyter-widgets/controls",
          "model_name": "ButtonStyleModel",
          "model_module_version": "1.5.0",
          "state": {
            "_model_module": "@jupyter-widgets/controls",
            "_model_module_version": "1.5.0",
            "_model_name": "ButtonStyleModel",
            "_view_count": null,
            "_view_module": "@jupyter-widgets/base",
            "_view_module_version": "1.2.0",
            "_view_name": "StyleView",
            "button_color": null,
            "font_weight": ""
          }
        },
        "abe394df90d5483aa06f9954fe95f1f4": {
          "model_module": "@jupyter-widgets/base",
          "model_name": "LayoutModel",
          "model_module_version": "1.2.0",
          "state": {
            "_model_module": "@jupyter-widgets/base",
            "_model_module_version": "1.2.0",
            "_model_name": "LayoutModel",
            "_view_count": null,
            "_view_module": "@jupyter-widgets/base",
            "_view_module_version": "1.2.0",
            "_view_name": "LayoutView",
            "align_content": null,
            "align_items": null,
            "align_self": null,
            "border": null,
            "bottom": null,
            "display": null,
            "flex": null,
            "flex_flow": null,
            "grid_area": null,
            "grid_auto_columns": null,
            "grid_auto_flow": null,
            "grid_auto_rows": null,
            "grid_column": null,
            "grid_gap": null,
            "grid_row": null,
            "grid_template_areas": null,
            "grid_template_columns": null,
            "grid_template_rows": null,
            "height": null,
            "justify_content": null,
            "justify_items": null,
            "left": null,
            "margin": null,
            "max_height": null,
            "max_width": null,
            "min_height": null,
            "min_width": null,
            "object_fit": null,
            "object_position": null,
            "order": null,
            "overflow": null,
            "overflow_x": null,
            "overflow_y": null,
            "padding": null,
            "right": null,
            "top": null,
            "visibility": null,
            "width": null
          }
        },
        "0ae63cdd52824519ba93b44350890c82": {
          "model_module": "@jupyter-widgets/controls",
          "model_name": "ButtonStyleModel",
          "model_module_version": "1.5.0",
          "state": {
            "_model_module": "@jupyter-widgets/controls",
            "_model_module_version": "1.5.0",
            "_model_name": "ButtonStyleModel",
            "_view_count": null,
            "_view_module": "@jupyter-widgets/base",
            "_view_module_version": "1.2.0",
            "_view_name": "StyleView",
            "button_color": null,
            "font_weight": ""
          }
        },
        "a0e94ede905648e88c7492008aa5bf06": {
          "model_module": "@jupyter-widgets/base",
          "model_name": "LayoutModel",
          "model_module_version": "1.2.0",
          "state": {
            "_model_module": "@jupyter-widgets/base",
            "_model_module_version": "1.2.0",
            "_model_name": "LayoutModel",
            "_view_count": null,
            "_view_module": "@jupyter-widgets/base",
            "_view_module_version": "1.2.0",
            "_view_name": "LayoutView",
            "align_content": null,
            "align_items": null,
            "align_self": null,
            "border": null,
            "bottom": null,
            "display": null,
            "flex": null,
            "flex_flow": null,
            "grid_area": null,
            "grid_auto_columns": null,
            "grid_auto_flow": null,
            "grid_auto_rows": null,
            "grid_column": null,
            "grid_gap": null,
            "grid_row": null,
            "grid_template_areas": null,
            "grid_template_columns": null,
            "grid_template_rows": null,
            "height": null,
            "justify_content": null,
            "justify_items": null,
            "left": null,
            "margin": null,
            "max_height": null,
            "max_width": null,
            "min_height": null,
            "min_width": null,
            "object_fit": null,
            "object_position": null,
            "order": null,
            "overflow": null,
            "overflow_x": null,
            "overflow_y": null,
            "padding": null,
            "right": null,
            "top": null,
            "visibility": null,
            "width": null
          }
        },
        "566b462049de48eb8053f25203ab3f5d": {
          "model_module": "@jupyter-widgets/controls",
          "model_name": "ButtonStyleModel",
          "model_module_version": "1.5.0",
          "state": {
            "_model_module": "@jupyter-widgets/controls",
            "_model_module_version": "1.5.0",
            "_model_name": "ButtonStyleModel",
            "_view_count": null,
            "_view_module": "@jupyter-widgets/base",
            "_view_module_version": "1.2.0",
            "_view_name": "StyleView",
            "button_color": null,
            "font_weight": ""
          }
        },
        "6ae484fa9fce4b3ebbc3b350dcd7b00e": {
          "model_module": "@jupyter-widgets/base",
          "model_name": "LayoutModel",
          "model_module_version": "1.2.0",
          "state": {
            "_model_module": "@jupyter-widgets/base",
            "_model_module_version": "1.2.0",
            "_model_name": "LayoutModel",
            "_view_count": null,
            "_view_module": "@jupyter-widgets/base",
            "_view_module_version": "1.2.0",
            "_view_name": "LayoutView",
            "align_content": null,
            "align_items": null,
            "align_self": null,
            "border": null,
            "bottom": null,
            "display": null,
            "flex": null,
            "flex_flow": null,
            "grid_area": null,
            "grid_auto_columns": null,
            "grid_auto_flow": null,
            "grid_auto_rows": null,
            "grid_column": null,
            "grid_gap": null,
            "grid_row": null,
            "grid_template_areas": null,
            "grid_template_columns": null,
            "grid_template_rows": null,
            "height": null,
            "justify_content": null,
            "justify_items": null,
            "left": null,
            "margin": null,
            "max_height": null,
            "max_width": null,
            "min_height": null,
            "min_width": null,
            "object_fit": null,
            "object_position": null,
            "order": null,
            "overflow": null,
            "overflow_x": null,
            "overflow_y": null,
            "padding": null,
            "right": null,
            "top": null,
            "visibility": null,
            "width": null
          }
        }
      }
    }
  },
  "cells": [
    {
      "cell_type": "code",
      "execution_count": null,
      "metadata": {
        "id": "t7TwE1Pk_vI4"
      },
      "outputs": [],
      "source": [
        "!pip install ipywidgets==7.7.1"
      ]
    },
    {
      "cell_type": "code",
      "source": [
        "import numpy as np\n",
        "from numpy.random import seed, randint\n",
        "import ipywidgets as widgets \n",
        "from ipywidgets import interact, interactive_output, HBox, VBox, Layout\n",
        "from IPython.display import display, clear_output, SVG, HTML\n",
        "import graphviz as gv \n",
        "from graphviz import Digraph\n",
        "import pydot"
      ],
      "metadata": {
        "id": "0ZCWN_NO_zVu"
      },
      "execution_count": 53,
      "outputs": []
    },
    {
      "cell_type": "markdown",
      "source": [
        "# Clase TreeNode"
      ],
      "metadata": {
        "id": "waKYYobgb0bV"
      }
    },
    {
      "cell_type": "code",
      "source": [
        "class TreeNode:\n",
        "  def __init__(self, key):\n",
        "    self.key = key\n",
        "    self.parent = None\n",
        "    self.left = None\n",
        "    self.right = None\n",
        "    self.pos = [0, 0] \n",
        "    self.col = \"black\" # Color\n",
        "    self.h = 0 # Height\n",
        "  def spos(self):\n",
        "    ''' Position of a node for neato '''\n",
        "    return str(self.pos[0]) + \",\" + str(self.pos[1]) + \"!\"\n",
        "  def to_string(self):\n",
        "    return str(self.key)\n",
        "  def print(self):        \n",
        "    print(\"TreeNode: %d\" % (self.key))"
      ],
      "metadata": {
        "id": "Zp-42CH-_zTm"
      },
      "execution_count": 56,
      "outputs": []
    },
    {
      "cell_type": "code",
      "source": [
        "n10 = TreeNode(10)\n",
        "n5 = TreeNode(5)\n",
        "n14 = TreeNode(14)\n",
        "# Crear árbol vinculando los nodos del árbol\n",
        "n5.parent = n10; n14.parent = n10\n",
        "n10.left = n5 # hijo izquierdo\n",
        "n10.right = n14 # hijo derecho\n",
        "print([n10.to_string(), n10.left.to_string(), n10.right.to_string()])"
      ],
      "metadata": {
        "colab": {
          "base_uri": "https://localhost:8080/"
        },
        "id": "MCiAsNQ657y0",
        "outputId": "fe583d65-a3ea-4887-8d4b-2ba9e63aa05d"
      },
      "execution_count": 54,
      "outputs": [
        {
          "output_type": "stream",
          "name": "stdout",
          "text": [
            "['10', '5', '14']\n"
          ]
        }
      ]
    },
    {
      "cell_type": "markdown",
      "source": [
        "# Binary search tree (BST)"
      ],
      "metadata": {
        "id": "cSS7utg6cBJ8"
      }
    },
    {
      "cell_type": "code",
      "source": [
        "class BST():\n",
        "    def __init__(self):\n",
        "        self.root = None \n",
        "        self.list = [] \n",
        "\n",
        "    def insert(self, k):\n",
        "        ''' Insert a key '''\n",
        "        newNode = TreeNode(k)\n",
        "        # Si el árbol está vacío, el nuevo nodo es la raíz\n",
        "        if self.root == None:\n",
        "            self.root = newNode\n",
        "        else:        \n",
        "            x = self.root\n",
        "            # Buscar nodo primario\n",
        "            while x != None:\n",
        "                p = x\n",
        "                if newNode.key < x.key:\n",
        "                    x = x.left\n",
        "                elif newNode.key >= x.key:\n",
        "                    x = x.right\n",
        "            # Establecer padre, hijo izquierdo y derecho para newNode\n",
        "            newNode.parent = p       \n",
        "            if newNode.key < p.key:\n",
        "                p.left = newNode\n",
        "            else: \n",
        "                p.right = newNode\n",
        "    def insert_keys(self, keys): \n",
        "\n",
        "        for k in keys:\n",
        "            self.insert(k)\n",
        "        \n",
        "    def search(self, x, k):\n",
        "\n",
        "        if (x == None or x.key == k):\n",
        "            return x\n",
        "        if (k < x.key):\n",
        "            return self.search(x.left, k)\n",
        "        else: \n",
        "            return self.search(x.right, k)\n",
        "    def find(self, k):  \n",
        "        return self.search(self.root, k)   \n",
        "    \n",
        "    def transplant(self, u, v):\n",
        "\n",
        "        if (u.parent == None):\n",
        "            self.root = u\n",
        "        elif u == u.parent.left:\n",
        "            u.parent.left = v\n",
        "        else:\n",
        "            u.parent.right = v\n",
        "        if v != None:\n",
        "            v.parent = u.parent\n",
        "            \n",
        "    def tree_minimum(self, x):\n",
        "   \n",
        "        while (x.left != None):\n",
        "            x = x.left\n",
        "        return x;\n",
        "\n",
        "    def tree_max(self, x):\n",
        "\n",
        "        while (x.right != None):\n",
        "            x = x.right\n",
        "        return x;\n",
        "\n",
        "    def delete(self, k):\n",
        "        '''Eliminar nodo con la clave k del árbol '''\n",
        "        z = self.search(self.root, k)\n",
        "        if z == None:\n",
        "            return\n",
        "        if z.left == None: # case 1: z has no left child\n",
        "            self.transplant(z, z.right)\n",
        "        elif z.right == None: # case 2: z has no right child\n",
        "            self.transplant(z, z.left)\n",
        "        else: \n",
        "            y = self.tree_minimum(z.right) # determine smallest value in z.right\n",
        "            if (y.parent != z):\n",
        "                self.transplant(y, y.right)\n",
        "                y.right = z.right\n",
        "                y.right.parent = y\n",
        "            self.transplant(z, y)\n",
        "            y.left = z.left\n",
        "            y.left.parent = y\n",
        "            if (z == self.root):\n",
        "                self.root = y\n",
        "                       \n",
        "    def rotate_left(self, x):\n",
        "      ''' Rotate left on node x'''\n",
        "      y = x.right # set y to be right child\n",
        "      # Gire el subárbol izquierdo de Y al subárbol derecho de X\n",
        "      x.right = y.left\n",
        "      if y.left != None:\n",
        "          y.left.parent = x\n",
        "      y.parent = x.parent # link x's parent to y\n",
        "      if x.parent == None: # Case 1: x is root\n",
        "          self.root = y\n",
        "      elif x == x.parent.left: # Case 2: x is left child\n",
        "          x.parent.left = y\n",
        "      else: # Case 3: x is right child\n",
        "          x.parent.right = y\n",
        "      y.left = x\n",
        "      x.parent = y\n",
        "\n",
        "\n",
        "    def rotate_right(self, x):\n",
        "      y = x.left # set y to be left child\n",
        "      # turn y's left subtree to x's right subtree\n",
        "      x.left = y.right\n",
        "      if y.right != None:\n",
        "          y.right.parent = x\n",
        "      y.parent = x.parent # link x's parent to y\n",
        "      if x.parent == None: # Case 1: x is root\n",
        "          self.root = y\n",
        "      elif x == x.parent.right: # Case 2: x is right child\n",
        "          x.parent.right = y\n",
        "      else: # Case 3: x is left child\n",
        "          x.parent.left = y\n",
        "      y.right = x\n",
        "      x.parent = y\n",
        "        \n",
        "\n",
        "    def height(self, x):\n",
        "        if (x == None):\n",
        "            return 0\n",
        "        else: \n",
        "            return 1 + np.maximum(self.height(x.left),  self.height(x.right))\n",
        "    \n",
        "    def inorder_traversal(self, x):\n",
        "        '''Inorder traversal of the tree: returns elements sorted by key '''\n",
        "        if (x != None):\n",
        "            if (x == self.root):\n",
        "                self.list = []\n",
        "            self.inorder_traversal(x.left)\n",
        "            self.list.append(x.to_string())\n",
        "            self.inorder_traversal(x.right)\n",
        "\n",
        "    def postorder_traversal(self, x):\n",
        "        '''Postorder traversal of the tree: left child, right child, root '''\n",
        "        if (x != None):\n",
        "            if (x == self.root):\n",
        "                self.list = []\n",
        "            self.postorder_traversal(x.left)\n",
        "            self.postorder_traversal(x.right)\n",
        "            self.list.append(x.to_string())\n",
        "        \n",
        "\n",
        "    def visualize(self, node = None):   \n",
        "        ''' Visualize the tree using graphviz '''\n",
        "        tree = self.root              \n",
        "        # Recursively add nodes and edges\n",
        "        def add_nodes_edges(tree, dot=None):\n",
        "            col = \"black\"           \n",
        "            # Create Graphviz Digraph \n",
        "            if dot is None:\n",
        "                dot = Digraph()\n",
        "                dot.node(name=str(tree), label=str(tree.key), \n",
        "                         color = col, shape=\"circle\", fixedsize=\"True\", width=\"0.4\")                      \n",
        "            # Add nodes recursively\n",
        "            if tree.left:            \n",
        "                if (node != None and tree.left.key == node.key):                   \n",
        "                    col = \"green\"  \n",
        "                dot.node(name=str(tree.left), label=str(tree.left.key), \n",
        "                         color = col, shape=\"circle\", fixedsize=\"True\", width=\"0.4\")\n",
        "                dot.edge(str(tree), str(tree.left))\n",
        "                dot = add_nodes_edges(tree.left, dot=dot)               \n",
        "            if tree.right:\n",
        "                if (node != None and tree.right.key == node.key): \n",
        "                    col = \"red\" \n",
        "                dot.node(name=str(tree.right), label=str(tree.right.key), \n",
        "                         color = col, shape=\"circle\", fixedsize=\"True\", width=\"0.4\")\n",
        "                dot.edge(str(tree), str(tree.right))\n",
        "                dot = add_nodes_edges(tree.right, dot=dot)            \n",
        "            return dot        \n",
        "        return add_nodes_edges(tree)   "
      ],
      "metadata": {
        "id": "LkRKsPmS_zRO"
      },
      "execution_count": 55,
      "outputs": []
    },
    {
      "cell_type": "code",
      "source": [
        "class BSTViz: \n",
        "  def __init__(self, bst):\n",
        "      self.bst = bst\n",
        "  def visualize(self):   \n",
        "      ''' Visualize the tree using graphviz '''\n",
        "      tree = self.bst.root # start with root of the tree \n",
        "      dot = Digraph()\n",
        "      dot.engine = 'neato'\n",
        "      # Place root node at position tree.pos \n",
        "      h = self.bst.height(tree)\n",
        "      tree.pos = [0, h]          \n",
        "      dot.node(name=str(tree), label=str(tree.key), color = tree.col, shape=\"circle\", \n",
        "               fixedsize=\"True\", width=\"0.4\", pos=tree.spos())\n",
        "      # Recursively place the other nodes and edges              \n",
        "      def add_nodes(tree, dot):            \n",
        "          if tree.left: # if left subtree: position node to left of parent            \n",
        "              tree.left.pos[0] = tree.pos[0] - h/4 # x\n",
        "              tree.left.pos[1] = tree.pos[1] - 0.6 # y       \n",
        "              dot.node(name=str(tree.left), label=str(tree.left.key), color = tree.left.col, \n",
        "                       shape=\"circle\", fixedsize=\"True\", width=\"0.4\", pos=tree.left.spos())\n",
        "              dot.edge(str(tree), str(tree.left))\n",
        "              dot = add_nodes(tree.left, dot=dot) \n",
        "          if tree.right: # if right subtree: position node to right of parent                    \n",
        "              tree.right.pos[0] = tree.pos[0] + h/4 # x\n",
        "              tree.right.pos[1] = tree.pos[1] - 0.6 # y                \n",
        "              dot.node(name=str(tree.right), label=str(tree.right.key), color = tree.right.col, \n",
        "                       shape=\"circle\", fixedsize=\"True\", width=\"0.4\", pos=tree.right.spos())\n",
        "              dot.edge(str(tree), str(tree.right))\n",
        "              dot = add_nodes(tree.right, dot=dot)                     \n",
        "          return dot \n",
        "      display(add_nodes(tree, dot))  "
      ],
      "metadata": {
        "id": "TN2-gIOsLrSQ"
      },
      "execution_count": 63,
      "outputs": []
    },
    {
      "cell_type": "code",
      "source": [
        "#Insertar nodos\n",
        "bst = BST()\n",
        "print(\"Insertar 10, 30, 20 en BST\")\n",
        "bst.insert_keys([10, 30, 20])\n",
        "dot = bst.visualize()\n",
        "display(dot)\n"
      ],
      "metadata": {
        "colab": {
          "base_uri": "https://localhost:8080/",
          "height": 261
        },
        "id": "PRHuE4ig_SYX",
        "outputId": "8db1447a-0620-4d8b-a0f7-abcc7b83054d"
      },
      "execution_count": 59,
      "outputs": [
        {
          "output_type": "stream",
          "name": "stdout",
          "text": [
            "Insertar 10, 30, 20 en BST\n"
          ]
        },
        {
          "output_type": "display_data",
          "data": {
            "text/plain": [
              "<graphviz.dot.Digraph at 0x7f0bb629ecd0>"
            ],
            "image/svg+xml": "<?xml version=\"1.0\" encoding=\"UTF-8\" standalone=\"no\"?>\n<!DOCTYPE svg PUBLIC \"-//W3C//DTD SVG 1.1//EN\"\n \"http://www.w3.org/Graphics/SVG/1.1/DTD/svg11.dtd\">\n<!-- Generated by graphviz version 2.40.1 (20161225.0304)\n -->\n<!-- Title: %3 Pages: 1 -->\n<svg width=\"37pt\" height=\"167pt\"\n viewBox=\"0.00 0.00 37.00 167.00\" xmlns=\"http://www.w3.org/2000/svg\" xmlns:xlink=\"http://www.w3.org/1999/xlink\">\n<g id=\"graph0\" class=\"graph\" transform=\"scale(1 1) rotate(0) translate(4 163)\">\n<title>%3</title>\n<polygon fill=\"#ffffff\" stroke=\"transparent\" points=\"-4,4 -4,-163 33,-163 33,4 -4,4\"/>\n<!-- __main__.TreeNode object at 0x7f0bb61c5390 -->\n<g id=\"node1\" class=\"node\">\n<title>__main__.TreeNode object at 0x7f0bb61c5390</title>\n<ellipse fill=\"none\" stroke=\"#000000\" cx=\"14.5\" cy=\"-144.5\" rx=\"14.5\" ry=\"14.5\"/>\n<text text-anchor=\"middle\" x=\"14.5\" y=\"-140.8\" font-family=\"Times,serif\" font-size=\"14.00\" fill=\"#000000\">10</text>\n</g>\n<!-- __main__.TreeNode object at 0x7f0bb61c5c50 -->\n<g id=\"node2\" class=\"node\">\n<title>__main__.TreeNode object at 0x7f0bb61c5c50</title>\n<ellipse fill=\"none\" stroke=\"#000000\" cx=\"14.5\" cy=\"-79.5\" rx=\"14.5\" ry=\"14.5\"/>\n<text text-anchor=\"middle\" x=\"14.5\" y=\"-75.8\" font-family=\"Times,serif\" font-size=\"14.00\" fill=\"#000000\">30</text>\n</g>\n<!-- __main__.TreeNode object at 0x7f0bb61c5390&#45;&gt;__main__.TreeNode object at 0x7f0bb61c5c50 -->\n<g id=\"edge1\" class=\"edge\">\n<title>__main__.TreeNode object at 0x7f0bb61c5390&#45;&gt;__main__.TreeNode object at 0x7f0bb61c5c50</title>\n<path fill=\"none\" stroke=\"#000000\" d=\"M14.5,-129.7505C14.5,-122.2709 14.5,-112.9819 14.5,-104.4327\"/>\n<polygon fill=\"#000000\" stroke=\"#000000\" points=\"18.0001,-104.1911 14.5,-94.1911 11.0001,-104.1912 18.0001,-104.1911\"/>\n</g>\n<!-- __main__.TreeNode object at 0x7f0bbc7468d0 -->\n<g id=\"node3\" class=\"node\">\n<title>__main__.TreeNode object at 0x7f0bbc7468d0</title>\n<ellipse fill=\"none\" stroke=\"#000000\" cx=\"14.5\" cy=\"-14.5\" rx=\"14.5\" ry=\"14.5\"/>\n<text text-anchor=\"middle\" x=\"14.5\" y=\"-10.8\" font-family=\"Times,serif\" font-size=\"14.00\" fill=\"#000000\">20</text>\n</g>\n<!-- __main__.TreeNode object at 0x7f0bb61c5c50&#45;&gt;__main__.TreeNode object at 0x7f0bbc7468d0 -->\n<g id=\"edge2\" class=\"edge\">\n<title>__main__.TreeNode object at 0x7f0bb61c5c50&#45;&gt;__main__.TreeNode object at 0x7f0bbc7468d0</title>\n<path fill=\"none\" stroke=\"#000000\" d=\"M14.5,-64.7505C14.5,-57.2709 14.5,-47.9819 14.5,-39.4327\"/>\n<polygon fill=\"#000000\" stroke=\"#000000\" points=\"18.0001,-39.1911 14.5,-29.1911 11.0001,-39.1912 18.0001,-39.1911\"/>\n</g>\n</g>\n</svg>\n"
          },
          "metadata": {}
        }
      ]
    },
    {
      "cell_type": "code",
      "source": [
        "print(\"Rotar el nodo 30\")\n",
        "bst.rotate_right(bst.find(30))\n",
        "dot = bst.visualize()\n",
        "display(dot)\n"
      ],
      "metadata": {
        "colab": {
          "base_uri": "https://localhost:8080/",
          "height": 261
        },
        "id": "v5FPPg-P_dTP",
        "outputId": "e5045062-d674-4a67-e690-5c4555717a0d"
      },
      "execution_count": 60,
      "outputs": [
        {
          "output_type": "stream",
          "name": "stdout",
          "text": [
            "Rotar el nodo 30\n"
          ]
        },
        {
          "output_type": "display_data",
          "data": {
            "text/plain": [
              "<graphviz.dot.Digraph at 0x7f0bb56b1090>"
            ],
            "image/svg+xml": "<?xml version=\"1.0\" encoding=\"UTF-8\" standalone=\"no\"?>\n<!DOCTYPE svg PUBLIC \"-//W3C//DTD SVG 1.1//EN\"\n \"http://www.w3.org/Graphics/SVG/1.1/DTD/svg11.dtd\">\n<!-- Generated by graphviz version 2.40.1 (20161225.0304)\n -->\n<!-- Title: %3 Pages: 1 -->\n<svg width=\"37pt\" height=\"167pt\"\n viewBox=\"0.00 0.00 37.00 167.00\" xmlns=\"http://www.w3.org/2000/svg\" xmlns:xlink=\"http://www.w3.org/1999/xlink\">\n<g id=\"graph0\" class=\"graph\" transform=\"scale(1 1) rotate(0) translate(4 163)\">\n<title>%3</title>\n<polygon fill=\"#ffffff\" stroke=\"transparent\" points=\"-4,4 -4,-163 33,-163 33,4 -4,4\"/>\n<!-- __main__.TreeNode object at 0x7f0bb61c5390 -->\n<g id=\"node1\" class=\"node\">\n<title>__main__.TreeNode object at 0x7f0bb61c5390</title>\n<ellipse fill=\"none\" stroke=\"#000000\" cx=\"14.5\" cy=\"-144.5\" rx=\"14.5\" ry=\"14.5\"/>\n<text text-anchor=\"middle\" x=\"14.5\" y=\"-140.8\" font-family=\"Times,serif\" font-size=\"14.00\" fill=\"#000000\">10</text>\n</g>\n<!-- __main__.TreeNode object at 0x7f0bbc7468d0 -->\n<g id=\"node2\" class=\"node\">\n<title>__main__.TreeNode object at 0x7f0bbc7468d0</title>\n<ellipse fill=\"none\" stroke=\"#000000\" cx=\"14.5\" cy=\"-79.5\" rx=\"14.5\" ry=\"14.5\"/>\n<text text-anchor=\"middle\" x=\"14.5\" y=\"-75.8\" font-family=\"Times,serif\" font-size=\"14.00\" fill=\"#000000\">20</text>\n</g>\n<!-- __main__.TreeNode object at 0x7f0bb61c5390&#45;&gt;__main__.TreeNode object at 0x7f0bbc7468d0 -->\n<g id=\"edge1\" class=\"edge\">\n<title>__main__.TreeNode object at 0x7f0bb61c5390&#45;&gt;__main__.TreeNode object at 0x7f0bbc7468d0</title>\n<path fill=\"none\" stroke=\"#000000\" d=\"M14.5,-129.7505C14.5,-122.2709 14.5,-112.9819 14.5,-104.4327\"/>\n<polygon fill=\"#000000\" stroke=\"#000000\" points=\"18.0001,-104.1911 14.5,-94.1911 11.0001,-104.1912 18.0001,-104.1911\"/>\n</g>\n<!-- __main__.TreeNode object at 0x7f0bb61c5c50 -->\n<g id=\"node3\" class=\"node\">\n<title>__main__.TreeNode object at 0x7f0bb61c5c50</title>\n<ellipse fill=\"none\" stroke=\"#000000\" cx=\"14.5\" cy=\"-14.5\" rx=\"14.5\" ry=\"14.5\"/>\n<text text-anchor=\"middle\" x=\"14.5\" y=\"-10.8\" font-family=\"Times,serif\" font-size=\"14.00\" fill=\"#000000\">30</text>\n</g>\n<!-- __main__.TreeNode object at 0x7f0bbc7468d0&#45;&gt;__main__.TreeNode object at 0x7f0bb61c5c50 -->\n<g id=\"edge2\" class=\"edge\">\n<title>__main__.TreeNode object at 0x7f0bbc7468d0&#45;&gt;__main__.TreeNode object at 0x7f0bb61c5c50</title>\n<path fill=\"none\" stroke=\"#000000\" d=\"M14.5,-64.7505C14.5,-57.2709 14.5,-47.9819 14.5,-39.4327\"/>\n<polygon fill=\"#000000\" stroke=\"#000000\" points=\"18.0001,-39.1911 14.5,-29.1911 11.0001,-39.1912 18.0001,-39.1911\"/>\n</g>\n</g>\n</svg>\n"
          },
          "metadata": {}
        }
      ]
    },
    {
      "cell_type": "code",
      "source": [
        "print(\"Girar a la izquierda en 10\")\n",
        "bst.rotate_left(bst.find(10))\n",
        "dot = bst.visualize()\n",
        "display(dot)"
      ],
      "metadata": {
        "colab": {
          "base_uri": "https://localhost:8080/",
          "height": 175
        },
        "id": "xgfRiGOE_dQ_",
        "outputId": "c3a4b8d5-fe2b-4afc-c4b7-549d1a6d7551"
      },
      "execution_count": 61,
      "outputs": [
        {
          "output_type": "stream",
          "name": "stdout",
          "text": [
            "Girar a la izquierda en 10\n"
          ]
        },
        {
          "output_type": "display_data",
          "data": {
            "text/plain": [
              "<graphviz.dot.Digraph at 0x7f0bb563d990>"
            ],
            "image/svg+xml": "<?xml version=\"1.0\" encoding=\"UTF-8\" standalone=\"no\"?>\n<!DOCTYPE svg PUBLIC \"-//W3C//DTD SVG 1.1//EN\"\n \"http://www.w3.org/Graphics/SVG/1.1/DTD/svg11.dtd\">\n<!-- Generated by graphviz version 2.40.1 (20161225.0304)\n -->\n<!-- Title: %3 Pages: 1 -->\n<svg width=\"84pt\" height=\"102pt\"\n viewBox=\"0.00 0.00 84.00 102.00\" xmlns=\"http://www.w3.org/2000/svg\" xmlns:xlink=\"http://www.w3.org/1999/xlink\">\n<g id=\"graph0\" class=\"graph\" transform=\"scale(1 1) rotate(0) translate(4 98)\">\n<title>%3</title>\n<polygon fill=\"#ffffff\" stroke=\"transparent\" points=\"-4,4 -4,-98 80,-98 80,4 -4,4\"/>\n<!-- __main__.TreeNode object at 0x7f0bbc7468d0 -->\n<g id=\"node1\" class=\"node\">\n<title>__main__.TreeNode object at 0x7f0bbc7468d0</title>\n<ellipse fill=\"none\" stroke=\"#000000\" cx=\"37.5\" cy=\"-79.5\" rx=\"14.5\" ry=\"14.5\"/>\n<text text-anchor=\"middle\" x=\"37.5\" y=\"-75.8\" font-family=\"Times,serif\" font-size=\"14.00\" fill=\"#000000\">20</text>\n</g>\n<!-- __main__.TreeNode object at 0x7f0bb61c5390 -->\n<g id=\"node2\" class=\"node\">\n<title>__main__.TreeNode object at 0x7f0bb61c5390</title>\n<ellipse fill=\"none\" stroke=\"#000000\" cx=\"14.5\" cy=\"-14.5\" rx=\"14.5\" ry=\"14.5\"/>\n<text text-anchor=\"middle\" x=\"14.5\" y=\"-10.8\" font-family=\"Times,serif\" font-size=\"14.00\" fill=\"#000000\">10</text>\n</g>\n<!-- __main__.TreeNode object at 0x7f0bbc7468d0&#45;&gt;__main__.TreeNode object at 0x7f0bb61c5390 -->\n<g id=\"edge1\" class=\"edge\">\n<title>__main__.TreeNode object at 0x7f0bbc7468d0&#45;&gt;__main__.TreeNode object at 0x7f0bb61c5390</title>\n<path fill=\"none\" stroke=\"#000000\" d=\"M32.6223,-65.7152C29.7559,-57.6145 26.0568,-47.1606 22.7488,-37.8119\"/>\n<polygon fill=\"#000000\" stroke=\"#000000\" points=\"26.0061,-36.5246 19.3707,-28.265 19.407,-38.8597 26.0061,-36.5246\"/>\n</g>\n<!-- __main__.TreeNode object at 0x7f0bb61c5c50 -->\n<g id=\"node3\" class=\"node\">\n<title>__main__.TreeNode object at 0x7f0bb61c5c50</title>\n<ellipse fill=\"none\" stroke=\"#000000\" cx=\"61.5\" cy=\"-14.5\" rx=\"14.5\" ry=\"14.5\"/>\n<text text-anchor=\"middle\" x=\"61.5\" y=\"-10.8\" font-family=\"Times,serif\" font-size=\"14.00\" fill=\"#000000\">30</text>\n</g>\n<!-- __main__.TreeNode object at 0x7f0bbc7468d0&#45;&gt;__main__.TreeNode object at 0x7f0bb61c5c50 -->\n<g id=\"edge2\" class=\"edge\">\n<title>__main__.TreeNode object at 0x7f0bbc7468d0&#45;&gt;__main__.TreeNode object at 0x7f0bb61c5c50</title>\n<path fill=\"none\" stroke=\"#000000\" d=\"M42.5898,-65.7152C45.5808,-57.6145 49.4407,-47.1606 52.8925,-37.8119\"/>\n<polygon fill=\"#000000\" stroke=\"#000000\" points=\"56.2371,-38.8583 56.4176,-28.265 49.6704,-36.4336 56.2371,-38.8583\"/>\n</g>\n</g>\n</svg>\n"
          },
          "metadata": {}
        }
      ]
    },
    {
      "cell_type": "markdown",
      "source": [
        "# AVLTree\n",
        "La clase AVLTree se define como una subclase de la clase BST, por lo que hereda las variables y los métodos de la clase base y los extiende."
      ],
      "metadata": {
        "id": "vggGrjxEciNp"
      }
    },
    {
      "cell_type": "code",
      "source": [
        "class AVLTree(BST): \n",
        "  def __init__(self):\n",
        "    super().__init__()\n",
        "  \n",
        "  def insert(self, k):\n",
        "    ''' Insert a key '''\n",
        "    super().insert(k)\n",
        "    p = super().find(k) \n",
        "    prevBalance = 0\n",
        "    while (p != None):\n",
        "        b = super().height(p.right) - super().height(p.left)\n",
        "        if (b > 1 and prevBalance > 0): # Case 1\n",
        "            super().rotate_left(p)\n",
        "        elif (b < 1 and prevBalance < 0): # Case 2\n",
        "            super().rotate_right(p)\n",
        "        elif (b > 1 and prevBalance < 0): #  Case 3\n",
        "            super().rotate_right(p.right)\n",
        "            super().rotate_left(p)\n",
        "        elif (b < -1 and prevBalance > 0): # Case 4             \n",
        "            super().rotate_left(p.left)\n",
        "            super().rotate_right(p)\n",
        "        prevBalance = b\n",
        "        p = p.parent"
      ],
      "metadata": {
        "id": "aruBbsnWHvZW"
      },
      "execution_count": 62,
      "outputs": []
    },
    {
      "cell_type": "code",
      "source": [
        "class AVLViz: \n",
        "  def __init__(self, bst):\n",
        "      self.bst = bst\n",
        "  def visualize(self):   \n",
        "      ''' Visualize the tree using graphviz '''\n",
        "      tree = self.bst.root # start with root of the tree \n",
        "      dot = Digraph()\n",
        "      dot.engine = 'neato'\n",
        "      # Place root node at position tree.pos \n",
        "      h = self.bst.height(tree)\n",
        "      tree.pos = [0, h]          \n",
        "      dot.node(name=str(tree), label=str(tree.key), color = tree.col, shape=\"circle\", \n",
        "               fixedsize=\"True\", width=\"0.4\", pos=tree.spos())\n",
        "      # Recursively place the other nodes and edges              \n",
        "      def add_nodes(tree, dot):            \n",
        "          if tree.left: # if left subtree: position node to left of parent            \n",
        "              tree.left.pos[0] = tree.pos[0] - h/4 # x\n",
        "              tree.left.pos[1] = tree.pos[1] - 0.6 # y       \n",
        "              dot.node(name=str(tree.left), label=str(tree.left.key), color = tree.left.col, \n",
        "                       shape=\"circle\", fixedsize=\"True\", width=\"0.4\", pos=tree.left.spos())\n",
        "              dot.edge(str(tree), str(tree.left))\n",
        "              dot = add_nodes(tree.left, dot=dot) \n",
        "          if tree.right: # if right subtree: position node to right of parent                    \n",
        "              tree.right.pos[0] = tree.pos[0] + h/4 # x\n",
        "              tree.right.pos[1] = tree.pos[1] - 0.6 # y                \n",
        "              dot.node(name=str(tree.right), label=str(tree.right.key), color = tree.right.col, \n",
        "                       shape=\"circle\", fixedsize=\"True\", width=\"0.4\", pos=tree.right.spos())\n",
        "              dot.edge(str(tree), str(tree.right))\n",
        "              dot = add_nodes(tree.right, dot=dot)                     \n",
        "          return dot \n",
        "      display(add_nodes(tree, dot))  "
      ],
      "metadata": {
        "id": "TubpCTtqLrPn"
      },
      "execution_count": 84,
      "outputs": []
    },
    {
      "cell_type": "markdown",
      "source": [
        "# Insertar nodos en BST\n"
      ],
      "metadata": {
        "id": "_XeXqAdmeAWI"
      }
    },
    {
      "cell_type": "code",
      "source": [
        "bts = BST()\n",
        "print(\"Insertar 1, 2, 3, 4, 5,6,7,8,9,10\")\n",
        "bts.insert_keys([1, 2, 3, 4, 5])\n",
        "dot = bts.visualize()\n",
        "display(dot)"
      ],
      "metadata": {
        "colab": {
          "base_uri": "https://localhost:8080/",
          "height": 435
        },
        "id": "HW2UsO4RH-Pm",
        "outputId": "31044080-1727-449d-d83a-9d7c173a19db"
      },
      "execution_count": 67,
      "outputs": [
        {
          "output_type": "stream",
          "name": "stdout",
          "text": [
            "Insertar 1, 2, 3, 4, 5,6,7,8,9,10\n"
          ]
        },
        {
          "output_type": "display_data",
          "data": {
            "text/plain": [
              "<graphviz.dot.Digraph at 0x7f0bb56aea10>"
            ],
            "image/svg+xml": "<?xml version=\"1.0\" encoding=\"UTF-8\" standalone=\"no\"?>\n<!DOCTYPE svg PUBLIC \"-//W3C//DTD SVG 1.1//EN\"\n \"http://www.w3.org/Graphics/SVG/1.1/DTD/svg11.dtd\">\n<!-- Generated by graphviz version 2.40.1 (20161225.0304)\n -->\n<!-- Title: %3 Pages: 1 -->\n<svg width=\"37pt\" height=\"297pt\"\n viewBox=\"0.00 0.00 37.00 297.00\" xmlns=\"http://www.w3.org/2000/svg\" xmlns:xlink=\"http://www.w3.org/1999/xlink\">\n<g id=\"graph0\" class=\"graph\" transform=\"scale(1 1) rotate(0) translate(4 293)\">\n<title>%3</title>\n<polygon fill=\"#ffffff\" stroke=\"transparent\" points=\"-4,4 -4,-293 33,-293 33,4 -4,4\"/>\n<!-- __main__.TreeNode object at 0x7f0bb56aee50 -->\n<g id=\"node1\" class=\"node\">\n<title>__main__.TreeNode object at 0x7f0bb56aee50</title>\n<ellipse fill=\"none\" stroke=\"#000000\" cx=\"14.5\" cy=\"-274.5\" rx=\"14.5\" ry=\"14.5\"/>\n<text text-anchor=\"middle\" x=\"14.5\" y=\"-270.8\" font-family=\"Times,serif\" font-size=\"14.00\" fill=\"#000000\">1</text>\n</g>\n<!-- __main__.TreeNode object at 0x7f0bb56ae090 -->\n<g id=\"node2\" class=\"node\">\n<title>__main__.TreeNode object at 0x7f0bb56ae090</title>\n<ellipse fill=\"none\" stroke=\"#000000\" cx=\"14.5\" cy=\"-209.5\" rx=\"14.5\" ry=\"14.5\"/>\n<text text-anchor=\"middle\" x=\"14.5\" y=\"-205.8\" font-family=\"Times,serif\" font-size=\"14.00\" fill=\"#000000\">2</text>\n</g>\n<!-- __main__.TreeNode object at 0x7f0bb56aee50&#45;&gt;__main__.TreeNode object at 0x7f0bb56ae090 -->\n<g id=\"edge1\" class=\"edge\">\n<title>__main__.TreeNode object at 0x7f0bb56aee50&#45;&gt;__main__.TreeNode object at 0x7f0bb56ae090</title>\n<path fill=\"none\" stroke=\"#000000\" d=\"M14.5,-259.7505C14.5,-252.2709 14.5,-242.9819 14.5,-234.4327\"/>\n<polygon fill=\"#000000\" stroke=\"#000000\" points=\"18.0001,-234.1911 14.5,-224.1911 11.0001,-234.1912 18.0001,-234.1911\"/>\n</g>\n<!-- __main__.TreeNode object at 0x7f0bb56ae910 -->\n<g id=\"node3\" class=\"node\">\n<title>__main__.TreeNode object at 0x7f0bb56ae910</title>\n<ellipse fill=\"none\" stroke=\"#000000\" cx=\"14.5\" cy=\"-144.5\" rx=\"14.5\" ry=\"14.5\"/>\n<text text-anchor=\"middle\" x=\"14.5\" y=\"-140.8\" font-family=\"Times,serif\" font-size=\"14.00\" fill=\"#000000\">3</text>\n</g>\n<!-- __main__.TreeNode object at 0x7f0bb56ae090&#45;&gt;__main__.TreeNode object at 0x7f0bb56ae910 -->\n<g id=\"edge2\" class=\"edge\">\n<title>__main__.TreeNode object at 0x7f0bb56ae090&#45;&gt;__main__.TreeNode object at 0x7f0bb56ae910</title>\n<path fill=\"none\" stroke=\"#000000\" d=\"M14.5,-194.7505C14.5,-187.2709 14.5,-177.9819 14.5,-169.4327\"/>\n<polygon fill=\"#000000\" stroke=\"#000000\" points=\"18.0001,-169.1911 14.5,-159.1911 11.0001,-169.1912 18.0001,-169.1911\"/>\n</g>\n<!-- __main__.TreeNode object at 0x7f0bb56ae110 -->\n<g id=\"node4\" class=\"node\">\n<title>__main__.TreeNode object at 0x7f0bb56ae110</title>\n<ellipse fill=\"none\" stroke=\"#000000\" cx=\"14.5\" cy=\"-79.5\" rx=\"14.5\" ry=\"14.5\"/>\n<text text-anchor=\"middle\" x=\"14.5\" y=\"-75.8\" font-family=\"Times,serif\" font-size=\"14.00\" fill=\"#000000\">4</text>\n</g>\n<!-- __main__.TreeNode object at 0x7f0bb56ae910&#45;&gt;__main__.TreeNode object at 0x7f0bb56ae110 -->\n<g id=\"edge3\" class=\"edge\">\n<title>__main__.TreeNode object at 0x7f0bb56ae910&#45;&gt;__main__.TreeNode object at 0x7f0bb56ae110</title>\n<path fill=\"none\" stroke=\"#000000\" d=\"M14.5,-129.7505C14.5,-122.2709 14.5,-112.9819 14.5,-104.4327\"/>\n<polygon fill=\"#000000\" stroke=\"#000000\" points=\"18.0001,-104.1911 14.5,-94.1911 11.0001,-104.1912 18.0001,-104.1911\"/>\n</g>\n<!-- __main__.TreeNode object at 0x7f0bb56ae710 -->\n<g id=\"node5\" class=\"node\">\n<title>__main__.TreeNode object at 0x7f0bb56ae710</title>\n<ellipse fill=\"none\" stroke=\"#000000\" cx=\"14.5\" cy=\"-14.5\" rx=\"14.5\" ry=\"14.5\"/>\n<text text-anchor=\"middle\" x=\"14.5\" y=\"-10.8\" font-family=\"Times,serif\" font-size=\"14.00\" fill=\"#000000\">5</text>\n</g>\n<!-- __main__.TreeNode object at 0x7f0bb56ae110&#45;&gt;__main__.TreeNode object at 0x7f0bb56ae710 -->\n<g id=\"edge4\" class=\"edge\">\n<title>__main__.TreeNode object at 0x7f0bb56ae110&#45;&gt;__main__.TreeNode object at 0x7f0bb56ae710</title>\n<path fill=\"none\" stroke=\"#000000\" d=\"M14.5,-64.7505C14.5,-57.2709 14.5,-47.9819 14.5,-39.4327\"/>\n<polygon fill=\"#000000\" stroke=\"#000000\" points=\"18.0001,-39.1911 14.5,-29.1911 11.0001,-39.1912 18.0001,-39.1911\"/>\n</g>\n</g>\n</svg>\n"
          },
          "metadata": {}
        }
      ]
    },
    {
      "cell_type": "markdown",
      "source": [
        "# Autobalanceado en AVL"
      ],
      "metadata": {
        "id": "-0gUqQ43eHfP"
      }
    },
    {
      "cell_type": "code",
      "source": [
        "avl = AVLTree()\n",
        "print(\"Insertar 1, 2, 3, 4, 5,6,7,8,9,10\")\n",
        "avl.insert_keys([1, 2, 3, 4, 5])\n",
        "dot = avl.visualize()\n",
        "display(dot)"
      ],
      "metadata": {
        "colab": {
          "base_uri": "https://localhost:8080/",
          "height": 261
        },
        "id": "7Zl6Yf_cHvXG",
        "outputId": "46694e1e-3af6-415c-c1c9-0af00ddc87b5"
      },
      "execution_count": 73,
      "outputs": [
        {
          "output_type": "stream",
          "name": "stdout",
          "text": [
            "Insertar 1, 2, 3, 4, 5,6,7,8,9,10\n"
          ]
        },
        {
          "output_type": "display_data",
          "data": {
            "text/plain": [
              "<graphviz.dot.Digraph at 0x7f0bb56ae5d0>"
            ],
            "image/svg+xml": "<?xml version=\"1.0\" encoding=\"UTF-8\" standalone=\"no\"?>\n<!DOCTYPE svg PUBLIC \"-//W3C//DTD SVG 1.1//EN\"\n \"http://www.w3.org/Graphics/SVG/1.1/DTD/svg11.dtd\">\n<!-- Generated by graphviz version 2.40.1 (20161225.0304)\n -->\n<!-- Title: %3 Pages: 1 -->\n<svg width=\"107pt\" height=\"167pt\"\n viewBox=\"0.00 0.00 107.00 167.00\" xmlns=\"http://www.w3.org/2000/svg\" xmlns:xlink=\"http://www.w3.org/1999/xlink\">\n<g id=\"graph0\" class=\"graph\" transform=\"scale(1 1) rotate(0) translate(4 163)\">\n<title>%3</title>\n<polygon fill=\"#ffffff\" stroke=\"transparent\" points=\"-4,4 -4,-163 103,-163 103,4 -4,4\"/>\n<!-- __main__.TreeNode object at 0x7f0bb56190d0 -->\n<g id=\"node1\" class=\"node\">\n<title>__main__.TreeNode object at 0x7f0bb56190d0</title>\n<ellipse fill=\"none\" stroke=\"#000000\" cx=\"37.5\" cy=\"-144.5\" rx=\"14.5\" ry=\"14.5\"/>\n<text text-anchor=\"middle\" x=\"37.5\" y=\"-140.8\" font-family=\"Times,serif\" font-size=\"14.00\" fill=\"#000000\">2</text>\n</g>\n<!-- __main__.TreeNode object at 0x7f0bb5619c10 -->\n<g id=\"node2\" class=\"node\">\n<title>__main__.TreeNode object at 0x7f0bb5619c10</title>\n<ellipse fill=\"none\" stroke=\"#000000\" cx=\"14.5\" cy=\"-79.5\" rx=\"14.5\" ry=\"14.5\"/>\n<text text-anchor=\"middle\" x=\"14.5\" y=\"-75.8\" font-family=\"Times,serif\" font-size=\"14.00\" fill=\"#000000\">1</text>\n</g>\n<!-- __main__.TreeNode object at 0x7f0bb56190d0&#45;&gt;__main__.TreeNode object at 0x7f0bb5619c10 -->\n<g id=\"edge1\" class=\"edge\">\n<title>__main__.TreeNode object at 0x7f0bb56190d0&#45;&gt;__main__.TreeNode object at 0x7f0bb5619c10</title>\n<path fill=\"none\" stroke=\"#000000\" d=\"M32.6223,-130.7152C29.7559,-122.6145 26.0568,-112.1606 22.7488,-102.8119\"/>\n<polygon fill=\"#000000\" stroke=\"#000000\" points=\"26.0061,-101.5246 19.3707,-93.265 19.407,-103.8597 26.0061,-101.5246\"/>\n</g>\n<!-- __main__.TreeNode object at 0x7f0bb56ae4d0 -->\n<g id=\"node3\" class=\"node\">\n<title>__main__.TreeNode object at 0x7f0bb56ae4d0</title>\n<ellipse fill=\"none\" stroke=\"#000000\" cx=\"61.5\" cy=\"-79.5\" rx=\"14.5\" ry=\"14.5\"/>\n<text text-anchor=\"middle\" x=\"61.5\" y=\"-75.8\" font-family=\"Times,serif\" font-size=\"14.00\" fill=\"#000000\">4</text>\n</g>\n<!-- __main__.TreeNode object at 0x7f0bb56190d0&#45;&gt;__main__.TreeNode object at 0x7f0bb56ae4d0 -->\n<g id=\"edge2\" class=\"edge\">\n<title>__main__.TreeNode object at 0x7f0bb56190d0&#45;&gt;__main__.TreeNode object at 0x7f0bb56ae4d0</title>\n<path fill=\"none\" stroke=\"#000000\" d=\"M42.5898,-130.7152C45.5808,-122.6145 49.4407,-112.1606 52.8925,-102.8119\"/>\n<polygon fill=\"#000000\" stroke=\"#000000\" points=\"56.2371,-103.8583 56.4176,-93.265 49.6704,-101.4336 56.2371,-103.8583\"/>\n</g>\n<!-- __main__.TreeNode object at 0x7f0bb56ae790 -->\n<g id=\"node4\" class=\"node\">\n<title>__main__.TreeNode object at 0x7f0bb56ae790</title>\n<ellipse fill=\"none\" stroke=\"#000000\" cx=\"37.5\" cy=\"-14.5\" rx=\"14.5\" ry=\"14.5\"/>\n<text text-anchor=\"middle\" x=\"37.5\" y=\"-10.8\" font-family=\"Times,serif\" font-size=\"14.00\" fill=\"#000000\">3</text>\n</g>\n<!-- __main__.TreeNode object at 0x7f0bb56ae4d0&#45;&gt;__main__.TreeNode object at 0x7f0bb56ae790 -->\n<g id=\"edge3\" class=\"edge\">\n<title>__main__.TreeNode object at 0x7f0bb56ae4d0&#45;&gt;__main__.TreeNode object at 0x7f0bb56ae790</title>\n<path fill=\"none\" stroke=\"#000000\" d=\"M56.4102,-65.7152C53.4192,-57.6145 49.5593,-47.1606 46.1075,-37.8119\"/>\n<polygon fill=\"#000000\" stroke=\"#000000\" points=\"49.3296,-36.4336 42.5824,-28.265 42.7629,-38.8583 49.3296,-36.4336\"/>\n</g>\n<!-- __main__.TreeNode object at 0x7f0bb56ae8d0 -->\n<g id=\"node5\" class=\"node\">\n<title>__main__.TreeNode object at 0x7f0bb56ae8d0</title>\n<ellipse fill=\"none\" stroke=\"#000000\" cx=\"84.5\" cy=\"-14.5\" rx=\"14.5\" ry=\"14.5\"/>\n<text text-anchor=\"middle\" x=\"84.5\" y=\"-10.8\" font-family=\"Times,serif\" font-size=\"14.00\" fill=\"#000000\">5</text>\n</g>\n<!-- __main__.TreeNode object at 0x7f0bb56ae4d0&#45;&gt;__main__.TreeNode object at 0x7f0bb56ae8d0 -->\n<g id=\"edge4\" class=\"edge\">\n<title>__main__.TreeNode object at 0x7f0bb56ae4d0&#45;&gt;__main__.TreeNode object at 0x7f0bb56ae8d0</title>\n<path fill=\"none\" stroke=\"#000000\" d=\"M66.3777,-65.7152C69.2441,-57.6145 72.9432,-47.1606 76.2512,-37.8119\"/>\n<polygon fill=\"#000000\" stroke=\"#000000\" points=\"79.593,-38.8597 79.6293,-28.265 72.9939,-36.5246 79.593,-38.8597\"/>\n</g>\n</g>\n</svg>\n"
          },
          "metadata": {}
        }
      ]
    },
    {
      "cell_type": "markdown",
      "source": [
        "# Animación en GraphViz"
      ],
      "metadata": {
        "id": "vBrbGGQie9ws"
      }
    },
    {
      "cell_type": "code",
      "source": [
        "from numpy.random import seed, randint\n",
        "from ipywidgets import interactive_output\n",
        "from ipywidgets import HBox, VBox, Layout, Tab, Output, BoundedIntText, Button, HTML\n",
        "from IPython.display import display, clear_output, SVG\n",
        "from graphviz import Digraph\n",
        "import pydot\n",
        "\n",
        "# BST\n",
        "tree = BST() \n",
        "\n",
        "# Output objects\n",
        "out, out1, out2, out3 = Output(), Output(), Output(), Output() \n",
        "tab = Tab(children = [out1, out2], \n",
        "                  layout=Layout(width='100%', height='auto'))\n",
        "tab.set_title(0, 'AVL Tree')\n",
        "tab.set_title(1, 'B-Tree')\n",
        "\n",
        "# Input field for keys\n",
        "ui_key = BoundedIntText(value=20, min=0, max=100, \n",
        "                        step=2, description='Enter Key:', disabled=False)\n",
        "# Buttons\n",
        "btn_insert = Button(description='Insert', button_style='success')\n",
        "def on_button_insert_clicked(b):\n",
        "    with out:\n",
        "        clear_output()\n",
        "        print(\"Insert: %d\" % (ui_key.value)) \n",
        "        tree.insert(ui_key.value)\n",
        "        BSTViz(tree).visualize()      \n",
        "btn_insert.on_click(on_button_insert_clicked)\n",
        "\n",
        "btn_delete = Button(description='Delete', button_style='primary')\n",
        "def on_button_delete_clicked(b):\n",
        "    with out:\n",
        "        clear_output()\n",
        "        print(\"Delete: %d\" % (ui_key.value)) \n",
        "        tree.delete(ui_key.value)\n",
        "        BSTViz(tree).visualize()        \n",
        "btn_delete.on_click(on_button_delete_clicked)\n",
        "\n",
        "btn_clear = Button(description='Clear', button_style='danger')\n",
        "def on_button_clear_clicked(b):\n",
        "    with out:\n",
        "        clear_output()\n",
        "        tree.root = None \n",
        "btn_clear.on_click(on_button_clear_clicked)\n",
        "\n",
        "btn_search = Button(description='Search', button_style='info')\n",
        "def on_button_search_clicked(b):\n",
        "    with out:\n",
        "        clear_output()\n",
        "        if (tree is None):\n",
        "            print(\"No tree selected!\")\n",
        "        else:\n",
        "            print(\"Search: %d\" % (ui_key.value)) \n",
        "            foundnode = tree.find(ui_key.value)\n",
        "            if (foundnode != None):\n",
        "                print(\"Found: %d is in tree\" % (ui_key.value)) \n",
        "                BSTViz(tree).visualize()  \n",
        "            else:\n",
        "                print(\"Not found: %d not in tree\" % (ui_key.value)) \n",
        "                BSTViz(tree).visualize()  \n",
        "            \n",
        "btn_search.on_click(on_button_search_clicked)\n",
        "\n",
        "btn_rnd = Button(description='Random', button_style='warning')\n",
        "seed(1) # Set the seed for the random number generator\n",
        "def on_button_rnd_clicked(b):\n",
        "    with out:\n",
        "        clear_output()\n",
        "        tree.root = None\n",
        "        keys = randint(1, 50, 7)\n",
        "        for key in keys:\n",
        "            tree.insert(key)\n",
        "        BSTViz(tree).visualize()  \n",
        "btn_rnd.on_click(on_button_rnd_clicked)\n",
        "\n",
        "# Layout\n",
        "layout_displ=Layout(height='350px', border='1px dotted blue', overflow ='auto')\n",
        "layout_ctrl=Layout(height='50px')\n",
        "\n",
        "\n",
        "# AVL tree\n",
        "avl = AVLTree()\n",
        "# Buttons\n",
        "btn_insert_avl = Button(description='Insert', button_style='success')\n",
        "def on_button_insert_avl_clicked(b):\n",
        "    with out:\n",
        "        clear_output()\n",
        "        avl.insert(ui_key.value)\n",
        "        AVLViz(avl).visualize()       \n",
        "btn_insert_avl.on_click(on_button_insert_avl_clicked)\n",
        "\n",
        "btn_delete_avl = Button(description='Delete', button_style='primary')\n",
        "def on_button_delete_avl_clicked(b):\n",
        "    with out:\n",
        "        clear_output()\n",
        "        avl.delete(ui_key.value)\n",
        "        AVLViz(avl).visualize()        \n",
        "btn_delete_avl.on_click(on_button_delete_avl_clicked)\n",
        "\n",
        "btn_rnd_avl = Button(description='Random', button_style='warning')\n",
        "seed(1) # Set the seed for the random number generator\n",
        "def on_button_rnd_avl_clicked(b):\n",
        "    with out:\n",
        "        clear_output()\n",
        "        avl.root = None\n",
        "        keys = randint(1, 50, 7)    \n",
        "        avl.insert_keys(keys)        \n",
        "        AVLViz(avl).visualize()  \n",
        "btn_rnd_avl.on_click(on_button_rnd_avl_clicked)\n",
        "\n",
        "btn_clear_avl = Button(description='Clear', button_style='danger')\n",
        "def on_button_clear_avl_clicked(b):\n",
        "    with out:\n",
        "        clear_output()\n",
        "        avl.root = None \n",
        "btn_clear_avl.on_click(on_button_clear_avl_clicked)\n",
        "\n",
        "with out1: \n",
        "    msgbox = HTML(\"<p></p>\")\n",
        "    displ = HBox([out], layout=layout_displ)\n",
        "    ctrl = HBox([ui_key, btn_insert_avl, btn_delete_avl, btn_clear_avl], layout=layout_ctrl)\n",
        "    display(VBox([displ, msgbox, ctrl]))\n",
        "with out2:\n",
        "    htm = HTML(\"<h1>TODO</h1><p>Insert your code here</p>\")\n",
        "    display(htm)  \n",
        "display(tab)"
      ],
      "metadata": {
        "colab": {
          "base_uri": "https://localhost:8080/",
          "height": 509,
          "referenced_widgets": [
            "f6e1abe71e654f2fa0190d8ede10b422",
            "c90d6c8ab61541b4b3004b9af7f0de9f",
            "cffc967d9bca4969be466b3f8a534d1d",
            "83b0c2014d34444494316462fe64ff24",
            "89937f8fa4954aa18f5b7dda8ea65c22",
            "6b936d4d96b3428f8cc7c847bf6e163b",
            "e416ee91e02f45d0ba8d343b7a1b7625",
            "704ec098ac1444c18aa2f7d3658a8674",
            "5a2da00e58f544dab791ee6347312f4e",
            "3487c821fda340abac215aaa16fbdf78",
            "dd9a871de1ee46debec8b6a316ae3a02",
            "e5fd55395cbe48188b4019c97a9c98a4",
            "954930d4094e42acbe3e5ea63e30f85e",
            "7fe97cfbfe6e4929a377c5b545d93399",
            "1c46ae303c62450d87148515922c9705",
            "2b54a401507e4637b59fa8527eca5269",
            "720f4eeadf1f441fb6a3cbdde11cbef2",
            "94c69d7cef294e3faf904dfb0f67e6da",
            "ced3017f85ec4d47be6e9e75617b9a0d",
            "23831ec5f1c84fecac7f7ef47d850735",
            "dce1e389771549adb816a72c922d8835",
            "2876618bc9774736abcaf0c7f6e33b5f",
            "7f8186674f984137b94193a493e9ec8f",
            "4972736a5d8d4141951c7fc526848cbe",
            "2752cb944f1b492aac4fd0179c13fa54",
            "31a69ecebbd9403a8eeb8442fce9e721",
            "e4402f53bc044cdc8d8a84bbc618b121",
            "abe394df90d5483aa06f9954fe95f1f4",
            "0ae63cdd52824519ba93b44350890c82",
            "a0e94ede905648e88c7492008aa5bf06",
            "566b462049de48eb8053f25203ab3f5d",
            "6ae484fa9fce4b3ebbc3b350dcd7b00e"
          ]
        },
        "id": "U-ilQEsdaifj",
        "outputId": "a6946d06-6aad-43d4-dde9-d99527040d64"
      },
      "execution_count": 85,
      "outputs": [
        {
          "output_type": "display_data",
          "data": {
            "text/plain": [
              "Tab(children=(Output(), Output()), layout=Layout(height='auto', width='100%'), _titles={'0': 'AVL Tree', '1': …"
            ],
            "application/vnd.jupyter.widget-view+json": {
              "version_major": 2,
              "version_minor": 0,
              "model_id": "f6e1abe71e654f2fa0190d8ede10b422"
            }
          },
          "metadata": {}
        }
      ]
    }
  ]
}