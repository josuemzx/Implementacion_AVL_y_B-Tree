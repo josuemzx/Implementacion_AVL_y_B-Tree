{
  "nbformat": 4,
  "nbformat_minor": 0,
  "metadata": {
    "colab": {
      "name": "Implementación AVL con Graphviz y Python ",
      "provenance": [],
      "collapsed_sections": []
    },
    "kernelspec": {
      "name": "python3",
      "display_name": "Python 3"
    },
    "language_info": {
      "name": "python"
    },
    "widgets": {
      "application/vnd.jupyter.widget-state+json": {
        "63fa3714b8ae419c8b462b35dba2c50a": {
          "model_module": "@jupyter-widgets/controls",
          "model_name": "TabModel",
          "model_module_version": "1.5.0",
          "state": {
            "_dom_classes": [],
            "_model_module": "@jupyter-widgets/controls",
            "_model_module_version": "1.5.0",
            "_model_name": "TabModel",
            "_titles": {
              "0": "AVL Tree",
              "1": "B-Tree"
            },
            "_view_count": null,
            "_view_module": "@jupyter-widgets/controls",
            "_view_module_version": "1.5.0",
            "_view_name": "TabView",
            "box_style": "",
            "children": [
              "IPY_MODEL_0a9e908480d44dfba521c421c53d8658",
              "IPY_MODEL_ea70ef264481454ba5573d85afd94aca"
            ],
            "layout": "IPY_MODEL_6d49b56f1e474a08976e053edddb0b71",
            "selected_index": 0
          }
        },
        "0a9e908480d44dfba521c421c53d8658": {
          "model_module": "@jupyter-widgets/output",
          "model_name": "OutputModel",
          "model_module_version": "1.0.0",
          "state": {
            "_dom_classes": [],
            "_model_module": "@jupyter-widgets/output",
            "_model_module_version": "1.0.0",
            "_model_name": "OutputModel",
            "_view_count": null,
            "_view_module": "@jupyter-widgets/output",
            "_view_module_version": "1.0.0",
            "_view_name": "OutputView",
            "layout": "IPY_MODEL_e6299c2b08d54359b3fc26c950b5051f",
            "msg_id": "",
            "outputs": [
              {
                "output_type": "display_data",
                "data": {
                  "text/plain": "VBox(children=(HBox(children=(Output(),), layout=Layout(border='1px dotted blue', height='350px', overflow='au…",
                  "application/vnd.jupyter.widget-view+json": {
                    "version_major": 2,
                    "version_minor": 0,
                    "model_id": "81e2774561ec4516a8230c38cd3661f4"
                  }
                },
                "metadata": {}
              }
            ]
          }
        },
        "ea70ef264481454ba5573d85afd94aca": {
          "model_module": "@jupyter-widgets/output",
          "model_name": "OutputModel",
          "model_module_version": "1.0.0",
          "state": {
            "_dom_classes": [],
            "_model_module": "@jupyter-widgets/output",
            "_model_module_version": "1.0.0",
            "_model_name": "OutputModel",
            "_view_count": null,
            "_view_module": "@jupyter-widgets/output",
            "_view_module_version": "1.0.0",
            "_view_name": "OutputView",
            "layout": "IPY_MODEL_40ff7f7a11974b96b1756240c8db5f72",
            "msg_id": "",
            "outputs": [
              {
                "output_type": "display_data",
                "data": {
                  "text/plain": "HTML(value='<h1>TODO</h1><p>Insert your code here</p>')",
                  "application/vnd.jupyter.widget-view+json": {
                    "version_major": 2,
                    "version_minor": 0,
                    "model_id": "71279dbefd53423ead615a5dbe2cea00"
                  }
                },
                "metadata": {}
              }
            ]
          }
        },
        "6d49b56f1e474a08976e053edddb0b71": {
          "model_module": "@jupyter-widgets/base",
          "model_name": "LayoutModel",
          "model_module_version": "1.2.0",
          "state": {
            "_model_module": "@jupyter-widgets/base",
            "_model_module_version": "1.2.0",
            "_model_name": "LayoutModel",
            "_view_count": null,
            "_view_module": "@jupyter-widgets/base",
            "_view_module_version": "1.2.0",
            "_view_name": "LayoutView",
            "align_content": null,
            "align_items": null,
            "align_self": null,
            "border": null,
            "bottom": null,
            "display": null,
            "flex": null,
            "flex_flow": null,
            "grid_area": null,
            "grid_auto_columns": null,
            "grid_auto_flow": null,
            "grid_auto_rows": null,
            "grid_column": null,
            "grid_gap": null,
            "grid_row": null,
            "grid_template_areas": null,
            "grid_template_columns": null,
            "grid_template_rows": null,
            "height": "auto",
            "justify_content": null,
            "justify_items": null,
            "left": null,
            "margin": null,
            "max_height": null,
            "max_width": null,
            "min_height": null,
            "min_width": null,
            "object_fit": null,
            "object_position": null,
            "order": null,
            "overflow": null,
            "overflow_x": null,
            "overflow_y": null,
            "padding": null,
            "right": null,
            "top": null,
            "visibility": null,
            "width": "100%"
          }
        },
        "81e2774561ec4516a8230c38cd3661f4": {
          "model_module": "@jupyter-widgets/controls",
          "model_name": "VBoxModel",
          "model_module_version": "1.5.0",
          "state": {
            "_dom_classes": [],
            "_model_module": "@jupyter-widgets/controls",
            "_model_module_version": "1.5.0",
            "_model_name": "VBoxModel",
            "_view_count": null,
            "_view_module": "@jupyter-widgets/controls",
            "_view_module_version": "1.5.0",
            "_view_name": "VBoxView",
            "box_style": "",
            "children": [
              "IPY_MODEL_2a0a33332dbd4a5cbaeb6233e6eb49f9",
              "IPY_MODEL_0244f879773c429ba082838f1763ac03",
              "IPY_MODEL_f1aaaec9f6d04a1a994d0cb054f73606"
            ],
            "layout": "IPY_MODEL_7cf06986659740e4b82d62a6649eafa8"
          }
        },
        "71279dbefd53423ead615a5dbe2cea00": {
          "model_module": "@jupyter-widgets/controls",
          "model_name": "HTMLModel",
          "model_module_version": "1.5.0",
          "state": {
            "_dom_classes": [],
            "_model_module": "@jupyter-widgets/controls",
            "_model_module_version": "1.5.0",
            "_model_name": "HTMLModel",
            "_view_count": null,
            "_view_module": "@jupyter-widgets/controls",
            "_view_module_version": "1.5.0",
            "_view_name": "HTMLView",
            "description": "",
            "description_tooltip": null,
            "layout": "IPY_MODEL_22b10aee9bfc4d5995e8dba6fdf83789",
            "placeholder": "​",
            "style": "IPY_MODEL_92d2103cc967439d9f22ff462cc677c8",
            "value": "<h1>TODO</h1><p>Insert your code here</p>"
          }
        },
        "e6299c2b08d54359b3fc26c950b5051f": {
          "model_module": "@jupyter-widgets/base",
          "model_name": "LayoutModel",
          "model_module_version": "1.2.0",
          "state": {
            "_model_module": "@jupyter-widgets/base",
            "_model_module_version": "1.2.0",
            "_model_name": "LayoutModel",
            "_view_count": null,
            "_view_module": "@jupyter-widgets/base",
            "_view_module_version": "1.2.0",
            "_view_name": "LayoutView",
            "align_content": null,
            "align_items": null,
            "align_self": null,
            "border": null,
            "bottom": null,
            "display": null,
            "flex": null,
            "flex_flow": null,
            "grid_area": null,
            "grid_auto_columns": null,
            "grid_auto_flow": null,
            "grid_auto_rows": null,
            "grid_column": null,
            "grid_gap": null,
            "grid_row": null,
            "grid_template_areas": null,
            "grid_template_columns": null,
            "grid_template_rows": null,
            "height": null,
            "justify_content": null,
            "justify_items": null,
            "left": null,
            "margin": null,
            "max_height": null,
            "max_width": null,
            "min_height": null,
            "min_width": null,
            "object_fit": null,
            "object_position": null,
            "order": null,
            "overflow": null,
            "overflow_x": null,
            "overflow_y": null,
            "padding": null,
            "right": null,
            "top": null,
            "visibility": null,
            "width": null
          }
        },
        "40ff7f7a11974b96b1756240c8db5f72": {
          "model_module": "@jupyter-widgets/base",
          "model_name": "LayoutModel",
          "model_module_version": "1.2.0",
          "state": {
            "_model_module": "@jupyter-widgets/base",
            "_model_module_version": "1.2.0",
            "_model_name": "LayoutModel",
            "_view_count": null,
            "_view_module": "@jupyter-widgets/base",
            "_view_module_version": "1.2.0",
            "_view_name": "LayoutView",
            "align_content": null,
            "align_items": null,
            "align_self": null,
            "border": null,
            "bottom": null,
            "display": null,
            "flex": null,
            "flex_flow": null,
            "grid_area": null,
            "grid_auto_columns": null,
            "grid_auto_flow": null,
            "grid_auto_rows": null,
            "grid_column": null,
            "grid_gap": null,
            "grid_row": null,
            "grid_template_areas": null,
            "grid_template_columns": null,
            "grid_template_rows": null,
            "height": null,
            "justify_content": null,
            "justify_items": null,
            "left": null,
            "margin": null,
            "max_height": null,
            "max_width": null,
            "min_height": null,
            "min_width": null,
            "object_fit": null,
            "object_position": null,
            "order": null,
            "overflow": null,
            "overflow_x": null,
            "overflow_y": null,
            "padding": null,
            "right": null,
            "top": null,
            "visibility": null,
            "width": null
          }
        },
        "2a0a33332dbd4a5cbaeb6233e6eb49f9": {
          "model_module": "@jupyter-widgets/controls",
          "model_name": "HBoxModel",
          "model_module_version": "1.5.0",
          "state": {
            "_dom_classes": [],
            "_model_module": "@jupyter-widgets/controls",
            "_model_module_version": "1.5.0",
            "_model_name": "HBoxModel",
            "_view_count": null,
            "_view_module": "@jupyter-widgets/controls",
            "_view_module_version": "1.5.0",
            "_view_name": "HBoxView",
            "box_style": "",
            "children": [
              "IPY_MODEL_4b279f7d1ae24b27a3f087c2cb14baf4"
            ],
            "layout": "IPY_MODEL_0a1c7e40f5734a069285310197bcc823"
          }
        },
        "0244f879773c429ba082838f1763ac03": {
          "model_module": "@jupyter-widgets/controls",
          "model_name": "HTMLModel",
          "model_module_version": "1.5.0",
          "state": {
            "_dom_classes": [],
            "_model_module": "@jupyter-widgets/controls",
            "_model_module_version": "1.5.0",
            "_model_name": "HTMLModel",
            "_view_count": null,
            "_view_module": "@jupyter-widgets/controls",
            "_view_module_version": "1.5.0",
            "_view_name": "HTMLView",
            "description": "",
            "description_tooltip": null,
            "layout": "IPY_MODEL_0a85ae32f7b0462792d98752844ba1e9",
            "placeholder": "​",
            "style": "IPY_MODEL_5072f9ea52b24e81b53fe1fae063176d",
            "value": "<p></p>"
          }
        },
        "f1aaaec9f6d04a1a994d0cb054f73606": {
          "model_module": "@jupyter-widgets/controls",
          "model_name": "HBoxModel",
          "model_module_version": "1.5.0",
          "state": {
            "_dom_classes": [],
            "_model_module": "@jupyter-widgets/controls",
            "_model_module_version": "1.5.0",
            "_model_name": "HBoxModel",
            "_view_count": null,
            "_view_module": "@jupyter-widgets/controls",
            "_view_module_version": "1.5.0",
            "_view_name": "HBoxView",
            "box_style": "",
            "children": [
              "IPY_MODEL_8c6745baa9294760a13c164d561fdc15",
              "IPY_MODEL_dfba4f34a31640f3a78d97125a4af430",
              "IPY_MODEL_058266c3d415422989884f05859b5de1",
              "IPY_MODEL_7cf3d651a27b4ec89f875161e9f14fcb"
            ],
            "layout": "IPY_MODEL_03036d1245af49b595c4966bb4895f19"
          }
        },
        "7cf06986659740e4b82d62a6649eafa8": {
          "model_module": "@jupyter-widgets/base",
          "model_name": "LayoutModel",
          "model_module_version": "1.2.0",
          "state": {
            "_model_module": "@jupyter-widgets/base",
            "_model_module_version": "1.2.0",
            "_model_name": "LayoutModel",
            "_view_count": null,
            "_view_module": "@jupyter-widgets/base",
            "_view_module_version": "1.2.0",
            "_view_name": "LayoutView",
            "align_content": null,
            "align_items": null,
            "align_self": null,
            "border": null,
            "bottom": null,
            "display": null,
            "flex": null,
            "flex_flow": null,
            "grid_area": null,
            "grid_auto_columns": null,
            "grid_auto_flow": null,
            "grid_auto_rows": null,
            "grid_column": null,
            "grid_gap": null,
            "grid_row": null,
            "grid_template_areas": null,
            "grid_template_columns": null,
            "grid_template_rows": null,
            "height": null,
            "justify_content": null,
            "justify_items": null,
            "left": null,
            "margin": null,
            "max_height": null,
            "max_width": null,
            "min_height": null,
            "min_width": null,
            "object_fit": null,
            "object_position": null,
            "order": null,
            "overflow": null,
            "overflow_x": null,
            "overflow_y": null,
            "padding": null,
            "right": null,
            "top": null,
            "visibility": null,
            "width": null
          }
        },
        "22b10aee9bfc4d5995e8dba6fdf83789": {
          "model_module": "@jupyter-widgets/base",
          "model_name": "LayoutModel",
          "model_module_version": "1.2.0",
          "state": {
            "_model_module": "@jupyter-widgets/base",
            "_model_module_version": "1.2.0",
            "_model_name": "LayoutModel",
            "_view_count": null,
            "_view_module": "@jupyter-widgets/base",
            "_view_module_version": "1.2.0",
            "_view_name": "LayoutView",
            "align_content": null,
            "align_items": null,
            "align_self": null,
            "border": null,
            "bottom": null,
            "display": null,
            "flex": null,
            "flex_flow": null,
            "grid_area": null,
            "grid_auto_columns": null,
            "grid_auto_flow": null,
            "grid_auto_rows": null,
            "grid_column": null,
            "grid_gap": null,
            "grid_row": null,
            "grid_template_areas": null,
            "grid_template_columns": null,
            "grid_template_rows": null,
            "height": null,
            "justify_content": null,
            "justify_items": null,
            "left": null,
            "margin": null,
            "max_height": null,
            "max_width": null,
            "min_height": null,
            "min_width": null,
            "object_fit": null,
            "object_position": null,
            "order": null,
            "overflow": null,
            "overflow_x": null,
            "overflow_y": null,
            "padding": null,
            "right": null,
            "top": null,
            "visibility": null,
            "width": null
          }
        },
        "92d2103cc967439d9f22ff462cc677c8": {
          "model_module": "@jupyter-widgets/controls",
          "model_name": "DescriptionStyleModel",
          "model_module_version": "1.5.0",
          "state": {
            "_model_module": "@jupyter-widgets/controls",
            "_model_module_version": "1.5.0",
            "_model_name": "DescriptionStyleModel",
            "_view_count": null,
            "_view_module": "@jupyter-widgets/base",
            "_view_module_version": "1.2.0",
            "_view_name": "StyleView",
            "description_width": ""
          }
        },
        "4b279f7d1ae24b27a3f087c2cb14baf4": {
          "model_module": "@jupyter-widgets/output",
          "model_name": "OutputModel",
          "model_module_version": "1.0.0",
          "state": {
            "_dom_classes": [],
            "_model_module": "@jupyter-widgets/output",
            "_model_module_version": "1.0.0",
            "_model_name": "OutputModel",
            "_view_count": null,
            "_view_module": "@jupyter-widgets/output",
            "_view_module_version": "1.0.0",
            "_view_name": "OutputView",
            "layout": "IPY_MODEL_137ade6adfaf4dce9b6f18e0ea5994da",
            "msg_id": "",
            "outputs": []
          }
        },
        "0a1c7e40f5734a069285310197bcc823": {
          "model_module": "@jupyter-widgets/base",
          "model_name": "LayoutModel",
          "model_module_version": "1.2.0",
          "state": {
            "_model_module": "@jupyter-widgets/base",
            "_model_module_version": "1.2.0",
            "_model_name": "LayoutModel",
            "_view_count": null,
            "_view_module": "@jupyter-widgets/base",
            "_view_module_version": "1.2.0",
            "_view_name": "LayoutView",
            "align_content": null,
            "align_items": null,
            "align_self": null,
            "border": "1px dotted blue",
            "bottom": null,
            "display": null,
            "flex": null,
            "flex_flow": null,
            "grid_area": null,
            "grid_auto_columns": null,
            "grid_auto_flow": null,
            "grid_auto_rows": null,
            "grid_column": null,
            "grid_gap": null,
            "grid_row": null,
            "grid_template_areas": null,
            "grid_template_columns": null,
            "grid_template_rows": null,
            "height": "350px",
            "justify_content": null,
            "justify_items": null,
            "left": null,
            "margin": null,
            "max_height": null,
            "max_width": null,
            "min_height": null,
            "min_width": null,
            "object_fit": null,
            "object_position": null,
            "order": null,
            "overflow": "auto",
            "overflow_x": null,
            "overflow_y": null,
            "padding": null,
            "right": null,
            "top": null,
            "visibility": null,
            "width": null
          }
        },
        "0a85ae32f7b0462792d98752844ba1e9": {
          "model_module": "@jupyter-widgets/base",
          "model_name": "LayoutModel",
          "model_module_version": "1.2.0",
          "state": {
            "_model_module": "@jupyter-widgets/base",
            "_model_module_version": "1.2.0",
            "_model_name": "LayoutModel",
            "_view_count": null,
            "_view_module": "@jupyter-widgets/base",
            "_view_module_version": "1.2.0",
            "_view_name": "LayoutView",
            "align_content": null,
            "align_items": null,
            "align_self": null,
            "border": null,
            "bottom": null,
            "display": null,
            "flex": null,
            "flex_flow": null,
            "grid_area": null,
            "grid_auto_columns": null,
            "grid_auto_flow": null,
            "grid_auto_rows": null,
            "grid_column": null,
            "grid_gap": null,
            "grid_row": null,
            "grid_template_areas": null,
            "grid_template_columns": null,
            "grid_template_rows": null,
            "height": null,
            "justify_content": null,
            "justify_items": null,
            "left": null,
            "margin": null,
            "max_height": null,
            "max_width": null,
            "min_height": null,
            "min_width": null,
            "object_fit": null,
            "object_position": null,
            "order": null,
            "overflow": null,
            "overflow_x": null,
            "overflow_y": null,
            "padding": null,
            "right": null,
            "top": null,
            "visibility": null,
            "width": null
          }
        },
        "5072f9ea52b24e81b53fe1fae063176d": {
          "model_module": "@jupyter-widgets/controls",
          "model_name": "DescriptionStyleModel",
          "model_module_version": "1.5.0",
          "state": {
            "_model_module": "@jupyter-widgets/controls",
            "_model_module_version": "1.5.0",
            "_model_name": "DescriptionStyleModel",
            "_view_count": null,
            "_view_module": "@jupyter-widgets/base",
            "_view_module_version": "1.2.0",
            "_view_name": "StyleView",
            "description_width": ""
          }
        },
        "8c6745baa9294760a13c164d561fdc15": {
          "model_module": "@jupyter-widgets/controls",
          "model_name": "BoundedIntTextModel",
          "model_module_version": "1.5.0",
          "state": {
            "_dom_classes": [],
            "_model_module": "@jupyter-widgets/controls",
            "_model_module_version": "1.5.0",
            "_model_name": "BoundedIntTextModel",
            "_view_count": null,
            "_view_module": "@jupyter-widgets/controls",
            "_view_module_version": "1.5.0",
            "_view_name": "IntTextView",
            "continuous_update": false,
            "description": "Enter Key:",
            "description_tooltip": null,
            "disabled": false,
            "layout": "IPY_MODEL_447b8a0d8afd41b4aa94e6f6ecbd0eb6",
            "max": 100,
            "min": 0,
            "step": 2,
            "style": "IPY_MODEL_41a5315d8781496a94da0c96afc65c9e",
            "value": 20
          }
        },
        "dfba4f34a31640f3a78d97125a4af430": {
          "model_module": "@jupyter-widgets/controls",
          "model_name": "ButtonModel",
          "model_module_version": "1.5.0",
          "state": {
            "_dom_classes": [],
            "_model_module": "@jupyter-widgets/controls",
            "_model_module_version": "1.5.0",
            "_model_name": "ButtonModel",
            "_view_count": null,
            "_view_module": "@jupyter-widgets/controls",
            "_view_module_version": "1.5.0",
            "_view_name": "ButtonView",
            "button_style": "success",
            "description": "Insert",
            "disabled": false,
            "icon": "",
            "layout": "IPY_MODEL_f089ec98860046cd954da5d4bb716b08",
            "style": "IPY_MODEL_bc4e93613fb24aab9343c24c17b4a122",
            "tooltip": ""
          }
        },
        "058266c3d415422989884f05859b5de1": {
          "model_module": "@jupyter-widgets/controls",
          "model_name": "ButtonModel",
          "model_module_version": "1.5.0",
          "state": {
            "_dom_classes": [],
            "_model_module": "@jupyter-widgets/controls",
            "_model_module_version": "1.5.0",
            "_model_name": "ButtonModel",
            "_view_count": null,
            "_view_module": "@jupyter-widgets/controls",
            "_view_module_version": "1.5.0",
            "_view_name": "ButtonView",
            "button_style": "primary",
            "description": "Delete",
            "disabled": false,
            "icon": "",
            "layout": "IPY_MODEL_1893a173a2204fc1b08a4839a1dadeee",
            "style": "IPY_MODEL_18f3b1337ba94c32bb9cb96010c0d3df",
            "tooltip": ""
          }
        },
        "7cf3d651a27b4ec89f875161e9f14fcb": {
          "model_module": "@jupyter-widgets/controls",
          "model_name": "ButtonModel",
          "model_module_version": "1.5.0",
          "state": {
            "_dom_classes": [],
            "_model_module": "@jupyter-widgets/controls",
            "_model_module_version": "1.5.0",
            "_model_name": "ButtonModel",
            "_view_count": null,
            "_view_module": "@jupyter-widgets/controls",
            "_view_module_version": "1.5.0",
            "_view_name": "ButtonView",
            "button_style": "danger",
            "description": "Clear",
            "disabled": false,
            "icon": "",
            "layout": "IPY_MODEL_b31097c5bda3477298893de51365e252",
            "style": "IPY_MODEL_6bc3f371fb4b4d719d62198fa6856d14",
            "tooltip": ""
          }
        },
        "03036d1245af49b595c4966bb4895f19": {
          "model_module": "@jupyter-widgets/base",
          "model_name": "LayoutModel",
          "model_module_version": "1.2.0",
          "state": {
            "_model_module": "@jupyter-widgets/base",
            "_model_module_version": "1.2.0",
            "_model_name": "LayoutModel",
            "_view_count": null,
            "_view_module": "@jupyter-widgets/base",
            "_view_module_version": "1.2.0",
            "_view_name": "LayoutView",
            "align_content": null,
            "align_items": null,
            "align_self": null,
            "border": null,
            "bottom": null,
            "display": null,
            "flex": null,
            "flex_flow": null,
            "grid_area": null,
            "grid_auto_columns": null,
            "grid_auto_flow": null,
            "grid_auto_rows": null,
            "grid_column": null,
            "grid_gap": null,
            "grid_row": null,
            "grid_template_areas": null,
            "grid_template_columns": null,
            "grid_template_rows": null,
            "height": "50px",
            "justify_content": null,
            "justify_items": null,
            "left": null,
            "margin": null,
            "max_height": null,
            "max_width": null,
            "min_height": null,
            "min_width": null,
            "object_fit": null,
            "object_position": null,
            "order": null,
            "overflow": null,
            "overflow_x": null,
            "overflow_y": null,
            "padding": null,
            "right": null,
            "top": null,
            "visibility": null,
            "width": null
          }
        },
        "447b8a0d8afd41b4aa94e6f6ecbd0eb6": {
          "model_module": "@jupyter-widgets/base",
          "model_name": "LayoutModel",
          "model_module_version": "1.2.0",
          "state": {
            "_model_module": "@jupyter-widgets/base",
            "_model_module_version": "1.2.0",
            "_model_name": "LayoutModel",
            "_view_count": null,
            "_view_module": "@jupyter-widgets/base",
            "_view_module_version": "1.2.0",
            "_view_name": "LayoutView",
            "align_content": null,
            "align_items": null,
            "align_self": null,
            "border": null,
            "bottom": null,
            "display": null,
            "flex": null,
            "flex_flow": null,
            "grid_area": null,
            "grid_auto_columns": null,
            "grid_auto_flow": null,
            "grid_auto_rows": null,
            "grid_column": null,
            "grid_gap": null,
            "grid_row": null,
            "grid_template_areas": null,
            "grid_template_columns": null,
            "grid_template_rows": null,
            "height": null,
            "justify_content": null,
            "justify_items": null,
            "left": null,
            "margin": null,
            "max_height": null,
            "max_width": null,
            "min_height": null,
            "min_width": null,
            "object_fit": null,
            "object_position": null,
            "order": null,
            "overflow": null,
            "overflow_x": null,
            "overflow_y": null,
            "padding": null,
            "right": null,
            "top": null,
            "visibility": null,
            "width": null
          }
        },
        "41a5315d8781496a94da0c96afc65c9e": {
          "model_module": "@jupyter-widgets/controls",
          "model_name": "DescriptionStyleModel",
          "model_module_version": "1.5.0",
          "state": {
            "_model_module": "@jupyter-widgets/controls",
            "_model_module_version": "1.5.0",
            "_model_name": "DescriptionStyleModel",
            "_view_count": null,
            "_view_module": "@jupyter-widgets/base",
            "_view_module_version": "1.2.0",
            "_view_name": "StyleView",
            "description_width": ""
          }
        },
        "f089ec98860046cd954da5d4bb716b08": {
          "model_module": "@jupyter-widgets/base",
          "model_name": "LayoutModel",
          "model_module_version": "1.2.0",
          "state": {
            "_model_module": "@jupyter-widgets/base",
            "_model_module_version": "1.2.0",
            "_model_name": "LayoutModel",
            "_view_count": null,
            "_view_module": "@jupyter-widgets/base",
            "_view_module_version": "1.2.0",
            "_view_name": "LayoutView",
            "align_content": null,
            "align_items": null,
            "align_self": null,
            "border": null,
            "bottom": null,
            "display": null,
            "flex": null,
            "flex_flow": null,
            "grid_area": null,
            "grid_auto_columns": null,
            "grid_auto_flow": null,
            "grid_auto_rows": null,
            "grid_column": null,
            "grid_gap": null,
            "grid_row": null,
            "grid_template_areas": null,
            "grid_template_columns": null,
            "grid_template_rows": null,
            "height": null,
            "justify_content": null,
            "justify_items": null,
            "left": null,
            "margin": null,
            "max_height": null,
            "max_width": null,
            "min_height": null,
            "min_width": null,
            "object_fit": null,
            "object_position": null,
            "order": null,
            "overflow": null,
            "overflow_x": null,
            "overflow_y": null,
            "padding": null,
            "right": null,
            "top": null,
            "visibility": null,
            "width": null
          }
        },
        "bc4e93613fb24aab9343c24c17b4a122": {
          "model_module": "@jupyter-widgets/controls",
          "model_name": "ButtonStyleModel",
          "model_module_version": "1.5.0",
          "state": {
            "_model_module": "@jupyter-widgets/controls",
            "_model_module_version": "1.5.0",
            "_model_name": "ButtonStyleModel",
            "_view_count": null,
            "_view_module": "@jupyter-widgets/base",
            "_view_module_version": "1.2.0",
            "_view_name": "StyleView",
            "button_color": null,
            "font_weight": ""
          }
        },
        "1893a173a2204fc1b08a4839a1dadeee": {
          "model_module": "@jupyter-widgets/base",
          "model_name": "LayoutModel",
          "model_module_version": "1.2.0",
          "state": {
            "_model_module": "@jupyter-widgets/base",
            "_model_module_version": "1.2.0",
            "_model_name": "LayoutModel",
            "_view_count": null,
            "_view_module": "@jupyter-widgets/base",
            "_view_module_version": "1.2.0",
            "_view_name": "LayoutView",
            "align_content": null,
            "align_items": null,
            "align_self": null,
            "border": null,
            "bottom": null,
            "display": null,
            "flex": null,
            "flex_flow": null,
            "grid_area": null,
            "grid_auto_columns": null,
            "grid_auto_flow": null,
            "grid_auto_rows": null,
            "grid_column": null,
            "grid_gap": null,
            "grid_row": null,
            "grid_template_areas": null,
            "grid_template_columns": null,
            "grid_template_rows": null,
            "height": null,
            "justify_content": null,
            "justify_items": null,
            "left": null,
            "margin": null,
            "max_height": null,
            "max_width": null,
            "min_height": null,
            "min_width": null,
            "object_fit": null,
            "object_position": null,
            "order": null,
            "overflow": null,
            "overflow_x": null,
            "overflow_y": null,
            "padding": null,
            "right": null,
            "top": null,
            "visibility": null,
            "width": null
          }
        },
        "18f3b1337ba94c32bb9cb96010c0d3df": {
          "model_module": "@jupyter-widgets/controls",
          "model_name": "ButtonStyleModel",
          "model_module_version": "1.5.0",
          "state": {
            "_model_module": "@jupyter-widgets/controls",
            "_model_module_version": "1.5.0",
            "_model_name": "ButtonStyleModel",
            "_view_count": null,
            "_view_module": "@jupyter-widgets/base",
            "_view_module_version": "1.2.0",
            "_view_name": "StyleView",
            "button_color": null,
            "font_weight": ""
          }
        },
        "b31097c5bda3477298893de51365e252": {
          "model_module": "@jupyter-widgets/base",
          "model_name": "LayoutModel",
          "model_module_version": "1.2.0",
          "state": {
            "_model_module": "@jupyter-widgets/base",
            "_model_module_version": "1.2.0",
            "_model_name": "LayoutModel",
            "_view_count": null,
            "_view_module": "@jupyter-widgets/base",
            "_view_module_version": "1.2.0",
            "_view_name": "LayoutView",
            "align_content": null,
            "align_items": null,
            "align_self": null,
            "border": null,
            "bottom": null,
            "display": null,
            "flex": null,
            "flex_flow": null,
            "grid_area": null,
            "grid_auto_columns": null,
            "grid_auto_flow": null,
            "grid_auto_rows": null,
            "grid_column": null,
            "grid_gap": null,
            "grid_row": null,
            "grid_template_areas": null,
            "grid_template_columns": null,
            "grid_template_rows": null,
            "height": null,
            "justify_content": null,
            "justify_items": null,
            "left": null,
            "margin": null,
            "max_height": null,
            "max_width": null,
            "min_height": null,
            "min_width": null,
            "object_fit": null,
            "object_position": null,
            "order": null,
            "overflow": null,
            "overflow_x": null,
            "overflow_y": null,
            "padding": null,
            "right": null,
            "top": null,
            "visibility": null,
            "width": null
          }
        },
        "6bc3f371fb4b4d719d62198fa6856d14": {
          "model_module": "@jupyter-widgets/controls",
          "model_name": "ButtonStyleModel",
          "model_module_version": "1.5.0",
          "state": {
            "_model_module": "@jupyter-widgets/controls",
            "_model_module_version": "1.5.0",
            "_model_name": "ButtonStyleModel",
            "_view_count": null,
            "_view_module": "@jupyter-widgets/base",
            "_view_module_version": "1.2.0",
            "_view_name": "StyleView",
            "button_color": null,
            "font_weight": ""
          }
        },
        "137ade6adfaf4dce9b6f18e0ea5994da": {
          "model_module": "@jupyter-widgets/base",
          "model_name": "LayoutModel",
          "model_module_version": "1.2.0",
          "state": {
            "_model_module": "@jupyter-widgets/base",
            "_model_module_version": "1.2.0",
            "_model_name": "LayoutModel",
            "_view_count": null,
            "_view_module": "@jupyter-widgets/base",
            "_view_module_version": "1.2.0",
            "_view_name": "LayoutView",
            "align_content": null,
            "align_items": null,
            "align_self": null,
            "border": null,
            "bottom": null,
            "display": null,
            "flex": null,
            "flex_flow": null,
            "grid_area": null,
            "grid_auto_columns": null,
            "grid_auto_flow": null,
            "grid_auto_rows": null,
            "grid_column": null,
            "grid_gap": null,
            "grid_row": null,
            "grid_template_areas": null,
            "grid_template_columns": null,
            "grid_template_rows": null,
            "height": null,
            "justify_content": null,
            "justify_items": null,
            "left": null,
            "margin": null,
            "max_height": null,
            "max_width": null,
            "min_height": null,
            "min_width": null,
            "object_fit": null,
            "object_position": null,
            "order": null,
            "overflow": null,
            "overflow_x": null,
            "overflow_y": null,
            "padding": null,
            "right": null,
            "top": null,
            "visibility": null,
            "width": null
          }
        }
      }
    }
  },
  "cells": [
    {
      "cell_type": "code",
      "source": [
        "import numpy as np\n",
        "from numpy.random import seed, randint\n",
        "import ipywidgets as widgets \n",
        "from ipywidgets import interact, interactive_output, HBox, VBox, Layout\n",
        "from IPython.display import display, clear_output, SVG, HTML\n",
        "import graphviz as gv \n",
        "from graphviz import Digraph\n",
        "import pydot"
      ],
      "metadata": {
        "id": "0ZCWN_NO_zVu"
      },
      "execution_count": 119,
      "outputs": []
    },
    {
      "cell_type": "markdown",
      "source": [
        "# Clase TreeNode"
      ],
      "metadata": {
        "id": "waKYYobgb0bV"
      }
    },
    {
      "cell_type": "code",
      "source": [
        "class TreeNode:\n",
        "  def __init__(self, key):\n",
        "    self.key = key\n",
        "    self.parent = None\n",
        "    self.left = None\n",
        "    self.right = None\n",
        "    self.pos = [0, 0] \n",
        "    self.col = \"black\" # Color\n",
        "    self.h = 0 # Height\n",
        "  def spos(self):\n",
        "    ''' Position of a node for neato '''\n",
        "    return str(self.pos[0]) + \",\" + str(self.pos[1]) + \"!\"\n",
        "  def to_string(self):\n",
        "    return str(self.key)\n",
        "  def print(self):        \n",
        "    print(\"TreeNode: %d\" % (self.key))"
      ],
      "metadata": {
        "id": "Zp-42CH-_zTm"
      },
      "execution_count": 120,
      "outputs": []
    },
    {
      "cell_type": "code",
      "source": [
        "n10 = TreeNode(10)\n",
        "n5 = TreeNode(5)\n",
        "n14 = TreeNode(14)\n",
        "# Crear árbol vinculando los nodos del árbol\n",
        "n5.parent = n10; n14.parent = n10\n",
        "n10.left = n5 # hijo izquierdo\n",
        "n10.right = n14 # hijo derecho\n",
        "print([n10.to_string(), n10.left.to_string(), n10.right.to_string()])"
      ],
      "metadata": {
        "colab": {
          "base_uri": "https://localhost:8080/"
        },
        "id": "MCiAsNQ657y0",
        "outputId": "16d50b1e-c7f9-4cdd-9844-ca99b127feca"
      },
      "execution_count": 121,
      "outputs": [
        {
          "output_type": "stream",
          "name": "stdout",
          "text": [
            "['10', '5', '14']\n"
          ]
        }
      ]
    },
    {
      "cell_type": "markdown",
      "source": [
        "# Binary search tree (BST)"
      ],
      "metadata": {
        "id": "cSS7utg6cBJ8"
      }
    },
    {
      "cell_type": "code",
      "source": [
        "class BST():\n",
        "    def __init__(self):\n",
        "        self.root = None \n",
        "        self.list = [] \n",
        "\n",
        "    def insert(self, k):\n",
        "        ''' Insert a key '''\n",
        "        newNode = TreeNode(k)\n",
        "        # Si el árbol está vacío, el nuevo nodo es la raíz\n",
        "        if self.root == None:\n",
        "            self.root = newNode\n",
        "        else:        \n",
        "            x = self.root\n",
        "            # Buscar nodo primario\n",
        "            while x != None:\n",
        "                p = x\n",
        "                if newNode.key < x.key:\n",
        "                    x = x.left\n",
        "                elif newNode.key >= x.key:\n",
        "                    x = x.right\n",
        "            # Establecer padre, hijo izquierdo y derecho para newNode\n",
        "            newNode.parent = p       \n",
        "            if newNode.key < p.key:\n",
        "                p.left = newNode\n",
        "            else: \n",
        "                p.right = newNode\n",
        "    def insert_keys(self, keys): \n",
        "\n",
        "        for k in keys:\n",
        "            self.insert(k)\n",
        "        \n",
        "    def search(self, x, k):\n",
        "\n",
        "        if (x == None or x.key == k):\n",
        "            return x\n",
        "        if (k < x.key):\n",
        "            return self.search(x.left, k)\n",
        "        else: \n",
        "            return self.search(x.right, k)\n",
        "    def find(self, k):  \n",
        "        return self.search(self.root, k)   \n",
        "    \n",
        "    def transplant(self, u, v):\n",
        "\n",
        "        if (u.parent == None):\n",
        "            self.root = u\n",
        "        elif u == u.parent.left:\n",
        "            u.parent.left = v\n",
        "        else:\n",
        "            u.parent.right = v\n",
        "        if v != None:\n",
        "            v.parent = u.parent\n",
        "            \n",
        "    def tree_minimum(self, x):\n",
        "   \n",
        "        while (x.left != None):\n",
        "            x = x.left\n",
        "        return x;\n",
        "\n",
        "    def tree_max(self, x):\n",
        "\n",
        "        while (x.right != None):\n",
        "            x = x.right\n",
        "        return x;\n",
        "\n",
        "    def delete(self, k):\n",
        "        '''Eliminar nodo con la clave k del árbol '''\n",
        "        z = self.search(self.root, k)\n",
        "        if z == None:\n",
        "            return\n",
        "        if z.left == None: # case 1: z has no left child\n",
        "            self.transplant(z, z.right)\n",
        "        elif z.right == None: # case 2: z has no right child\n",
        "            self.transplant(z, z.left)\n",
        "        else: \n",
        "            y = self.tree_minimum(z.right) # determine smallest value in z.right\n",
        "            if (y.parent != z):\n",
        "                self.transplant(y, y.right)\n",
        "                y.right = z.right\n",
        "                y.right.parent = y\n",
        "            self.transplant(z, y)\n",
        "            y.left = z.left\n",
        "            y.left.parent = y\n",
        "            if (z == self.root):\n",
        "                self.root = y\n",
        "                       \n",
        "    def rotate_left(self, x):\n",
        "      ''' Rotate left on node x'''\n",
        "      y = x.right # set y to be right child\n",
        "      # Gire el subárbol izquierdo de Y al subárbol derecho de X\n",
        "      x.right = y.left\n",
        "      if y.left != None:\n",
        "          y.left.parent = x\n",
        "      y.parent = x.parent # link x's parent to y\n",
        "      if x.parent == None: # Case 1: x is root\n",
        "          self.root = y\n",
        "      elif x == x.parent.left: # Case 2: x is left child\n",
        "          x.parent.left = y\n",
        "      else: # Case 3: x is right child\n",
        "          x.parent.right = y\n",
        "      y.left = x\n",
        "      x.parent = y\n",
        "\n",
        "\n",
        "    def rotate_right(self, x):\n",
        "      y = x.left # set y to be left child\n",
        "      # turn y's left subtree to x's right subtree\n",
        "      x.left = y.right\n",
        "      if y.right != None:\n",
        "          y.right.parent = x\n",
        "      y.parent = x.parent # link x's parent to y\n",
        "      if x.parent == None: # Case 1: x is root\n",
        "          self.root = y\n",
        "      elif x == x.parent.right: # Case 2: x is right child\n",
        "          x.parent.right = y\n",
        "      else: # Case 3: x is left child\n",
        "          x.parent.left = y\n",
        "      y.right = x\n",
        "      x.parent = y\n",
        "        \n",
        "\n",
        "    def height(self, x):\n",
        "        if (x == None):\n",
        "            return 0\n",
        "        else: \n",
        "            return 1 + np.maximum(self.height(x.left),  self.height(x.right))\n",
        "    \n",
        "    def inorder_traversal(self, x):\n",
        "        '''Inorder traversal of the tree: returns elements sorted by key '''\n",
        "        if (x != None):\n",
        "            if (x == self.root):\n",
        "                self.list = []\n",
        "            self.inorder_traversal(x.left)\n",
        "            self.list.append(x.to_string())\n",
        "            self.inorder_traversal(x.right)\n",
        "\n",
        "    def postorder_traversal(self, x):\n",
        "        '''Postorder traversal of the tree: left child, right child, root '''\n",
        "        if (x != None):\n",
        "            if (x == self.root):\n",
        "                self.list = []\n",
        "            self.postorder_traversal(x.left)\n",
        "            self.postorder_traversal(x.right)\n",
        "            self.list.append(x.to_string())\n",
        "        \n",
        "\n",
        "    def visualize(self, node = None):   \n",
        "        ''' Visualize the tree using graphviz '''\n",
        "        tree = self.root              \n",
        "        # Recursively add nodes and edges\n",
        "        def add_nodes_edges(tree, dot=None):\n",
        "            col = \"black\"           \n",
        "            # Create Graphviz Digraph \n",
        "            if dot is None:\n",
        "                dot = Digraph()\n",
        "                dot.node(name=str(tree), label=str(tree.key), \n",
        "                         color = col, shape=\"circle\", fixedsize=\"True\", width=\"0.4\")                      \n",
        "            # Add nodes recursively\n",
        "            if tree.left:            \n",
        "                if (node != None and tree.left.key == node.key):                   \n",
        "                    col = \"green\"  \n",
        "                dot.node(name=str(tree.left), label=str(tree.left.key), \n",
        "                         color = col, shape=\"circle\", fixedsize=\"True\", width=\"0.4\")\n",
        "                dot.edge(str(tree), str(tree.left))\n",
        "                dot = add_nodes_edges(tree.left, dot=dot)               \n",
        "            if tree.right:\n",
        "                if (node != None and tree.right.key == node.key): \n",
        "                    col = \"red\" \n",
        "                dot.node(name=str(tree.right), label=str(tree.right.key), \n",
        "                         color = col, shape=\"circle\", fixedsize=\"True\", width=\"0.4\")\n",
        "                dot.edge(str(tree), str(tree.right))\n",
        "                dot = add_nodes_edges(tree.right, dot=dot)            \n",
        "            return dot        \n",
        "        return add_nodes_edges(tree)   "
      ],
      "metadata": {
        "id": "LkRKsPmS_zRO"
      },
      "execution_count": 122,
      "outputs": []
    },
    {
      "cell_type": "code",
      "source": [
        "class BSTViz: \n",
        "  def __init__(self, bst):\n",
        "      self.bst = bst\n",
        "  def visualize(self):   \n",
        "      ''' Visualize the tree using graphviz '''\n",
        "      tree = self.bst.root # start with root of the tree \n",
        "      dot = Digraph()\n",
        "      dot.engine = 'neato'\n",
        "      # Place root node at position tree.pos \n",
        "      h = self.bst.height(tree)\n",
        "      tree.pos = [0, h]          \n",
        "      dot.node(name=str(tree), label=str(tree.key), color = tree.col, shape=\"circle\", \n",
        "               fixedsize=\"True\", width=\"0.4\", pos=tree.spos())\n",
        "      # Recursively place the other nodes and edges              \n",
        "      def add_nodes(tree, dot):            \n",
        "          if tree.left: # if left subtree: position node to left of parent            \n",
        "              tree.left.pos[0] = tree.pos[0] - h/4 # x\n",
        "              tree.left.pos[1] = tree.pos[1] - 0.6 # y       \n",
        "              dot.node(name=str(tree.left), label=str(tree.left.key), color = tree.left.col, \n",
        "                       shape=\"circle\", fixedsize=\"True\", width=\"0.4\", pos=tree.left.spos())\n",
        "              dot.edge(str(tree), str(tree.left))\n",
        "              dot = add_nodes(tree.left, dot=dot) \n",
        "          if tree.right: # if right subtree: position node to right of parent                    \n",
        "              tree.right.pos[0] = tree.pos[0] + h/4 # x\n",
        "              tree.right.pos[1] = tree.pos[1] - 0.6 # y                \n",
        "              dot.node(name=str(tree.right), label=str(tree.right.key), color = tree.right.col, \n",
        "                       shape=\"circle\", fixedsize=\"True\", width=\"0.4\", pos=tree.right.spos())\n",
        "              dot.edge(str(tree), str(tree.right))\n",
        "              dot = add_nodes(tree.right, dot=dot)                     \n",
        "          return dot \n",
        "      display(add_nodes(tree, dot))  "
      ],
      "metadata": {
        "id": "TN2-gIOsLrSQ"
      },
      "execution_count": 123,
      "outputs": []
    },
    {
      "cell_type": "code",
      "source": [
        "#Insertar nodos\n",
        "bst = BST()\n",
        "print(\"Insertar 10, 30, 20 en BST\")\n",
        "bst.insert_keys([10, 30, 20])\n",
        "dot = bst.visualize()\n",
        "display(dot)\n"
      ],
      "metadata": {
        "colab": {
          "base_uri": "https://localhost:8080/",
          "height": 261
        },
        "id": "PRHuE4ig_SYX",
        "outputId": "b8899624-5d8a-4ca1-e8f6-ae8d4a02f592"
      },
      "execution_count": 124,
      "outputs": [
        {
          "output_type": "stream",
          "name": "stdout",
          "text": [
            "Insertar 10, 30, 20 en BST\n"
          ]
        },
        {
          "output_type": "display_data",
          "data": {
            "text/plain": [
              "<graphviz.dot.Digraph at 0x7f0bb53ab0d0>"
            ],
            "image/svg+xml": "<?xml version=\"1.0\" encoding=\"UTF-8\" standalone=\"no\"?>\n<!DOCTYPE svg PUBLIC \"-//W3C//DTD SVG 1.1//EN\"\n \"http://www.w3.org/Graphics/SVG/1.1/DTD/svg11.dtd\">\n<!-- Generated by graphviz version 2.40.1 (20161225.0304)\n -->\n<!-- Title: %3 Pages: 1 -->\n<svg width=\"37pt\" height=\"167pt\"\n viewBox=\"0.00 0.00 37.00 167.00\" xmlns=\"http://www.w3.org/2000/svg\" xmlns:xlink=\"http://www.w3.org/1999/xlink\">\n<g id=\"graph0\" class=\"graph\" transform=\"scale(1 1) rotate(0) translate(4 163)\">\n<title>%3</title>\n<polygon fill=\"#ffffff\" stroke=\"transparent\" points=\"-4,4 -4,-163 33,-163 33,4 -4,4\"/>\n<!-- __main__.TreeNode object at 0x7f0bb52d1990 -->\n<g id=\"node1\" class=\"node\">\n<title>__main__.TreeNode object at 0x7f0bb52d1990</title>\n<ellipse fill=\"none\" stroke=\"#000000\" cx=\"14.5\" cy=\"-144.5\" rx=\"14.5\" ry=\"14.5\"/>\n<text text-anchor=\"middle\" x=\"14.5\" y=\"-140.8\" font-family=\"Times,serif\" font-size=\"14.00\" fill=\"#000000\">10</text>\n</g>\n<!-- __main__.TreeNode object at 0x7f0bb52d1b90 -->\n<g id=\"node2\" class=\"node\">\n<title>__main__.TreeNode object at 0x7f0bb52d1b90</title>\n<ellipse fill=\"none\" stroke=\"#000000\" cx=\"14.5\" cy=\"-79.5\" rx=\"14.5\" ry=\"14.5\"/>\n<text text-anchor=\"middle\" x=\"14.5\" y=\"-75.8\" font-family=\"Times,serif\" font-size=\"14.00\" fill=\"#000000\">30</text>\n</g>\n<!-- __main__.TreeNode object at 0x7f0bb52d1990&#45;&gt;__main__.TreeNode object at 0x7f0bb52d1b90 -->\n<g id=\"edge1\" class=\"edge\">\n<title>__main__.TreeNode object at 0x7f0bb52d1990&#45;&gt;__main__.TreeNode object at 0x7f0bb52d1b90</title>\n<path fill=\"none\" stroke=\"#000000\" d=\"M14.5,-129.7505C14.5,-122.2709 14.5,-112.9819 14.5,-104.4327\"/>\n<polygon fill=\"#000000\" stroke=\"#000000\" points=\"18.0001,-104.1911 14.5,-94.1911 11.0001,-104.1912 18.0001,-104.1911\"/>\n</g>\n<!-- __main__.TreeNode object at 0x7f0bb53ab050 -->\n<g id=\"node3\" class=\"node\">\n<title>__main__.TreeNode object at 0x7f0bb53ab050</title>\n<ellipse fill=\"none\" stroke=\"#000000\" cx=\"14.5\" cy=\"-14.5\" rx=\"14.5\" ry=\"14.5\"/>\n<text text-anchor=\"middle\" x=\"14.5\" y=\"-10.8\" font-family=\"Times,serif\" font-size=\"14.00\" fill=\"#000000\">20</text>\n</g>\n<!-- __main__.TreeNode object at 0x7f0bb52d1b90&#45;&gt;__main__.TreeNode object at 0x7f0bb53ab050 -->\n<g id=\"edge2\" class=\"edge\">\n<title>__main__.TreeNode object at 0x7f0bb52d1b90&#45;&gt;__main__.TreeNode object at 0x7f0bb53ab050</title>\n<path fill=\"none\" stroke=\"#000000\" d=\"M14.5,-64.7505C14.5,-57.2709 14.5,-47.9819 14.5,-39.4327\"/>\n<polygon fill=\"#000000\" stroke=\"#000000\" points=\"18.0001,-39.1911 14.5,-29.1911 11.0001,-39.1912 18.0001,-39.1911\"/>\n</g>\n</g>\n</svg>\n"
          },
          "metadata": {}
        }
      ]
    },
    {
      "cell_type": "code",
      "source": [
        "print(\"Rotar el nodo 30\")\n",
        "bst.rotate_right(bst.find(30))\n",
        "dot = bst.visualize()\n",
        "display(dot)\n"
      ],
      "metadata": {
        "colab": {
          "base_uri": "https://localhost:8080/",
          "height": 261
        },
        "id": "v5FPPg-P_dTP",
        "outputId": "367d1f3b-0446-4292-d720-c440c5ac3215"
      },
      "execution_count": 125,
      "outputs": [
        {
          "output_type": "stream",
          "name": "stdout",
          "text": [
            "Rotar el nodo 30\n"
          ]
        },
        {
          "output_type": "display_data",
          "data": {
            "text/plain": [
              "<graphviz.dot.Digraph at 0x7f0bb52a4f10>"
            ],
            "image/svg+xml": "<?xml version=\"1.0\" encoding=\"UTF-8\" standalone=\"no\"?>\n<!DOCTYPE svg PUBLIC \"-//W3C//DTD SVG 1.1//EN\"\n \"http://www.w3.org/Graphics/SVG/1.1/DTD/svg11.dtd\">\n<!-- Generated by graphviz version 2.40.1 (20161225.0304)\n -->\n<!-- Title: %3 Pages: 1 -->\n<svg width=\"37pt\" height=\"167pt\"\n viewBox=\"0.00 0.00 37.00 167.00\" xmlns=\"http://www.w3.org/2000/svg\" xmlns:xlink=\"http://www.w3.org/1999/xlink\">\n<g id=\"graph0\" class=\"graph\" transform=\"scale(1 1) rotate(0) translate(4 163)\">\n<title>%3</title>\n<polygon fill=\"#ffffff\" stroke=\"transparent\" points=\"-4,4 -4,-163 33,-163 33,4 -4,4\"/>\n<!-- __main__.TreeNode object at 0x7f0bb52d1990 -->\n<g id=\"node1\" class=\"node\">\n<title>__main__.TreeNode object at 0x7f0bb52d1990</title>\n<ellipse fill=\"none\" stroke=\"#000000\" cx=\"14.5\" cy=\"-144.5\" rx=\"14.5\" ry=\"14.5\"/>\n<text text-anchor=\"middle\" x=\"14.5\" y=\"-140.8\" font-family=\"Times,serif\" font-size=\"14.00\" fill=\"#000000\">10</text>\n</g>\n<!-- __main__.TreeNode object at 0x7f0bb53ab050 -->\n<g id=\"node2\" class=\"node\">\n<title>__main__.TreeNode object at 0x7f0bb53ab050</title>\n<ellipse fill=\"none\" stroke=\"#000000\" cx=\"14.5\" cy=\"-79.5\" rx=\"14.5\" ry=\"14.5\"/>\n<text text-anchor=\"middle\" x=\"14.5\" y=\"-75.8\" font-family=\"Times,serif\" font-size=\"14.00\" fill=\"#000000\">20</text>\n</g>\n<!-- __main__.TreeNode object at 0x7f0bb52d1990&#45;&gt;__main__.TreeNode object at 0x7f0bb53ab050 -->\n<g id=\"edge1\" class=\"edge\">\n<title>__main__.TreeNode object at 0x7f0bb52d1990&#45;&gt;__main__.TreeNode object at 0x7f0bb53ab050</title>\n<path fill=\"none\" stroke=\"#000000\" d=\"M14.5,-129.7505C14.5,-122.2709 14.5,-112.9819 14.5,-104.4327\"/>\n<polygon fill=\"#000000\" stroke=\"#000000\" points=\"18.0001,-104.1911 14.5,-94.1911 11.0001,-104.1912 18.0001,-104.1911\"/>\n</g>\n<!-- __main__.TreeNode object at 0x7f0bb52d1b90 -->\n<g id=\"node3\" class=\"node\">\n<title>__main__.TreeNode object at 0x7f0bb52d1b90</title>\n<ellipse fill=\"none\" stroke=\"#000000\" cx=\"14.5\" cy=\"-14.5\" rx=\"14.5\" ry=\"14.5\"/>\n<text text-anchor=\"middle\" x=\"14.5\" y=\"-10.8\" font-family=\"Times,serif\" font-size=\"14.00\" fill=\"#000000\">30</text>\n</g>\n<!-- __main__.TreeNode object at 0x7f0bb53ab050&#45;&gt;__main__.TreeNode object at 0x7f0bb52d1b90 -->\n<g id=\"edge2\" class=\"edge\">\n<title>__main__.TreeNode object at 0x7f0bb53ab050&#45;&gt;__main__.TreeNode object at 0x7f0bb52d1b90</title>\n<path fill=\"none\" stroke=\"#000000\" d=\"M14.5,-64.7505C14.5,-57.2709 14.5,-47.9819 14.5,-39.4327\"/>\n<polygon fill=\"#000000\" stroke=\"#000000\" points=\"18.0001,-39.1911 14.5,-29.1911 11.0001,-39.1912 18.0001,-39.1911\"/>\n</g>\n</g>\n</svg>\n"
          },
          "metadata": {}
        }
      ]
    },
    {
      "cell_type": "code",
      "source": [
        "print(\"Girar a la izquierda en 10\")\n",
        "bst.rotate_left(bst.find(10))\n",
        "dot = bst.visualize()\n",
        "display(dot)"
      ],
      "metadata": {
        "colab": {
          "base_uri": "https://localhost:8080/",
          "height": 175
        },
        "id": "xgfRiGOE_dQ_",
        "outputId": "2915444c-5e80-4cb4-eb28-b8e4de3a6468"
      },
      "execution_count": 126,
      "outputs": [
        {
          "output_type": "stream",
          "name": "stdout",
          "text": [
            "Girar a la izquierda en 10\n"
          ]
        },
        {
          "output_type": "display_data",
          "data": {
            "text/plain": [
              "<graphviz.dot.Digraph at 0x7f0bb5366210>"
            ],
            "image/svg+xml": "<?xml version=\"1.0\" encoding=\"UTF-8\" standalone=\"no\"?>\n<!DOCTYPE svg PUBLIC \"-//W3C//DTD SVG 1.1//EN\"\n \"http://www.w3.org/Graphics/SVG/1.1/DTD/svg11.dtd\">\n<!-- Generated by graphviz version 2.40.1 (20161225.0304)\n -->\n<!-- Title: %3 Pages: 1 -->\n<svg width=\"84pt\" height=\"102pt\"\n viewBox=\"0.00 0.00 84.00 102.00\" xmlns=\"http://www.w3.org/2000/svg\" xmlns:xlink=\"http://www.w3.org/1999/xlink\">\n<g id=\"graph0\" class=\"graph\" transform=\"scale(1 1) rotate(0) translate(4 98)\">\n<title>%3</title>\n<polygon fill=\"#ffffff\" stroke=\"transparent\" points=\"-4,4 -4,-98 80,-98 80,4 -4,4\"/>\n<!-- __main__.TreeNode object at 0x7f0bb53ab050 -->\n<g id=\"node1\" class=\"node\">\n<title>__main__.TreeNode object at 0x7f0bb53ab050</title>\n<ellipse fill=\"none\" stroke=\"#000000\" cx=\"37.5\" cy=\"-79.5\" rx=\"14.5\" ry=\"14.5\"/>\n<text text-anchor=\"middle\" x=\"37.5\" y=\"-75.8\" font-family=\"Times,serif\" font-size=\"14.00\" fill=\"#000000\">20</text>\n</g>\n<!-- __main__.TreeNode object at 0x7f0bb52d1990 -->\n<g id=\"node2\" class=\"node\">\n<title>__main__.TreeNode object at 0x7f0bb52d1990</title>\n<ellipse fill=\"none\" stroke=\"#000000\" cx=\"14.5\" cy=\"-14.5\" rx=\"14.5\" ry=\"14.5\"/>\n<text text-anchor=\"middle\" x=\"14.5\" y=\"-10.8\" font-family=\"Times,serif\" font-size=\"14.00\" fill=\"#000000\">10</text>\n</g>\n<!-- __main__.TreeNode object at 0x7f0bb53ab050&#45;&gt;__main__.TreeNode object at 0x7f0bb52d1990 -->\n<g id=\"edge1\" class=\"edge\">\n<title>__main__.TreeNode object at 0x7f0bb53ab050&#45;&gt;__main__.TreeNode object at 0x7f0bb52d1990</title>\n<path fill=\"none\" stroke=\"#000000\" d=\"M32.6223,-65.7152C29.7559,-57.6145 26.0568,-47.1606 22.7488,-37.8119\"/>\n<polygon fill=\"#000000\" stroke=\"#000000\" points=\"26.0061,-36.5246 19.3707,-28.265 19.407,-38.8597 26.0061,-36.5246\"/>\n</g>\n<!-- __main__.TreeNode object at 0x7f0bb52d1b90 -->\n<g id=\"node3\" class=\"node\">\n<title>__main__.TreeNode object at 0x7f0bb52d1b90</title>\n<ellipse fill=\"none\" stroke=\"#000000\" cx=\"61.5\" cy=\"-14.5\" rx=\"14.5\" ry=\"14.5\"/>\n<text text-anchor=\"middle\" x=\"61.5\" y=\"-10.8\" font-family=\"Times,serif\" font-size=\"14.00\" fill=\"#000000\">30</text>\n</g>\n<!-- __main__.TreeNode object at 0x7f0bb53ab050&#45;&gt;__main__.TreeNode object at 0x7f0bb52d1b90 -->\n<g id=\"edge2\" class=\"edge\">\n<title>__main__.TreeNode object at 0x7f0bb53ab050&#45;&gt;__main__.TreeNode object at 0x7f0bb52d1b90</title>\n<path fill=\"none\" stroke=\"#000000\" d=\"M42.5898,-65.7152C45.5808,-57.6145 49.4407,-47.1606 52.8925,-37.8119\"/>\n<polygon fill=\"#000000\" stroke=\"#000000\" points=\"56.2371,-38.8583 56.4176,-28.265 49.6704,-36.4336 56.2371,-38.8583\"/>\n</g>\n</g>\n</svg>\n"
          },
          "metadata": {}
        }
      ]
    },
    {
      "cell_type": "markdown",
      "source": [
        "# AVLTree\n",
        "La clase AVLTree se define como una subclase de la clase BST, por lo que hereda las variables y los métodos de la clase base y los extiende."
      ],
      "metadata": {
        "id": "vggGrjxEciNp"
      }
    },
    {
      "cell_type": "code",
      "source": [
        "class AVLTree(BST): \n",
        "  def __init__(self):\n",
        "    super().__init__()\n",
        "  \n",
        "  def insert(self, k):\n",
        "    ''' Insert a key '''\n",
        "    super().insert(k)\n",
        "    p = super().find(k) \n",
        "    prevBalance = 0\n",
        "    while (p != None):\n",
        "        b = super().height(p.right) - super().height(p.left)\n",
        "        if (b > 1 and prevBalance > 0): # Case 1\n",
        "            super().rotate_left(p)\n",
        "        elif (b < 1 and prevBalance < 0): # Case 2\n",
        "            super().rotate_right(p)\n",
        "        elif (b > 1 and prevBalance < 0): #  Case 3\n",
        "            super().rotate_right(p.right)\n",
        "            super().rotate_left(p)\n",
        "        elif (b < -1 and prevBalance > 0): # Case 4             \n",
        "            super().rotate_left(p.left)\n",
        "            super().rotate_right(p)\n",
        "        prevBalance = b\n",
        "        p = p.parent"
      ],
      "metadata": {
        "id": "aruBbsnWHvZW"
      },
      "execution_count": 127,
      "outputs": []
    },
    {
      "cell_type": "code",
      "source": [
        "class AVLViz: \n",
        "  def __init__(self, bst):\n",
        "      self.bst = bst\n",
        "  def visualize(self):   \n",
        "      ''' Visualize the tree using graphviz '''\n",
        "      tree = self.bst.root # start with root of the tree \n",
        "      dot = Digraph()\n",
        "      dot.engine = 'neato'\n",
        "      # Place root node at position tree.pos \n",
        "      h = self.bst.height(tree)\n",
        "      tree.pos = [0, h]          \n",
        "      dot.node(name=str(tree), label=str(tree.key), color = tree.col, shape=\"circle\", \n",
        "               fixedsize=\"True\", width=\"0.4\", pos=tree.spos())\n",
        "      # Recursively place the other nodes and edges              \n",
        "      def add_nodes(tree, dot):            \n",
        "          if tree.left: # if left subtree: position node to left of parent            \n",
        "              tree.left.pos[0] = tree.pos[0] - h/4 # x\n",
        "              tree.left.pos[1] = tree.pos[1] - 0.6 # y       \n",
        "              dot.node(name=str(tree.left), label=str(tree.left.key), color = tree.left.col, \n",
        "                       shape=\"circle\", fixedsize=\"True\", width=\"0.4\", pos=tree.left.spos())\n",
        "              dot.edge(str(tree), str(tree.left))\n",
        "              dot = add_nodes(tree.left, dot=dot) \n",
        "          if tree.right: # if right subtree: position node to right of parent                    \n",
        "              tree.right.pos[0] = tree.pos[0] + h/4 # x\n",
        "              tree.right.pos[1] = tree.pos[1] - 0.6 # y                \n",
        "              dot.node(name=str(tree.right), label=str(tree.right.key), color = tree.right.col, \n",
        "                       shape=\"circle\", fixedsize=\"True\", width=\"0.4\", pos=tree.right.spos())\n",
        "              dot.edge(str(tree), str(tree.right))\n",
        "              dot = add_nodes(tree.right, dot=dot)                     \n",
        "          return dot \n",
        "      display(add_nodes(tree, dot))  "
      ],
      "metadata": {
        "id": "TubpCTtqLrPn"
      },
      "execution_count": 128,
      "outputs": []
    },
    {
      "cell_type": "markdown",
      "source": [
        "# Insertar nodos en BST\n"
      ],
      "metadata": {
        "id": "_XeXqAdmeAWI"
      }
    },
    {
      "cell_type": "code",
      "source": [
        "bts = BST()\n",
        "print(\"Insertar 1, 2, 3, 4, 5,6,7,8,9,10\")\n",
        "bts.insert_keys([1, 2, 3, 4, 5])\n",
        "dot = bts.visualize()\n",
        "display(dot)"
      ],
      "metadata": {
        "colab": {
          "base_uri": "https://localhost:8080/",
          "height": 435
        },
        "id": "HW2UsO4RH-Pm",
        "outputId": "3b75b95b-5482-4a37-b3f0-bdb00171e333"
      },
      "execution_count": 129,
      "outputs": [
        {
          "output_type": "stream",
          "name": "stdout",
          "text": [
            "Insertar 1, 2, 3, 4, 5,6,7,8,9,10\n"
          ]
        },
        {
          "output_type": "display_data",
          "data": {
            "text/plain": [
              "<graphviz.dot.Digraph at 0x7f0bb52a4ad0>"
            ],
            "image/svg+xml": "<?xml version=\"1.0\" encoding=\"UTF-8\" standalone=\"no\"?>\n<!DOCTYPE svg PUBLIC \"-//W3C//DTD SVG 1.1//EN\"\n \"http://www.w3.org/Graphics/SVG/1.1/DTD/svg11.dtd\">\n<!-- Generated by graphviz version 2.40.1 (20161225.0304)\n -->\n<!-- Title: %3 Pages: 1 -->\n<svg width=\"37pt\" height=\"297pt\"\n viewBox=\"0.00 0.00 37.00 297.00\" xmlns=\"http://www.w3.org/2000/svg\" xmlns:xlink=\"http://www.w3.org/1999/xlink\">\n<g id=\"graph0\" class=\"graph\" transform=\"scale(1 1) rotate(0) translate(4 293)\">\n<title>%3</title>\n<polygon fill=\"#ffffff\" stroke=\"transparent\" points=\"-4,4 -4,-293 33,-293 33,4 -4,4\"/>\n<!-- __main__.TreeNode object at 0x7f0bb530f490 -->\n<g id=\"node1\" class=\"node\">\n<title>__main__.TreeNode object at 0x7f0bb530f490</title>\n<ellipse fill=\"none\" stroke=\"#000000\" cx=\"14.5\" cy=\"-274.5\" rx=\"14.5\" ry=\"14.5\"/>\n<text text-anchor=\"middle\" x=\"14.5\" y=\"-270.8\" font-family=\"Times,serif\" font-size=\"14.00\" fill=\"#000000\">1</text>\n</g>\n<!-- __main__.TreeNode object at 0x7f0bb530f450 -->\n<g id=\"node2\" class=\"node\">\n<title>__main__.TreeNode object at 0x7f0bb530f450</title>\n<ellipse fill=\"none\" stroke=\"#000000\" cx=\"14.5\" cy=\"-209.5\" rx=\"14.5\" ry=\"14.5\"/>\n<text text-anchor=\"middle\" x=\"14.5\" y=\"-205.8\" font-family=\"Times,serif\" font-size=\"14.00\" fill=\"#000000\">2</text>\n</g>\n<!-- __main__.TreeNode object at 0x7f0bb530f490&#45;&gt;__main__.TreeNode object at 0x7f0bb530f450 -->\n<g id=\"edge1\" class=\"edge\">\n<title>__main__.TreeNode object at 0x7f0bb530f490&#45;&gt;__main__.TreeNode object at 0x7f0bb530f450</title>\n<path fill=\"none\" stroke=\"#000000\" d=\"M14.5,-259.7505C14.5,-252.2709 14.5,-242.9819 14.5,-234.4327\"/>\n<polygon fill=\"#000000\" stroke=\"#000000\" points=\"18.0001,-234.1911 14.5,-224.1911 11.0001,-234.1912 18.0001,-234.1911\"/>\n</g>\n<!-- __main__.TreeNode object at 0x7f0bb530f890 -->\n<g id=\"node3\" class=\"node\">\n<title>__main__.TreeNode object at 0x7f0bb530f890</title>\n<ellipse fill=\"none\" stroke=\"#000000\" cx=\"14.5\" cy=\"-144.5\" rx=\"14.5\" ry=\"14.5\"/>\n<text text-anchor=\"middle\" x=\"14.5\" y=\"-140.8\" font-family=\"Times,serif\" font-size=\"14.00\" fill=\"#000000\">3</text>\n</g>\n<!-- __main__.TreeNode object at 0x7f0bb530f450&#45;&gt;__main__.TreeNode object at 0x7f0bb530f890 -->\n<g id=\"edge2\" class=\"edge\">\n<title>__main__.TreeNode object at 0x7f0bb530f450&#45;&gt;__main__.TreeNode object at 0x7f0bb530f890</title>\n<path fill=\"none\" stroke=\"#000000\" d=\"M14.5,-194.7505C14.5,-187.2709 14.5,-177.9819 14.5,-169.4327\"/>\n<polygon fill=\"#000000\" stroke=\"#000000\" points=\"18.0001,-169.1911 14.5,-159.1911 11.0001,-169.1912 18.0001,-169.1911\"/>\n</g>\n<!-- __main__.TreeNode object at 0x7f0bb530f590 -->\n<g id=\"node4\" class=\"node\">\n<title>__main__.TreeNode object at 0x7f0bb530f590</title>\n<ellipse fill=\"none\" stroke=\"#000000\" cx=\"14.5\" cy=\"-79.5\" rx=\"14.5\" ry=\"14.5\"/>\n<text text-anchor=\"middle\" x=\"14.5\" y=\"-75.8\" font-family=\"Times,serif\" font-size=\"14.00\" fill=\"#000000\">4</text>\n</g>\n<!-- __main__.TreeNode object at 0x7f0bb530f890&#45;&gt;__main__.TreeNode object at 0x7f0bb530f590 -->\n<g id=\"edge3\" class=\"edge\">\n<title>__main__.TreeNode object at 0x7f0bb530f890&#45;&gt;__main__.TreeNode object at 0x7f0bb530f590</title>\n<path fill=\"none\" stroke=\"#000000\" d=\"M14.5,-129.7505C14.5,-122.2709 14.5,-112.9819 14.5,-104.4327\"/>\n<polygon fill=\"#000000\" stroke=\"#000000\" points=\"18.0001,-104.1911 14.5,-94.1911 11.0001,-104.1912 18.0001,-104.1911\"/>\n</g>\n<!-- __main__.TreeNode object at 0x7f0bb52a4b90 -->\n<g id=\"node5\" class=\"node\">\n<title>__main__.TreeNode object at 0x7f0bb52a4b90</title>\n<ellipse fill=\"none\" stroke=\"#000000\" cx=\"14.5\" cy=\"-14.5\" rx=\"14.5\" ry=\"14.5\"/>\n<text text-anchor=\"middle\" x=\"14.5\" y=\"-10.8\" font-family=\"Times,serif\" font-size=\"14.00\" fill=\"#000000\">5</text>\n</g>\n<!-- __main__.TreeNode object at 0x7f0bb530f590&#45;&gt;__main__.TreeNode object at 0x7f0bb52a4b90 -->\n<g id=\"edge4\" class=\"edge\">\n<title>__main__.TreeNode object at 0x7f0bb530f590&#45;&gt;__main__.TreeNode object at 0x7f0bb52a4b90</title>\n<path fill=\"none\" stroke=\"#000000\" d=\"M14.5,-64.7505C14.5,-57.2709 14.5,-47.9819 14.5,-39.4327\"/>\n<polygon fill=\"#000000\" stroke=\"#000000\" points=\"18.0001,-39.1911 14.5,-29.1911 11.0001,-39.1912 18.0001,-39.1911\"/>\n</g>\n</g>\n</svg>\n"
          },
          "metadata": {}
        }
      ]
    },
    {
      "cell_type": "markdown",
      "source": [
        "# Autobalanceado en AVL"
      ],
      "metadata": {
        "id": "-0gUqQ43eHfP"
      }
    },
    {
      "cell_type": "code",
      "source": [
        "avl = AVLTree()\n",
        "print(\"Insertar 1, 2, 3, 4, 5, 9\")\n",
        "avl.insert_keys([1, 2, 3, 4, 5, 9])\n",
        "dot = avl.visualize()\n",
        "display(dot)"
      ],
      "metadata": {
        "id": "7Zl6Yf_cHvXG",
        "colab": {
          "base_uri": "https://localhost:8080/",
          "height": 261
        },
        "outputId": "ee366325-d23f-4c36-b549-015623dc72d6"
      },
      "execution_count": 130,
      "outputs": [
        {
          "output_type": "stream",
          "name": "stdout",
          "text": [
            "Insertar 1, 2, 3, 4, 5, 9\n"
          ]
        },
        {
          "output_type": "display_data",
          "data": {
            "text/plain": [
              "<graphviz.dot.Digraph at 0x7f0bb5274fd0>"
            ],
            "image/svg+xml": "<?xml version=\"1.0\" encoding=\"UTF-8\" standalone=\"no\"?>\n<!DOCTYPE svg PUBLIC \"-//W3C//DTD SVG 1.1//EN\"\n \"http://www.w3.org/Graphics/SVG/1.1/DTD/svg11.dtd\">\n<!-- Generated by graphviz version 2.40.1 (20161225.0304)\n -->\n<!-- Title: %3 Pages: 1 -->\n<svg width=\"131pt\" height=\"167pt\"\n viewBox=\"0.00 0.00 131.00 167.00\" xmlns=\"http://www.w3.org/2000/svg\" xmlns:xlink=\"http://www.w3.org/1999/xlink\">\n<g id=\"graph0\" class=\"graph\" transform=\"scale(1 1) rotate(0) translate(4 163)\">\n<title>%3</title>\n<polygon fill=\"#ffffff\" stroke=\"transparent\" points=\"-4,4 -4,-163 127,-163 127,4 -4,4\"/>\n<!-- __main__.TreeNode object at 0x7f0bb53f1e50 -->\n<g id=\"node1\" class=\"node\">\n<title>__main__.TreeNode object at 0x7f0bb53f1e50</title>\n<ellipse fill=\"none\" stroke=\"#000000\" cx=\"84.5\" cy=\"-144.5\" rx=\"14.5\" ry=\"14.5\"/>\n<text text-anchor=\"middle\" x=\"84.5\" y=\"-140.8\" font-family=\"Times,serif\" font-size=\"14.00\" fill=\"#000000\">4</text>\n</g>\n<!-- __main__.TreeNode object at 0x7f0bb53f1f50 -->\n<g id=\"node2\" class=\"node\">\n<title>__main__.TreeNode object at 0x7f0bb53f1f50</title>\n<ellipse fill=\"none\" stroke=\"#000000\" cx=\"61.5\" cy=\"-79.5\" rx=\"14.5\" ry=\"14.5\"/>\n<text text-anchor=\"middle\" x=\"61.5\" y=\"-75.8\" font-family=\"Times,serif\" font-size=\"14.00\" fill=\"#000000\">2</text>\n</g>\n<!-- __main__.TreeNode object at 0x7f0bb53f1e50&#45;&gt;__main__.TreeNode object at 0x7f0bb53f1f50 -->\n<g id=\"edge1\" class=\"edge\">\n<title>__main__.TreeNode object at 0x7f0bb53f1e50&#45;&gt;__main__.TreeNode object at 0x7f0bb53f1f50</title>\n<path fill=\"none\" stroke=\"#000000\" d=\"M79.6223,-130.7152C76.7559,-122.6145 73.0568,-112.1606 69.7488,-102.8119\"/>\n<polygon fill=\"#000000\" stroke=\"#000000\" points=\"73.0061,-101.5246 66.3707,-93.265 66.407,-103.8597 73.0061,-101.5246\"/>\n</g>\n<!-- __main__.TreeNode object at 0x7f0bb5274ed0 -->\n<g id=\"node5\" class=\"node\">\n<title>__main__.TreeNode object at 0x7f0bb5274ed0</title>\n<ellipse fill=\"none\" stroke=\"#000000\" cx=\"108.5\" cy=\"-79.5\" rx=\"14.5\" ry=\"14.5\"/>\n<text text-anchor=\"middle\" x=\"108.5\" y=\"-75.8\" font-family=\"Times,serif\" font-size=\"14.00\" fill=\"#000000\">5</text>\n</g>\n<!-- __main__.TreeNode object at 0x7f0bb53f1e50&#45;&gt;__main__.TreeNode object at 0x7f0bb5274ed0 -->\n<g id=\"edge4\" class=\"edge\">\n<title>__main__.TreeNode object at 0x7f0bb53f1e50&#45;&gt;__main__.TreeNode object at 0x7f0bb5274ed0</title>\n<path fill=\"none\" stroke=\"#000000\" d=\"M89.5898,-130.7152C92.5808,-122.6145 96.4407,-112.1606 99.8925,-102.8119\"/>\n<polygon fill=\"#000000\" stroke=\"#000000\" points=\"103.2371,-103.8583 103.4176,-93.265 96.6704,-101.4336 103.2371,-103.8583\"/>\n</g>\n<!-- __main__.TreeNode object at 0x7f0bb53f1d50 -->\n<g id=\"node3\" class=\"node\">\n<title>__main__.TreeNode object at 0x7f0bb53f1d50</title>\n<ellipse fill=\"none\" stroke=\"#000000\" cx=\"14.5\" cy=\"-14.5\" rx=\"14.5\" ry=\"14.5\"/>\n<text text-anchor=\"middle\" x=\"14.5\" y=\"-10.8\" font-family=\"Times,serif\" font-size=\"14.00\" fill=\"#000000\">1</text>\n</g>\n<!-- __main__.TreeNode object at 0x7f0bb53f1f50&#45;&gt;__main__.TreeNode object at 0x7f0bb53f1d50 -->\n<g id=\"edge2\" class=\"edge\">\n<title>__main__.TreeNode object at 0x7f0bb53f1f50&#45;&gt;__main__.TreeNode object at 0x7f0bb53f1d50</title>\n<path fill=\"none\" stroke=\"#000000\" d=\"M52.8795,-67.578C46.188,-58.3238 36.7622,-45.2881 28.9265,-34.4515\"/>\n<polygon fill=\"#000000\" stroke=\"#000000\" points=\"31.7616,-32.3991 23.0659,-26.3464 26.0891,-36.5008 31.7616,-32.3991\"/>\n</g>\n<!-- __main__.TreeNode object at 0x7f0bb53f1b90 -->\n<g id=\"node4\" class=\"node\">\n<title>__main__.TreeNode object at 0x7f0bb53f1b90</title>\n<ellipse fill=\"none\" stroke=\"#000000\" cx=\"61.5\" cy=\"-14.5\" rx=\"14.5\" ry=\"14.5\"/>\n<text text-anchor=\"middle\" x=\"61.5\" y=\"-10.8\" font-family=\"Times,serif\" font-size=\"14.00\" fill=\"#000000\">3</text>\n</g>\n<!-- __main__.TreeNode object at 0x7f0bb53f1f50&#45;&gt;__main__.TreeNode object at 0x7f0bb53f1b90 -->\n<g id=\"edge3\" class=\"edge\">\n<title>__main__.TreeNode object at 0x7f0bb53f1f50&#45;&gt;__main__.TreeNode object at 0x7f0bb53f1b90</title>\n<path fill=\"none\" stroke=\"#000000\" d=\"M61.5,-64.7505C61.5,-57.2709 61.5,-47.9819 61.5,-39.4327\"/>\n<polygon fill=\"#000000\" stroke=\"#000000\" points=\"65.0001,-39.1911 61.5,-29.1911 58.0001,-39.1912 65.0001,-39.1911\"/>\n</g>\n<!-- __main__.TreeNode object at 0x7f0bb5274810 -->\n<g id=\"node6\" class=\"node\">\n<title>__main__.TreeNode object at 0x7f0bb5274810</title>\n<ellipse fill=\"none\" stroke=\"#000000\" cx=\"108.5\" cy=\"-14.5\" rx=\"14.5\" ry=\"14.5\"/>\n<text text-anchor=\"middle\" x=\"108.5\" y=\"-10.8\" font-family=\"Times,serif\" font-size=\"14.00\" fill=\"#000000\">9</text>\n</g>\n<!-- __main__.TreeNode object at 0x7f0bb5274ed0&#45;&gt;__main__.TreeNode object at 0x7f0bb5274810 -->\n<g id=\"edge5\" class=\"edge\">\n<title>__main__.TreeNode object at 0x7f0bb5274ed0&#45;&gt;__main__.TreeNode object at 0x7f0bb5274810</title>\n<path fill=\"none\" stroke=\"#000000\" d=\"M108.5,-64.7505C108.5,-57.2709 108.5,-47.9819 108.5,-39.4327\"/>\n<polygon fill=\"#000000\" stroke=\"#000000\" points=\"112.0001,-39.1911 108.5,-29.1911 105.0001,-39.1912 112.0001,-39.1911\"/>\n</g>\n</g>\n</svg>\n"
          },
          "metadata": {}
        }
      ]
    },
    {
      "cell_type": "code",
      "source": [
        "print(\"Borrar 3:\")\n",
        "avl.delete(3)\n",
        "dot = avl.visualize()\n",
        "display(dot)"
      ],
      "metadata": {
        "colab": {
          "base_uri": "https://localhost:8080/",
          "height": 261
        },
        "id": "8DYl_6o9u7Iy",
        "outputId": "4c429f94-e449-432d-9b0e-332bd73918a1"
      },
      "execution_count": 131,
      "outputs": [
        {
          "output_type": "stream",
          "name": "stdout",
          "text": [
            "Borrar 3:\n"
          ]
        },
        {
          "output_type": "display_data",
          "data": {
            "text/plain": [
              "<graphviz.dot.Digraph at 0x7f0bb5361710>"
            ],
            "image/svg+xml": "<?xml version=\"1.0\" encoding=\"UTF-8\" standalone=\"no\"?>\n<!DOCTYPE svg PUBLIC \"-//W3C//DTD SVG 1.1//EN\"\n \"http://www.w3.org/Graphics/SVG/1.1/DTD/svg11.dtd\">\n<!-- Generated by graphviz version 2.40.1 (20161225.0304)\n -->\n<!-- Title: %3 Pages: 1 -->\n<svg width=\"84pt\" height=\"167pt\"\n viewBox=\"0.00 0.00 84.00 167.00\" xmlns=\"http://www.w3.org/2000/svg\" xmlns:xlink=\"http://www.w3.org/1999/xlink\">\n<g id=\"graph0\" class=\"graph\" transform=\"scale(1 1) rotate(0) translate(4 163)\">\n<title>%3</title>\n<polygon fill=\"#ffffff\" stroke=\"transparent\" points=\"-4,4 -4,-163 80,-163 80,4 -4,4\"/>\n<!-- __main__.TreeNode object at 0x7f0bb53f1e50 -->\n<g id=\"node1\" class=\"node\">\n<title>__main__.TreeNode object at 0x7f0bb53f1e50</title>\n<ellipse fill=\"none\" stroke=\"#000000\" cx=\"37.5\" cy=\"-144.5\" rx=\"14.5\" ry=\"14.5\"/>\n<text text-anchor=\"middle\" x=\"37.5\" y=\"-140.8\" font-family=\"Times,serif\" font-size=\"14.00\" fill=\"#000000\">4</text>\n</g>\n<!-- __main__.TreeNode object at 0x7f0bb53f1f50 -->\n<g id=\"node2\" class=\"node\">\n<title>__main__.TreeNode object at 0x7f0bb53f1f50</title>\n<ellipse fill=\"none\" stroke=\"#000000\" cx=\"14.5\" cy=\"-79.5\" rx=\"14.5\" ry=\"14.5\"/>\n<text text-anchor=\"middle\" x=\"14.5\" y=\"-75.8\" font-family=\"Times,serif\" font-size=\"14.00\" fill=\"#000000\">2</text>\n</g>\n<!-- __main__.TreeNode object at 0x7f0bb53f1e50&#45;&gt;__main__.TreeNode object at 0x7f0bb53f1f50 -->\n<g id=\"edge1\" class=\"edge\">\n<title>__main__.TreeNode object at 0x7f0bb53f1e50&#45;&gt;__main__.TreeNode object at 0x7f0bb53f1f50</title>\n<path fill=\"none\" stroke=\"#000000\" d=\"M32.6223,-130.7152C29.7559,-122.6145 26.0568,-112.1606 22.7488,-102.8119\"/>\n<polygon fill=\"#000000\" stroke=\"#000000\" points=\"26.0061,-101.5246 19.3707,-93.265 19.407,-103.8597 26.0061,-101.5246\"/>\n</g>\n<!-- __main__.TreeNode object at 0x7f0bb5274ed0 -->\n<g id=\"node4\" class=\"node\">\n<title>__main__.TreeNode object at 0x7f0bb5274ed0</title>\n<ellipse fill=\"none\" stroke=\"#000000\" cx=\"61.5\" cy=\"-79.5\" rx=\"14.5\" ry=\"14.5\"/>\n<text text-anchor=\"middle\" x=\"61.5\" y=\"-75.8\" font-family=\"Times,serif\" font-size=\"14.00\" fill=\"#000000\">5</text>\n</g>\n<!-- __main__.TreeNode object at 0x7f0bb53f1e50&#45;&gt;__main__.TreeNode object at 0x7f0bb5274ed0 -->\n<g id=\"edge3\" class=\"edge\">\n<title>__main__.TreeNode object at 0x7f0bb53f1e50&#45;&gt;__main__.TreeNode object at 0x7f0bb5274ed0</title>\n<path fill=\"none\" stroke=\"#000000\" d=\"M42.5898,-130.7152C45.5808,-122.6145 49.4407,-112.1606 52.8925,-102.8119\"/>\n<polygon fill=\"#000000\" stroke=\"#000000\" points=\"56.2371,-103.8583 56.4176,-93.265 49.6704,-101.4336 56.2371,-103.8583\"/>\n</g>\n<!-- __main__.TreeNode object at 0x7f0bb53f1d50 -->\n<g id=\"node3\" class=\"node\">\n<title>__main__.TreeNode object at 0x7f0bb53f1d50</title>\n<ellipse fill=\"none\" stroke=\"#000000\" cx=\"14.5\" cy=\"-14.5\" rx=\"14.5\" ry=\"14.5\"/>\n<text text-anchor=\"middle\" x=\"14.5\" y=\"-10.8\" font-family=\"Times,serif\" font-size=\"14.00\" fill=\"#000000\">1</text>\n</g>\n<!-- __main__.TreeNode object at 0x7f0bb53f1f50&#45;&gt;__main__.TreeNode object at 0x7f0bb53f1d50 -->\n<g id=\"edge2\" class=\"edge\">\n<title>__main__.TreeNode object at 0x7f0bb53f1f50&#45;&gt;__main__.TreeNode object at 0x7f0bb53f1d50</title>\n<path fill=\"none\" stroke=\"#000000\" d=\"M14.5,-64.7505C14.5,-57.2709 14.5,-47.9819 14.5,-39.4327\"/>\n<polygon fill=\"#000000\" stroke=\"#000000\" points=\"18.0001,-39.1911 14.5,-29.1911 11.0001,-39.1912 18.0001,-39.1911\"/>\n</g>\n<!-- __main__.TreeNode object at 0x7f0bb5274810 -->\n<g id=\"node5\" class=\"node\">\n<title>__main__.TreeNode object at 0x7f0bb5274810</title>\n<ellipse fill=\"none\" stroke=\"#000000\" cx=\"61.5\" cy=\"-14.5\" rx=\"14.5\" ry=\"14.5\"/>\n<text text-anchor=\"middle\" x=\"61.5\" y=\"-10.8\" font-family=\"Times,serif\" font-size=\"14.00\" fill=\"#000000\">9</text>\n</g>\n<!-- __main__.TreeNode object at 0x7f0bb5274ed0&#45;&gt;__main__.TreeNode object at 0x7f0bb5274810 -->\n<g id=\"edge4\" class=\"edge\">\n<title>__main__.TreeNode object at 0x7f0bb5274ed0&#45;&gt;__main__.TreeNode object at 0x7f0bb5274810</title>\n<path fill=\"none\" stroke=\"#000000\" d=\"M61.5,-64.7505C61.5,-57.2709 61.5,-47.9819 61.5,-39.4327\"/>\n<polygon fill=\"#000000\" stroke=\"#000000\" points=\"65.0001,-39.1911 61.5,-29.1911 58.0001,-39.1912 65.0001,-39.1911\"/>\n</g>\n</g>\n</svg>\n"
          },
          "metadata": {}
        }
      ]
    },
    {
      "cell_type": "code",
      "source": [
        "bd=avl.tree_minimum(avl.root.left)\n",
        "dot = avl.visualize()\n",
        "print(\"menor Valor es: \" + bd.to_string())\n",
        "display(dot)"
      ],
      "metadata": {
        "id": "wSRliqbczhnA",
        "colab": {
          "base_uri": "https://localhost:8080/",
          "height": 261
        },
        "outputId": "2c7596ec-a8d6-4b15-dab9-f6035794ac4d"
      },
      "execution_count": 132,
      "outputs": [
        {
          "output_type": "stream",
          "name": "stdout",
          "text": [
            "menor Valor es: 1\n"
          ]
        },
        {
          "output_type": "display_data",
          "data": {
            "text/plain": [
              "<graphviz.dot.Digraph at 0x7f0bb533db10>"
            ],
            "image/svg+xml": "<?xml version=\"1.0\" encoding=\"UTF-8\" standalone=\"no\"?>\n<!DOCTYPE svg PUBLIC \"-//W3C//DTD SVG 1.1//EN\"\n \"http://www.w3.org/Graphics/SVG/1.1/DTD/svg11.dtd\">\n<!-- Generated by graphviz version 2.40.1 (20161225.0304)\n -->\n<!-- Title: %3 Pages: 1 -->\n<svg width=\"84pt\" height=\"167pt\"\n viewBox=\"0.00 0.00 84.00 167.00\" xmlns=\"http://www.w3.org/2000/svg\" xmlns:xlink=\"http://www.w3.org/1999/xlink\">\n<g id=\"graph0\" class=\"graph\" transform=\"scale(1 1) rotate(0) translate(4 163)\">\n<title>%3</title>\n<polygon fill=\"#ffffff\" stroke=\"transparent\" points=\"-4,4 -4,-163 80,-163 80,4 -4,4\"/>\n<!-- __main__.TreeNode object at 0x7f0bb53f1e50 -->\n<g id=\"node1\" class=\"node\">\n<title>__main__.TreeNode object at 0x7f0bb53f1e50</title>\n<ellipse fill=\"none\" stroke=\"#000000\" cx=\"37.5\" cy=\"-144.5\" rx=\"14.5\" ry=\"14.5\"/>\n<text text-anchor=\"middle\" x=\"37.5\" y=\"-140.8\" font-family=\"Times,serif\" font-size=\"14.00\" fill=\"#000000\">4</text>\n</g>\n<!-- __main__.TreeNode object at 0x7f0bb53f1f50 -->\n<g id=\"node2\" class=\"node\">\n<title>__main__.TreeNode object at 0x7f0bb53f1f50</title>\n<ellipse fill=\"none\" stroke=\"#000000\" cx=\"14.5\" cy=\"-79.5\" rx=\"14.5\" ry=\"14.5\"/>\n<text text-anchor=\"middle\" x=\"14.5\" y=\"-75.8\" font-family=\"Times,serif\" font-size=\"14.00\" fill=\"#000000\">2</text>\n</g>\n<!-- __main__.TreeNode object at 0x7f0bb53f1e50&#45;&gt;__main__.TreeNode object at 0x7f0bb53f1f50 -->\n<g id=\"edge1\" class=\"edge\">\n<title>__main__.TreeNode object at 0x7f0bb53f1e50&#45;&gt;__main__.TreeNode object at 0x7f0bb53f1f50</title>\n<path fill=\"none\" stroke=\"#000000\" d=\"M32.6223,-130.7152C29.7559,-122.6145 26.0568,-112.1606 22.7488,-102.8119\"/>\n<polygon fill=\"#000000\" stroke=\"#000000\" points=\"26.0061,-101.5246 19.3707,-93.265 19.407,-103.8597 26.0061,-101.5246\"/>\n</g>\n<!-- __main__.TreeNode object at 0x7f0bb5274ed0 -->\n<g id=\"node4\" class=\"node\">\n<title>__main__.TreeNode object at 0x7f0bb5274ed0</title>\n<ellipse fill=\"none\" stroke=\"#000000\" cx=\"61.5\" cy=\"-79.5\" rx=\"14.5\" ry=\"14.5\"/>\n<text text-anchor=\"middle\" x=\"61.5\" y=\"-75.8\" font-family=\"Times,serif\" font-size=\"14.00\" fill=\"#000000\">5</text>\n</g>\n<!-- __main__.TreeNode object at 0x7f0bb53f1e50&#45;&gt;__main__.TreeNode object at 0x7f0bb5274ed0 -->\n<g id=\"edge3\" class=\"edge\">\n<title>__main__.TreeNode object at 0x7f0bb53f1e50&#45;&gt;__main__.TreeNode object at 0x7f0bb5274ed0</title>\n<path fill=\"none\" stroke=\"#000000\" d=\"M42.5898,-130.7152C45.5808,-122.6145 49.4407,-112.1606 52.8925,-102.8119\"/>\n<polygon fill=\"#000000\" stroke=\"#000000\" points=\"56.2371,-103.8583 56.4176,-93.265 49.6704,-101.4336 56.2371,-103.8583\"/>\n</g>\n<!-- __main__.TreeNode object at 0x7f0bb53f1d50 -->\n<g id=\"node3\" class=\"node\">\n<title>__main__.TreeNode object at 0x7f0bb53f1d50</title>\n<ellipse fill=\"none\" stroke=\"#000000\" cx=\"14.5\" cy=\"-14.5\" rx=\"14.5\" ry=\"14.5\"/>\n<text text-anchor=\"middle\" x=\"14.5\" y=\"-10.8\" font-family=\"Times,serif\" font-size=\"14.00\" fill=\"#000000\">1</text>\n</g>\n<!-- __main__.TreeNode object at 0x7f0bb53f1f50&#45;&gt;__main__.TreeNode object at 0x7f0bb53f1d50 -->\n<g id=\"edge2\" class=\"edge\">\n<title>__main__.TreeNode object at 0x7f0bb53f1f50&#45;&gt;__main__.TreeNode object at 0x7f0bb53f1d50</title>\n<path fill=\"none\" stroke=\"#000000\" d=\"M14.5,-64.7505C14.5,-57.2709 14.5,-47.9819 14.5,-39.4327\"/>\n<polygon fill=\"#000000\" stroke=\"#000000\" points=\"18.0001,-39.1911 14.5,-29.1911 11.0001,-39.1912 18.0001,-39.1911\"/>\n</g>\n<!-- __main__.TreeNode object at 0x7f0bb5274810 -->\n<g id=\"node5\" class=\"node\">\n<title>__main__.TreeNode object at 0x7f0bb5274810</title>\n<ellipse fill=\"none\" stroke=\"#000000\" cx=\"61.5\" cy=\"-14.5\" rx=\"14.5\" ry=\"14.5\"/>\n<text text-anchor=\"middle\" x=\"61.5\" y=\"-10.8\" font-family=\"Times,serif\" font-size=\"14.00\" fill=\"#000000\">9</text>\n</g>\n<!-- __main__.TreeNode object at 0x7f0bb5274ed0&#45;&gt;__main__.TreeNode object at 0x7f0bb5274810 -->\n<g id=\"edge4\" class=\"edge\">\n<title>__main__.TreeNode object at 0x7f0bb5274ed0&#45;&gt;__main__.TreeNode object at 0x7f0bb5274810</title>\n<path fill=\"none\" stroke=\"#000000\" d=\"M61.5,-64.7505C61.5,-57.2709 61.5,-47.9819 61.5,-39.4327\"/>\n<polygon fill=\"#000000\" stroke=\"#000000\" points=\"65.0001,-39.1911 61.5,-29.1911 58.0001,-39.1912 65.0001,-39.1911\"/>\n</g>\n</g>\n</svg>\n"
          },
          "metadata": {}
        }
      ]
    },
    {
      "cell_type": "code",
      "source": [
        "bd=avl.tree_max(avl.root.right)\n",
        "dot = avl.visualize()\n",
        "print(\"mayor Valor es: \" + bd.to_string())\n",
        "display(dot)"
      ],
      "metadata": {
        "id": "Q4BAGkZA7KXo",
        "outputId": "286d1b1c-193f-4112-e4c6-5da91ac7179c",
        "colab": {
          "base_uri": "https://localhost:8080/",
          "height": 261
        }
      },
      "execution_count": 133,
      "outputs": [
        {
          "output_type": "stream",
          "name": "stdout",
          "text": [
            "mayor Valor es: 9\n"
          ]
        },
        {
          "output_type": "display_data",
          "data": {
            "text/plain": [
              "<graphviz.dot.Digraph at 0x7f0bb55e4fd0>"
            ],
            "image/svg+xml": "<?xml version=\"1.0\" encoding=\"UTF-8\" standalone=\"no\"?>\n<!DOCTYPE svg PUBLIC \"-//W3C//DTD SVG 1.1//EN\"\n \"http://www.w3.org/Graphics/SVG/1.1/DTD/svg11.dtd\">\n<!-- Generated by graphviz version 2.40.1 (20161225.0304)\n -->\n<!-- Title: %3 Pages: 1 -->\n<svg width=\"84pt\" height=\"167pt\"\n viewBox=\"0.00 0.00 84.00 167.00\" xmlns=\"http://www.w3.org/2000/svg\" xmlns:xlink=\"http://www.w3.org/1999/xlink\">\n<g id=\"graph0\" class=\"graph\" transform=\"scale(1 1) rotate(0) translate(4 163)\">\n<title>%3</title>\n<polygon fill=\"#ffffff\" stroke=\"transparent\" points=\"-4,4 -4,-163 80,-163 80,4 -4,4\"/>\n<!-- __main__.TreeNode object at 0x7f0bb53f1e50 -->\n<g id=\"node1\" class=\"node\">\n<title>__main__.TreeNode object at 0x7f0bb53f1e50</title>\n<ellipse fill=\"none\" stroke=\"#000000\" cx=\"37.5\" cy=\"-144.5\" rx=\"14.5\" ry=\"14.5\"/>\n<text text-anchor=\"middle\" x=\"37.5\" y=\"-140.8\" font-family=\"Times,serif\" font-size=\"14.00\" fill=\"#000000\">4</text>\n</g>\n<!-- __main__.TreeNode object at 0x7f0bb53f1f50 -->\n<g id=\"node2\" class=\"node\">\n<title>__main__.TreeNode object at 0x7f0bb53f1f50</title>\n<ellipse fill=\"none\" stroke=\"#000000\" cx=\"14.5\" cy=\"-79.5\" rx=\"14.5\" ry=\"14.5\"/>\n<text text-anchor=\"middle\" x=\"14.5\" y=\"-75.8\" font-family=\"Times,serif\" font-size=\"14.00\" fill=\"#000000\">2</text>\n</g>\n<!-- __main__.TreeNode object at 0x7f0bb53f1e50&#45;&gt;__main__.TreeNode object at 0x7f0bb53f1f50 -->\n<g id=\"edge1\" class=\"edge\">\n<title>__main__.TreeNode object at 0x7f0bb53f1e50&#45;&gt;__main__.TreeNode object at 0x7f0bb53f1f50</title>\n<path fill=\"none\" stroke=\"#000000\" d=\"M32.6223,-130.7152C29.7559,-122.6145 26.0568,-112.1606 22.7488,-102.8119\"/>\n<polygon fill=\"#000000\" stroke=\"#000000\" points=\"26.0061,-101.5246 19.3707,-93.265 19.407,-103.8597 26.0061,-101.5246\"/>\n</g>\n<!-- __main__.TreeNode object at 0x7f0bb5274ed0 -->\n<g id=\"node4\" class=\"node\">\n<title>__main__.TreeNode object at 0x7f0bb5274ed0</title>\n<ellipse fill=\"none\" stroke=\"#000000\" cx=\"61.5\" cy=\"-79.5\" rx=\"14.5\" ry=\"14.5\"/>\n<text text-anchor=\"middle\" x=\"61.5\" y=\"-75.8\" font-family=\"Times,serif\" font-size=\"14.00\" fill=\"#000000\">5</text>\n</g>\n<!-- __main__.TreeNode object at 0x7f0bb53f1e50&#45;&gt;__main__.TreeNode object at 0x7f0bb5274ed0 -->\n<g id=\"edge3\" class=\"edge\">\n<title>__main__.TreeNode object at 0x7f0bb53f1e50&#45;&gt;__main__.TreeNode object at 0x7f0bb5274ed0</title>\n<path fill=\"none\" stroke=\"#000000\" d=\"M42.5898,-130.7152C45.5808,-122.6145 49.4407,-112.1606 52.8925,-102.8119\"/>\n<polygon fill=\"#000000\" stroke=\"#000000\" points=\"56.2371,-103.8583 56.4176,-93.265 49.6704,-101.4336 56.2371,-103.8583\"/>\n</g>\n<!-- __main__.TreeNode object at 0x7f0bb53f1d50 -->\n<g id=\"node3\" class=\"node\">\n<title>__main__.TreeNode object at 0x7f0bb53f1d50</title>\n<ellipse fill=\"none\" stroke=\"#000000\" cx=\"14.5\" cy=\"-14.5\" rx=\"14.5\" ry=\"14.5\"/>\n<text text-anchor=\"middle\" x=\"14.5\" y=\"-10.8\" font-family=\"Times,serif\" font-size=\"14.00\" fill=\"#000000\">1</text>\n</g>\n<!-- __main__.TreeNode object at 0x7f0bb53f1f50&#45;&gt;__main__.TreeNode object at 0x7f0bb53f1d50 -->\n<g id=\"edge2\" class=\"edge\">\n<title>__main__.TreeNode object at 0x7f0bb53f1f50&#45;&gt;__main__.TreeNode object at 0x7f0bb53f1d50</title>\n<path fill=\"none\" stroke=\"#000000\" d=\"M14.5,-64.7505C14.5,-57.2709 14.5,-47.9819 14.5,-39.4327\"/>\n<polygon fill=\"#000000\" stroke=\"#000000\" points=\"18.0001,-39.1911 14.5,-29.1911 11.0001,-39.1912 18.0001,-39.1911\"/>\n</g>\n<!-- __main__.TreeNode object at 0x7f0bb5274810 -->\n<g id=\"node5\" class=\"node\">\n<title>__main__.TreeNode object at 0x7f0bb5274810</title>\n<ellipse fill=\"none\" stroke=\"#000000\" cx=\"61.5\" cy=\"-14.5\" rx=\"14.5\" ry=\"14.5\"/>\n<text text-anchor=\"middle\" x=\"61.5\" y=\"-10.8\" font-family=\"Times,serif\" font-size=\"14.00\" fill=\"#000000\">9</text>\n</g>\n<!-- __main__.TreeNode object at 0x7f0bb5274ed0&#45;&gt;__main__.TreeNode object at 0x7f0bb5274810 -->\n<g id=\"edge4\" class=\"edge\">\n<title>__main__.TreeNode object at 0x7f0bb5274ed0&#45;&gt;__main__.TreeNode object at 0x7f0bb5274810</title>\n<path fill=\"none\" stroke=\"#000000\" d=\"M61.5,-64.7505C61.5,-57.2709 61.5,-47.9819 61.5,-39.4327\"/>\n<polygon fill=\"#000000\" stroke=\"#000000\" points=\"65.0001,-39.1911 61.5,-29.1911 58.0001,-39.1912 65.0001,-39.1911\"/>\n</g>\n</g>\n</svg>\n"
          },
          "metadata": {}
        }
      ]
    },
    {
      "cell_type": "markdown",
      "source": [
        "# Animación en GraphViz"
      ],
      "metadata": {
        "id": "vBrbGGQie9ws"
      }
    },
    {
      "cell_type": "code",
      "source": [
        "from numpy.random import seed, randint\n",
        "from ipywidgets import interactive_output\n",
        "from ipywidgets import HBox, VBox, Layout, Tab, Output, BoundedIntText, Button, HTML\n",
        "from IPython.display import display, clear_output, SVG\n",
        "from graphviz import Digraph\n",
        "import pydot\n",
        "\n",
        "# BST\n",
        "tree = BST() \n",
        "\n",
        "# Output objects\n",
        "out, out1, out2, out3 = Output(), Output(), Output(), Output() \n",
        "tab = Tab(children = [out1, out2], \n",
        "                  layout=Layout(width='100%', height='auto'))\n",
        "tab.set_title(0, 'AVL Tree')\n",
        "tab.set_title(1, 'B-Tree')\n",
        "\n",
        "# Input field for keys\n",
        "ui_key = BoundedIntText(value=20, min=0, max=100, \n",
        "                        step=2, description='Enter Key:', disabled=False)\n",
        "# Buttons\n",
        "btn_insert = Button(description='Insert', button_style='success')\n",
        "def on_button_insert_clicked(b):\n",
        "    with out:\n",
        "        clear_output()\n",
        "        print(\"Insert: %d\" % (ui_key.value)) \n",
        "        tree.insert(ui_key.value)\n",
        "        BSTViz(tree).visualize()      \n",
        "btn_insert.on_click(on_button_insert_clicked)\n",
        "\n",
        "btn_delete = Button(description='Delete', button_style='primary')\n",
        "def on_button_delete_clicked(b):\n",
        "    with out:\n",
        "        clear_output()\n",
        "        print(\"Delete: %d\" % (ui_key.value)) \n",
        "        tree.delete(ui_key.value)\n",
        "        BSTViz(tree).visualize()        \n",
        "btn_delete.on_click(on_button_delete_clicked)\n",
        "\n",
        "btn_clear = Button(description='Clear', button_style='danger')\n",
        "def on_button_clear_clicked(b):\n",
        "    with out:\n",
        "        clear_output()\n",
        "        tree.root = None \n",
        "btn_clear.on_click(on_button_clear_clicked)\n",
        "\n",
        "btn_search = Button(description='Search', button_style='info')\n",
        "def on_button_search_clicked(b):\n",
        "    with out:\n",
        "        clear_output()\n",
        "        if (tree is None):\n",
        "            print(\"No tree selected!\")\n",
        "        else:\n",
        "            print(\"Search: %d\" % (ui_key.value)) \n",
        "            foundnode = tree.find(ui_key.value)\n",
        "            if (foundnode != None):\n",
        "                print(\"Found: %d is in tree\" % (ui_key.value)) \n",
        "                BSTViz(tree).visualize()  \n",
        "            else:\n",
        "                print(\"Not found: %d not in tree\" % (ui_key.value)) \n",
        "                BSTViz(tree).visualize()  \n",
        "            \n",
        "btn_search.on_click(on_button_search_clicked)\n",
        "\n",
        "btn_rnd = Button(description='Random', button_style='warning')\n",
        "seed(1) # Set the seed for the random number generator\n",
        "def on_button_rnd_clicked(b):\n",
        "    with out:\n",
        "        clear_output()\n",
        "        tree.root = None\n",
        "        keys = randint(1, 50, 7)\n",
        "        for key in keys:\n",
        "            tree.insert(key)\n",
        "        BSTViz(tree).visualize()  \n",
        "btn_rnd.on_click(on_button_rnd_clicked)\n",
        "\n",
        "# Layout\n",
        "layout_displ=Layout(height='350px', border='1px dotted blue', overflow ='auto')\n",
        "layout_ctrl=Layout(height='50px')\n",
        "\n",
        "\n",
        "# AVL tree\n",
        "avl = AVLTree()\n",
        "# Buttons\n",
        "btn_insert_avl = Button(description='Insert', button_style='success')\n",
        "def on_button_insert_avl_clicked(b):\n",
        "    with out:\n",
        "        clear_output()\n",
        "        avl.insert(ui_key.value)\n",
        "        AVLViz(avl).visualize()       \n",
        "btn_insert_avl.on_click(on_button_insert_avl_clicked)\n",
        "\n",
        "btn_delete_avl = Button(description='Delete', button_style='primary')\n",
        "def on_button_delete_avl_clicked(b):\n",
        "    with out:\n",
        "        clear_output()\n",
        "        avl.delete(ui_key.value)\n",
        "        AVLViz(avl).visualize()        \n",
        "btn_delete_avl.on_click(on_button_delete_avl_clicked)\n",
        "\n",
        "btn_rnd_avl = Button(description='Random', button_style='warning')\n",
        "seed(1) # Set the seed for the random number generator\n",
        "def on_button_rnd_avl_clicked(b):\n",
        "    with out:\n",
        "        clear_output()\n",
        "        avl.root = None\n",
        "        keys = randint(1, 50, 7)    \n",
        "        avl.insert_keys(keys)        \n",
        "        AVLViz(avl).visualize()  \n",
        "btn_rnd_avl.on_click(on_button_rnd_avl_clicked)\n",
        "\n",
        "btn_clear_avl = Button(description='Clear', button_style='danger')\n",
        "def on_button_clear_avl_clicked(b):\n",
        "    with out:\n",
        "        clear_output()\n",
        "        avl.root = None \n",
        "btn_clear_avl.on_click(on_button_clear_avl_clicked)\n",
        "\n",
        "with out1: \n",
        "    msgbox = HTML(\"<p></p>\")\n",
        "    displ = HBox([out], layout=layout_displ)\n",
        "    ctrl = HBox([ui_key, btn_insert_avl, btn_delete_avl, btn_clear_avl], layout=layout_ctrl)\n",
        "    display(VBox([displ, msgbox, ctrl]))\n",
        "with out2:\n",
        "    htm = HTML(\"<h1>TODO</h1><p>Insert your code here</p>\")\n",
        "    display(htm)  \n",
        "display(tab)"
      ],
      "metadata": {
        "colab": {
          "base_uri": "https://localhost:8080/",
          "height": 509,
          "referenced_widgets": [
            "63fa3714b8ae419c8b462b35dba2c50a",
            "0a9e908480d44dfba521c421c53d8658",
            "ea70ef264481454ba5573d85afd94aca",
            "6d49b56f1e474a08976e053edddb0b71",
            "81e2774561ec4516a8230c38cd3661f4",
            "71279dbefd53423ead615a5dbe2cea00",
            "e6299c2b08d54359b3fc26c950b5051f",
            "40ff7f7a11974b96b1756240c8db5f72",
            "2a0a33332dbd4a5cbaeb6233e6eb49f9",
            "0244f879773c429ba082838f1763ac03",
            "f1aaaec9f6d04a1a994d0cb054f73606",
            "7cf06986659740e4b82d62a6649eafa8",
            "22b10aee9bfc4d5995e8dba6fdf83789",
            "92d2103cc967439d9f22ff462cc677c8",
            "4b279f7d1ae24b27a3f087c2cb14baf4",
            "0a1c7e40f5734a069285310197bcc823",
            "0a85ae32f7b0462792d98752844ba1e9",
            "5072f9ea52b24e81b53fe1fae063176d",
            "8c6745baa9294760a13c164d561fdc15",
            "dfba4f34a31640f3a78d97125a4af430",
            "058266c3d415422989884f05859b5de1",
            "7cf3d651a27b4ec89f875161e9f14fcb",
            "03036d1245af49b595c4966bb4895f19",
            "447b8a0d8afd41b4aa94e6f6ecbd0eb6",
            "41a5315d8781496a94da0c96afc65c9e",
            "f089ec98860046cd954da5d4bb716b08",
            "bc4e93613fb24aab9343c24c17b4a122",
            "1893a173a2204fc1b08a4839a1dadeee",
            "18f3b1337ba94c32bb9cb96010c0d3df",
            "b31097c5bda3477298893de51365e252",
            "6bc3f371fb4b4d719d62198fa6856d14",
            "137ade6adfaf4dce9b6f18e0ea5994da"
          ]
        },
        "id": "U-ilQEsdaifj",
        "outputId": "30bfa3db-d1c3-4ae1-ce98-3387273ea821"
      },
      "execution_count": 134,
      "outputs": [
        {
          "output_type": "display_data",
          "data": {
            "text/plain": [
              "Tab(children=(Output(), Output()), layout=Layout(height='auto', width='100%'), _titles={'0': 'AVL Tree', '1': …"
            ],
            "application/vnd.jupyter.widget-view+json": {
              "version_major": 2,
              "version_minor": 0,
              "model_id": "63fa3714b8ae419c8b462b35dba2c50a"
            }
          },
          "metadata": {}
        }
      ]
    }
  ]
}